{
 "cells": [
  {
   "cell_type": "markdown",
   "metadata": {},
   "source": [
    "## Funktion zum Aufrufen des KI-Modells\n",
    "Das Modell soll in einem Docker-Container laufen, der dann mit Hilfe von Azure Functions implementiert wird und durch Power Apps getriggert wird. \n",
    "Die vorhergesagte Artikelnummer wird dann an Dynamics 365 übergeben, um die restlichen Artikelinformationen zu erhalten: \n",
    "\n",
    "- Artikelname\n",
    "- Projektnummer\n",
    "- Artikelbild\n",
    "- Hersteller\n",
    "- Regalnummer\n",
    "\n",
    "In der Power App wird dann die Richtigkeit des erkannten Artikels durch den Benutzer bestätigt und es wird an Dynamics 365 übermittelt, welche Menge verbucht werden soll.\n",
    "\n",
    "### Anleitung\n",
    "- https://docs.microsoft.com/en-us/azure/developer/python/tutorial-vs-code-serverless-python-01#azure-functions-core-tools"
   ]
  },
  {
   "cell_type": "code",
   "execution_count": null,
   "metadata": {},
   "outputs": [],
   "source": [
    "# from fastai.vision import * (falls Probleme mit Requirements bestehen)\n",
    "from fastai.basic_train import load_learner\n",
    "from fastai.vision import open_image\n",
    "\n",
    "def Vorhersage(Artikelfoto, Speicherort_KI_Modell, Name_KI_Modell):\n",
    "    # Laden des trainierten KI-Modells\n",
    "    learn = load_learner(path=Speicherort_KI_Modell, file=Name_KI_Modell)\n",
    "    classes = learn.data.classes\n",
    "\n",
    "    # Aufrufen der Predict-Funktion für das hochgeladene Artikelfoto\n",
    "    prediction = learn.predict(open_image(Artikelfoto))\n",
    "    probs_list = prediction[2].numpy()\n",
    "    return {\n",
    "        'category': classes[prediction[1].item()],\n",
    "        'probs': {c: round(float(probs_list[i]), 5) for (i, c) in enumerate(classes)}\n",
    "    }\n",
    "    return (Artikelnummer)\n",
    "\n",
    "# Beispiel mit Google Drive von PJS_API-Account (mounted at 'drive/My Drive/MVP Datensatz')\n",
    "\n",
    "# Vorhersage('Testbilder/P1040695.JPG', 'Deployment', 'demo.pkl')\n",
    "\n",
    "# Output:\n",
    "# {'category': 'Art2',\n",
    "#  'probs': {'Art1': 0.0,\n",
    "#   'Art2': 0.99999,\n",
    "#   'Art3': 0.0,\n",
    "#   'Art4': 0.0,\n",
    "#   'Art5': 0.0}}"
   ]
  },
  {
   "cell_type": "markdown",
   "metadata": {},
   "source": [
    " ## Funktion zum Training des KI-Modells"
   ]
  },
  {
   "cell_type": "code",
   "execution_count": null,
   "metadata": {},
   "outputs": [],
   "source": [
    "def Training(Artikelfoto_1,Artikelfoto_2,Artikelfoto_3,Artikelfoto_4,Artikelfoto_5, Vorhandenes_Modell = False, Artikelfoto_Datenbank):\n",
    "    # Vorbereitung der erhaltenen Artikelfotos (Drehen, Vergrößern, Verkleinern, etc.), um mehr Trainingsdaten zu generieren \n",
    "    # Pipeline für das (Weiter-)Training des KI-Modells\n",
    "    if Vorhandenes_Modell != False:\n",
    "        # Speichern der neuen Artikelfotos in der Artikelfoto_Datenbank\n",
    "        # Aufrufen aller in der Artikelfoto_Datenbank hinterlegten Fotos und Training eines KI-Modells\n",
    "    else:\n",
    "        # Laden des vorhandenen Modells und Ergänzen der neuen Artikelfotos \n",
    "    return (KI-Modell)"
   ]
  }
 ],
 "metadata": {
  "kernelspec": {
   "display_name": "Python 3",
   "language": "python",
   "name": "python3"
  },
  "language_info": {
   "codemirror_mode": {
    "name": "ipython",
    "version": 3
   },
   "file_extension": ".py",
   "mimetype": "text/x-python",
   "name": "python",
   "nbconvert_exporter": "python",
   "pygments_lexer": "ipython3",
   "version": "3.7.4"
  }
 },
 "nbformat": 4,
 "nbformat_minor": 2
}
