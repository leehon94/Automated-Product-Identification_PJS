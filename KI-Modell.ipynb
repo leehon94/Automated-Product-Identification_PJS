{
 "cells": [
  {
   "cell_type": "markdown",
   "metadata": {},
   "source": [
    "## Funktion zum Aufrufen des KI-Modells\n",
    "Das Modell soll in einem Docker-Container laufen, der dann mit Hilfe von Azure Functions implementiert wird und durch Power Apps getriggert wird. \n",
    "Die vorhergesagte Artikelnummer wird dann an Dynamics 365 übergeben, um die restlichen Artikelinformationen zu erhalten: \n",
    "\n",
    "- Artikelname\n",
    "- Projektnummer\n",
    "- Artikelbild\n",
    "- Hersteller\n",
    "- Regalnummer\n",
    "\n",
    "In der Power App wird dann die Richtigkeit des erkannten Artikels durch den Benutzer bestätigt und es wird an Dynamics 365 übermittelt, welche Menge verbucht werden soll.\n",
    "\n",
    "### Anleitung\n",
    "- https://docs.microsoft.com/en-us/azure/developer/python/tutorial-vs-code-serverless-python-01#azure-functions-core-tools"
   ]
  },
  {
   "cell_type": "code",
   "execution_count": null,
   "metadata": {},
   "outputs": [],
   "source": [
    "def Vorhersage(Artikelfoto, Speicherort_KI_Modell):\n",
    "    # Laden des trainierten KI-Modells\n",
    "\n",
    "\n",
    "    # Aufrufen der Predict-Funktion für das hochgeladene Artikelfoto\n",
    "    \n",
    "    return (Artikelnummer)"
   ]
  },
  {
   "cell_type": "markdown",
   "metadata": {},
   "source": [
    " ## Funktion zum Training des KI-Modells"
   ]
  },
  {
   "cell_type": "code",
   "execution_count": null,
   "metadata": {},
   "outputs": [],
   "source": [
    "def Training(Artikelfoto_1,Artikelfoto_2,Artikelfoto_3,Artikelfoto_4,Artikelfoto_5, Vorhandenes_Modell = False, Artikelfoto_Datenbank):\n",
    "    # Vorbereitung der erhaltenen Artikelfotos (Drehen, Vergrößern, Verkleinern, etc.), um mehr Trainingsdaten zu generieren \n",
    "    # Pipeline für das (Weiter-)Training des KI-Modells\n",
    "    if Vorhandenes_Modell != False:\n",
    "        # Speichern der neuen Artikelfotos in der Artikelfoto_Datenbank\n",
    "        # Aufrufen aller in der Artikelfoto_Datenbank hinterlegten Fotos und Training eines KI-Modells\n",
    "    else:\n",
    "        # Laden des vorhandenen Modells und Ergänzen der neuen Artikelfotos \n",
    "    return (KI-Modell)"
   ]
  }
 ],
 "metadata": {
  "language_info": {
   "codemirror_mode": {
    "name": "ipython",
    "version": 3
   },
   "file_extension": ".py",
   "mimetype": "text/x-python",
   "name": "python",
   "nbconvert_exporter": "python",
   "pygments_lexer": "ipython3",
   "version": 3
  },
  "orig_nbformat": 2
 },
 "nbformat": 4,
 "nbformat_minor": 2
}