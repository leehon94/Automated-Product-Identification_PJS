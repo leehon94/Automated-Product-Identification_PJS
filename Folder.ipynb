{
 "cells": [
  {
   "cell_type": "markdown",
   "metadata": {},
   "source": [
    "## Automatische Bennenung der Fotos in einem Ordner\n",
    "Zugeschnitten für 14 Fotos in 4 Richtungen. Für das Deployment könnte die Namensnennung \"Artikelnummer_i\" sein mit i = Anzahl der Artikelfotos. "
   ]
  },
  {
   "cell_type": "code",
   "execution_count": null,
   "metadata": {
    "tags": [
     "outputPrepend",
     "outputPrepend",
     "outputPrepend",
     "outputPrepend",
     "outputPrepend",
     "outputPrepend",
     "outputPrepend",
     "outputPrepend",
     "outputPrepend",
     "outputPrepend",
     "outputPrepend",
     "outputPrepend",
     "outputPrepend"
    ]
   },
   "outputs": [],
   "source": [
    "import os\n",
    "\n",
    "path_var = \"\" # Hier den Pfadnamen zum Ordner einfügen\n",
    "i, j, a = 0, 0, 0\n",
    "i_q = [\"01\",\"02\",\"03\",\"04\",\"05\",\"06\",\"07\",\"08\",\"09\",\"10\",\"11\",\"12\",\"13\",\"14\"]\n",
    "i_r = [\"01\",\"02\",\"03\",\"04\"]\n",
    "i_s = []\n",
    "\n",
    "\n",
    "while i < len(i_q):\n",
    "    while j < len(i_r):\n",
    "        i_s.append(i_q[i] + \"_\" + i_r[j])\n",
    "        j += 1\n",
    "    i += 1\n",
    "    j = 0\n",
    "\n",
    "for filename in os.listdir(path_var): \n",
    "    ziel = path_var + i_s[a] + \".jpg\" # Dateiformat anpassen (PNG bzw. JPG)\n",
    "    quelle = path_var + filename\n",
    "    os.rename(quelle, ziel) \n",
    "    a += 1"
   ]
  }
 ],
 "metadata": {
  "language_info": {
   "codemirror_mode": {
    "name": "ipython",
    "version": 3
   },
   "file_extension": ".py",
   "mimetype": "text/x-python",
   "name": "python",
   "nbconvert_exporter": "python",
   "pygments_lexer": "ipython3",
   "version": "3.8.2-final"
  },
  "orig_nbformat": 2,
  "kernelspec": {
   "name": "python38264bitb9fd93a5cbba4e3c9b27c2f16689a25b",
   "display_name": "Python 3.8.2 64-bit"
  }
 },
 "nbformat": 4,
 "nbformat_minor": 2
}