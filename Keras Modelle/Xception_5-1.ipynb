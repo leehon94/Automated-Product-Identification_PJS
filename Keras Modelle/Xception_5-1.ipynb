{
  "nbformat": 4,
  "nbformat_minor": 0,
  "metadata": {
    "colab": {
      "name": "Copy of Xception PJS.ipynb",
      "provenance": [],
      "toc_visible": true
    },
    "kernelspec": {
      "name": "python3",
      "display_name": "Python 3"
    },
    "accelerator": "GPU"
  },
  "cells": [
    {
      "cell_type": "markdown",
      "metadata": {
        "id": "wyCRPwgN9Y8T",
        "colab_type": "text"
      },
      "source": [
        "#Set up Colab and Drive for Project"
      ]
    },
    {
      "cell_type": "code",
      "metadata": {
        "id": "Hd_Nmme2qOht",
        "colab_type": "code",
        "outputId": "7ef363ef-3144-4990-f85b-d8a13d5575a1",
        "colab": {
          "base_uri": "https://localhost:8080/",
          "height": 54
        }
      },
      "source": [
        "from google.colab import drive \n",
        "drive.mount('/content/gdrive')"
      ],
      "execution_count": 69,
      "outputs": [
        {
          "output_type": "stream",
          "text": [
            "Drive already mounted at /content/gdrive; to attempt to forcibly remount, call drive.mount(\"/content/gdrive\", force_remount=True).\n"
          ],
          "name": "stdout"
        }
      ]
    },
    {
      "cell_type": "code",
      "metadata": {
        "id": "OX7MEh9W91i0",
        "colab_type": "code",
        "colab": {
          "base_uri": "https://localhost:8080/",
          "height": 34
        },
        "outputId": "31e60c4b-98e6-4fdc-9dc3-70a56117da5a"
      },
      "source": [
        "%cd '/content/gdrive/My Drive/MVP Datensatz/'\n",
        "train_dir = 'Trainingsdatensatz5'"
      ],
      "execution_count": 70,
      "outputs": [
        {
          "output_type": "stream",
          "text": [
            "/content/gdrive/My Drive/MVP Datensatz\n"
          ],
          "name": "stdout"
        }
      ]
    },
    {
      "cell_type": "code",
      "metadata": {
        "id": "ozlhf6PVMyAe",
        "colab_type": "code",
        "colab": {}
      },
      "source": [
        "from keras import optimizers\n",
        "from keras import layers\n",
        "from keras import models\n",
        "from keras import initializers\n",
        "\n",
        "import os\n",
        "import numpy as np\n",
        "from keras.preprocessing.image import ImageDataGenerator\n",
        "from keras.preprocessing import image\n",
        "from keras import backend as K\n"
      ],
      "execution_count": 0,
      "outputs": []
    },
    {
      "cell_type": "markdown",
      "metadata": {
        "id": "L5q4wtwZ-51I",
        "colab_type": "text"
      },
      "source": [
        "#Global Variables\n"
      ]
    },
    {
      "cell_type": "code",
      "metadata": {
        "id": "EtVxF_GK--ML",
        "colab_type": "code",
        "colab": {}
      },
      "source": [
        "img_width = 299\n",
        "img_height = 299\n",
        "opt = optimizers.RMSprop(learning_rate=0.001)\n",
        "epochs = 50\n",
        "batch_s = 10\n"
      ],
      "execution_count": 0,
      "outputs": []
    },
    {
      "cell_type": "code",
      "metadata": {
        "id": "tf-KLNQDFovF",
        "colab_type": "code",
        "colab": {}
      },
      "source": [
        "Abfragebild = 'Testbilder/P1040695.JPG'\n",
        "\n",
        "Speicherort_KI_Modell = '/content/gdrive/My Drive/Keras Models'\n",
        "Name_KI_Modell = '/Xception_5-1.h5'"
      ],
      "execution_count": 0,
      "outputs": []
    },
    {
      "cell_type": "markdown",
      "metadata": {
        "id": "zdyiFaXZ-Rng",
        "colab_type": "text"
      },
      "source": [
        "#Create Base Model, Training and Valdidation Generators\n"
      ]
    },
    {
      "cell_type": "code",
      "metadata": {
        "id": "wMnMy_k9foh3",
        "colab_type": "code",
        "colab": {}
      },
      "source": [
        "# Xception\n",
        "\n",
        "from keras.applications import Xception\n",
        "base_model = Xception(\n",
        "  weights = 'imagenet',\n",
        "  include_top = False,\n",
        "  input_shape = (299,299,3) \n",
        " )\n"
      ],
      "execution_count": 0,
      "outputs": []
    },
    {
      "cell_type": "markdown",
      "metadata": {
        "id": "t07IAipqIano",
        "colab_type": "text"
      },
      "source": [
        "##Augmentations\n"
      ]
    },
    {
      "cell_type": "code",
      "metadata": {
        "id": "tXMT8JFmI3ya",
        "colab_type": "code",
        "colab": {}
      },
      "source": [
        "featurewise_center = False\n",
        "samplewise_center = False\n",
        "featurewise_std_normalization = False\n",
        "samplewise_std_normalization = False\n",
        "zca_whitening = False\n",
        "horizontal_flip = False\n",
        "vertical_flip = False\n",
        "\n",
        "brightness_range = None \n",
        "preprocessing_function = None\n",
        "\n",
        "zca_epsilon = 1e-06\n",
        "rotation_range = 3\n",
        "width_shift_range = [-1, 0, +1]\n",
        "height_shift_range = [-1, 0, +1]\n",
        "shear_range = 0.0\n",
        "zoom_range = 0.2\n",
        "channel_shift_range = 0.0\n",
        "cval = 0.0\n",
        "interpolation_order = 1\n",
        "\n",
        "fill_mode = 'nearest'\n",
        "data_format = 'channels_last'\n"
      ],
      "execution_count": 0,
      "outputs": []
    },
    {
      "cell_type": "markdown",
      "metadata": {
        "id": "iA-uGNR1LREm",
        "colab_type": "text"
      },
      "source": [
        "##Preparing Data"
      ]
    },
    {
      "cell_type": "code",
      "metadata": {
        "id": "v6MDqsocLol2",
        "colab_type": "code",
        "colab": {}
      },
      "source": [
        "validation_split = 0.4\n",
        "rescale = 1./255\n"
      ],
      "execution_count": 0,
      "outputs": []
    },
    {
      "cell_type": "code",
      "metadata": {
        "id": "ULS0U2FjMrYD",
        "colab_type": "code",
        "colab": {}
      },
      "source": [
        "train_datagen = ImageDataGenerator(\n",
        "                          featurewise_center = featurewise_center,\n",
        "                          samplewise_center = samplewise_center,\n",
        "                          featurewise_std_normalization = featurewise_std_normalization,\n",
        "                          samplewise_std_normalization = samplewise_std_normalization,\n",
        "                          zca_whitening = zca_whitening,\n",
        "                          zca_epsilon = zca_epsilon,\n",
        "                          rotation_range = rotation_range,\n",
        "                          width_shift_range = width_shift_range,\n",
        "                          height_shift_range = height_shift_range,\n",
        "                          brightness_range = brightness_range,\n",
        "                          shear_range = shear_range,\n",
        "                          zoom_range = zoom_range,\n",
        "                          channel_shift_range = channel_shift_range,\n",
        "                          fill_mode = fill_mode,\n",
        "                          cval = cval,\n",
        "                          horizontal_flip = horizontal_flip,\n",
        "                          vertical_flip = vertical_flip,\n",
        "                          preprocessing_function = preprocessing_function,\n",
        "                          data_format = data_format,\n",
        "                          validation_split = validation_split,\n",
        "                          interpolation_order = interpolation_order,\n",
        "                          rescale = rescale,\n",
        "                          dtype = 'float32'\n",
        "                          )"
      ],
      "execution_count": 0,
      "outputs": []
    },
    {
      "cell_type": "code",
      "metadata": {
        "id": "wqG73Dc1_cXW",
        "colab_type": "code",
        "colab": {
          "base_uri": "https://localhost:8080/",
          "height": 34
        },
        "outputId": "c7d570b9-26de-42c1-dfbc-7c364da56104"
      },
      "source": [
        "train_set = train_datagen.flow_from_directory(\n",
        "                          train_dir, \n",
        "                          target_size = (img_width,img_height),\n",
        "                          batch_size = batch_s,\n",
        "                          class_mode = 'categorical',\n",
        "                          subset = 'training'\n",
        "                          )\n"
      ],
      "execution_count": 78,
      "outputs": [
        {
          "output_type": "stream",
          "text": [
            "Found 84 images belonging to 5 classes.\n"
          ],
          "name": "stdout"
        }
      ]
    },
    {
      "cell_type": "code",
      "metadata": {
        "id": "_3mDhTtf_Uao",
        "colab_type": "code",
        "colab": {
          "base_uri": "https://localhost:8080/",
          "height": 34
        },
        "outputId": "74d4548a-8d71-4923-d4dd-4719f44168d7"
      },
      "source": [
        "validation_set = train_datagen.flow_from_directory(\n",
        "                          train_dir, \n",
        "                          target_size = (img_width,img_height),\n",
        "                          batch_size = batch_s,\n",
        "                          class_mode = 'categorical',\n",
        "                          subset = 'validation'\n",
        "                          )\n",
        "       "
      ],
      "execution_count": 79,
      "outputs": [
        {
          "output_type": "stream",
          "text": [
            "Found 54 images belonging to 5 classes.\n"
          ],
          "name": "stdout"
        }
      ]
    },
    {
      "cell_type": "markdown",
      "metadata": {
        "id": "BGRQGGXC-lPO",
        "colab_type": "text"
      },
      "source": [
        "#Create and Train Model\n"
      ]
    },
    {
      "cell_type": "code",
      "metadata": {
        "id": "flNipK-aWbHg",
        "colab_type": "code",
        "colab": {}
      },
      "source": [
        "model = models.Sequential()\n",
        "model.add(base_model)\n",
        "model.add(layers.Flatten())\n",
        "model.add(layers.Dropout(0.5))\n",
        "model.add(layers.Dense(256, activation = 'relu', kernel_initializer = initializers.RandomNormal(stddev = 0.01), bias_initializer = initializers.Zeros()))\n",
        "model.add(layers.Dense(5, activation = 'sigmoid', kernel_initializer = initializers.RandomNormal(stddev = 0.01), bias_initializer = initializers.Zeros()))\n",
        "for layer in base_model.layers:\n",
        "    layer.trainable = False\n"
      ],
      "execution_count": 0,
      "outputs": []
    },
    {
      "cell_type": "code",
      "metadata": {
        "id": "i0AovFKyJxEr",
        "colab_type": "code",
        "colab": {}
      },
      "source": [
        "model.compile(optimizer=opt, loss='categorical_crossentropy', metrics=['acc'])\n",
        "history = model.fit_generator(\n",
        "                    train_set,\n",
        "                    epochs = epochs,\n",
        "                    validation_data = validation_set\n",
        "                    )\n"
      ],
      "execution_count": 0,
      "outputs": []
    },
    {
      "cell_type": "code",
      "metadata": {
        "id": "D0jTg6agABkP",
        "colab_type": "code",
        "colab": {}
      },
      "source": [
        "import matplotlib.pyplot as plt\n",
        "\n",
        "# Plot training & validation accuracy values\n",
        "plt.plot(history.history['acc'])\n",
        "plt.plot(history.history['val_acc'])\n",
        "plt.title('Model accuracy')\n",
        "plt.ylabel('Accuracy')\n",
        "plt.xlabel('Epoch')\n",
        "plt.legend(['Train', 'Test'], loc='upper left')\n",
        "plt.show()\n",
        "\n",
        "# Plot training & validation loss values\n",
        "plt.plot(history.history['loss'])\n",
        "plt.plot(history.history['val_loss'])\n",
        "plt.title('Model loss')\n",
        "plt.ylabel('Loss')\n",
        "plt.xlabel('Epoch')\n",
        "plt.legend(['Train', 'Test'], loc='upper left')\n",
        "plt.show()\n"
      ],
      "execution_count": 0,
      "outputs": []
    },
    {
      "cell_type": "markdown",
      "metadata": {
        "id": "U7egH9OuHmLE",
        "colab_type": "text"
      },
      "source": [
        "#Save Model"
      ]
    },
    {
      "cell_type": "code",
      "metadata": {
        "id": "KgbJLJH3ookr",
        "colab_type": "code",
        "colab": {}
      },
      "source": [
        "model.save(\"/content/gdrive/My Drive/Keras Models/Xception_5-1.h5\")\n"
      ],
      "execution_count": 0,
      "outputs": []
    },
    {
      "cell_type": "markdown",
      "metadata": {
        "id": "WgvkRw_pHqTc",
        "colab_type": "text"
      },
      "source": [
        "#Load Validation Images"
      ]
    },
    {
      "cell_type": "code",
      "metadata": {
        "id": "8noOMLxcH-rW",
        "colab_type": "code",
        "colab": {}
      },
      "source": [
        "folder_path = 'Testbilder/'\n",
        "model_path = '/path/to/saved/model.h5'"
      ],
      "execution_count": 0,
      "outputs": []
    },
    {
      "cell_type": "code",
      "metadata": {
        "id": "7Pa1VvTj3F4M",
        "colab_type": "code",
        "colab": {}
      },
      "source": [
        "images = []\n",
        "for img in os.listdir(folder_path):\n",
        "    img = os.path.join(folder_path, img)\n",
        "    img = image.load_img(img, target_size=(img_width, img_height))\n",
        "    img = image.img_to_array(img)\n",
        "    img = np.expand_dims(img, axis=0)\n",
        "    images.append(img)\n",
        "\n",
        "# stack up images list to pass for prediction\n",
        "images = np.vstack(images)\n",
        "classes = model.predict_classes(images)\n",
        "print(classes)\n"
      ],
      "execution_count": 0,
      "outputs": []
    },
    {
      "cell_type": "markdown",
      "metadata": {
        "id": "bntnpDT05Vx5",
        "colab_type": "text"
      },
      "source": [
        "#Perform Classification"
      ]
    },
    {
      "cell_type": "code",
      "metadata": {
        "id": "_AeYVXl5pOGJ",
        "colab_type": "code",
        "colab": {}
      },
      "source": [
        "import json\n",
        "def Vorhersage(Artikelfoto, Speicherort_KI_Modell, Name_KI_Modell):\n",
        "\n",
        "    model = models.load_model(Speicherort_KI_Modell + Name_KI_Modell)\n",
        "    model.compile(optimizer=opt, loss='categorical_crossentropy', metrics=['acc'])\n",
        "    Artikelfoto = image.load_img(Artikelfoto, target_size=(img_width, img_height))\n",
        "    Artikelfoto = image.img_to_array(Artikelfoto)\n",
        "    Artikelfoto = np.expand_dims(Artikelfoto, axis=0)\n",
        "    prediction = model.predict(Artikelfoto)\n",
        "    prediction = prediction.flatten()\n",
        "    artikelnummer = 'Art' + str(np.argmax(prediction)+1)\n",
        "    wahrscheinlichkeit = str(prediction[np.argmax(prediction)])\n",
        "\n",
        "    response = json.dumps({\"Artikelnummer\":artikelnummer, \"Wahrscheinlichkeit\":wahrscheinlichkeit})\n",
        "\n",
        "    return response"
      ],
      "execution_count": 0,
      "outputs": []
    },
    {
      "cell_type": "code",
      "metadata": {
        "id": "tm69ZxOb42Dv",
        "colab_type": "code",
        "colab": {}
      },
      "source": [
        "Vorhersage(Abfragebild, Speicherort_KI_Modell, Name_KI_Modell)"
      ],
      "execution_count": 0,
      "outputs": []
    }
  ]
}