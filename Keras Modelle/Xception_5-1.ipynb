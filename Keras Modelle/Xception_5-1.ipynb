{
  "nbformat": 4,
  "nbformat_minor": 0,
  "metadata": {
    "colab": {
      "name": "Copy of Xception PJS.ipynb",
      "provenance": []
    },
    "kernelspec": {
      "name": "python3",
      "display_name": "Python 3"
    },
    "accelerator": "GPU"
  },
  "cells": [
    {
      "cell_type": "code",
      "metadata": {
        "id": "Hd_Nmme2qOht",
        "colab_type": "code",
        "outputId": "b550d50d-d456-407f-b238-205b5a52830f",
        "colab": {
          "base_uri": "https://localhost:8080/",
          "height": 34
        }
      },
      "source": [
        "from google.colab import drive \n",
        "drive.mount('/content/gdrive')\n"
      ],
      "execution_count": 10,
      "outputs": [
        {
          "output_type": "stream",
          "text": [
            "Drive already mounted at /content/gdrive; to attempt to forcibly remount, call drive.mount(\"/content/gdrive\", force_remount=True).\n"
          ],
          "name": "stdout"
        }
      ]
    },
    {
      "cell_type": "code",
      "metadata": {
        "id": "ozlhf6PVMyAe",
        "colab_type": "code",
        "colab": {}
      },
      "source": [
        "from keras import optimizers\n",
        "from keras import layers\n",
        "from keras import models\n",
        "\n",
        "import os\n",
        "import numpy as np\n",
        "from keras.preprocessing.image import ImageDataGenerator\n",
        "from keras.preprocessing import image\n",
        "from keras import backend as K\n",
        "\n",
        "\n",
        "base_dir = r'/content/gdrive/My Drive/MVP Datensatz/'\n",
        "train_dir = r'/content/gdrive/My Drive/MVP Datensatz/Trainingsdatensatz5'\n"
      ],
      "execution_count": 0,
      "outputs": []
    },
    {
      "cell_type": "code",
      "metadata": {
        "id": "wMnMy_k9foh3",
        "colab_type": "code",
        "colab": {}
      },
      "source": [
        "## create base_model\n",
        "\n",
        "from keras.applications import Xception\n",
        "base_model = Xception(\n",
        "  weights = 'imagenet',\n",
        "  include_top = False,\n",
        "  pooling = 'avg', \n",
        "  input_shape = (299,299,3) # default vaules \n",
        " )"
      ],
      "execution_count": 0,
      "outputs": []
    },
    {
      "cell_type": "code",
      "metadata": {
        "id": "ULS0U2FjMrYD",
        "colab_type": "code",
        "outputId": "4cde5d9d-5ec1-4fde-a51d-0cd8bf02bf1d",
        "colab": {
          "base_uri": "https://localhost:8080/",
          "height": 51
        }
      },
      "source": [
        "## create train and validation generators\n",
        "\n",
        "batch_s = 10  # global batch_size\n",
        "\n",
        "## Train und Vaild Splitting\n",
        "\n",
        "# Beispiel für mögliche Data Augmentations\n",
        "train_datagen = ImageDataGenerator(featurewise_center = False,\n",
        "                          samplewise_center = False,\n",
        "                          featurewise_std_normalization = False,\n",
        "                          samplewise_std_normalization = False,\n",
        "                          rotation_range = 359,\n",
        "                          width_shift_range = 30.0,\n",
        "                          height_shift_range = 0.0,\n",
        "                          brightness_range = None,\n",
        "                          channel_shift_range = 50.0,\n",
        "                          horizontal_flip = True, \n",
        "                          vertical_flip = True, \n",
        "                          rescale = 1./255,\n",
        "                          validation_split = 0.2, \n",
        "                          interpolation_order = 1, \n",
        "                          dtype = 'float32')\n",
        "\n",
        "\n",
        "valid_datagen = ImageDataGenerator(\n",
        "                          rescale=1./255,\n",
        "                          validation_split=0.2)\n",
        "\n",
        "train_generator = valid_datagen.flow_from_directory(\n",
        "    train_dir, \n",
        "    target_size = (299,299),\n",
        "    batch_size = batch_s,\n",
        "    class_mode = 'categorical',\n",
        "    subset = 'training'\n",
        "    )\n",
        "\n",
        "validation_generator = valid_datagen.flow_from_directory(\n",
        "    train_dir, \n",
        "    target_size = (299,299),\n",
        "    batch_size = batch_s,\n",
        "    class_mode = 'categorical',\n",
        "    subset = 'validation'\n",
        ")           "
      ],
      "execution_count": 7,
      "outputs": [
        {
          "output_type": "stream",
          "text": [
            "Found 80 images belonging to 5 classes.\n",
            "Found 20 images belonging to 5 classes.\n"
          ],
          "name": "stdout"
        }
      ]
    },
    {
      "cell_type": "code",
      "metadata": {
        "id": "TWeSUmygMACb",
        "colab_type": "code",
        "colab": {}
      },
      "source": [
        "## extract features from data set\n",
        "\n",
        "batch_size = batch_s\n",
        "def extract_features(directory, sample_count, gen):\n",
        "  features = np.zeros(shape=(sample_count, 2048)) \n",
        "  labels = np.zeros(shape=(sample_count, 5))\n",
        "  generator = gen\n",
        "  i=0\n",
        "  for inputs_batch, labels_batch in generator:\n",
        "    features_batch = base_model.predict(inputs_batch)\n",
        "    features[i * batch_size : (i + 1) * batch_size] = features_batch\n",
        "    labels[i * batch_size : (i + 1) * batch_size] = labels_batch\n",
        "    i += 1\n",
        "    if i * batch_size >= sample_count:\n",
        "      break\n",
        "  return features, labels\n",
        "\n",
        "train_features, train_labels = extract_features(train_dir, 80, train_generator)\n",
        "validation_features, validation_labels = extract_features(train_dir, 20, validation_generator)\n"
      ],
      "execution_count": 0,
      "outputs": []
    },
    {
      "cell_type": "code",
      "metadata": {
        "id": "flNipK-aWbHg",
        "colab_type": "code",
        "colab": {}
      },
      "source": [
        "## create model\n",
        "\n",
        "model = models.Sequential()\n",
        "model.add(base_model)\n",
        "model.add(layers.Dropout(0.5))\n",
        "model.add(layers.Dense(5,activation = 'softmax'))\n"
      ],
      "execution_count": 0,
      "outputs": []
    },
    {
      "cell_type": "code",
      "metadata": {
        "id": "i0AovFKyJxEr",
        "colab_type": "code",
        "outputId": "3645715e-e995-48e7-af64-da77cad288f5",
        "colab": {
          "base_uri": "https://localhost:8080/",
          "height": 374
        }
      },
      "source": [
        "# first: train only the top layers (which were randomly initialized)\n",
        "# freeze all convolutional Xception layers\n",
        "for layer in base_model.layers:\n",
        "    layer.trainable = False\n",
        "\n",
        "# compile the model (should be done *after* setting layers to non-trainable)\n",
        "model.compile(optimizer='rmsprop', loss='categorical_crossentropy', metrics=['acc'])\n",
        "\n",
        "model.fit_generator(\n",
        "    train_generator,\n",
        "    epochs = 10,\n",
        "    validation_data = validation_generator\n",
        "    )"
      ],
      "execution_count": 12,
      "outputs": [
        {
          "output_type": "stream",
          "text": [
            "Epoch 1/10\n",
            "8/8 [==============================] - 6s 766ms/step - loss: 1.5645 - acc: 0.3000 - val_loss: 1.3090 - val_acc: 0.3000\n",
            "Epoch 2/10\n",
            "8/8 [==============================] - 2s 309ms/step - loss: 1.2498 - acc: 0.5625 - val_loss: 1.3526 - val_acc: 0.6000\n",
            "Epoch 3/10\n",
            "8/8 [==============================] - 2s 310ms/step - loss: 1.1350 - acc: 0.6000 - val_loss: 1.2747 - val_acc: 0.7500\n",
            "Epoch 4/10\n",
            "8/8 [==============================] - 2s 311ms/step - loss: 0.9216 - acc: 0.8375 - val_loss: 0.8822 - val_acc: 0.6500\n",
            "Epoch 5/10\n",
            "8/8 [==============================] - 2s 310ms/step - loss: 0.8859 - acc: 0.7125 - val_loss: 1.0592 - val_acc: 0.6500\n",
            "Epoch 6/10\n",
            "8/8 [==============================] - 2s 310ms/step - loss: 0.8345 - acc: 0.8125 - val_loss: 1.1460 - val_acc: 0.7000\n",
            "Epoch 7/10\n",
            "8/8 [==============================] - 2s 311ms/step - loss: 0.7252 - acc: 0.8125 - val_loss: 1.0589 - val_acc: 0.7000\n",
            "Epoch 8/10\n",
            "8/8 [==============================] - 2s 311ms/step - loss: 0.7493 - acc: 0.8375 - val_loss: 0.8675 - val_acc: 0.7500\n",
            "Epoch 9/10\n",
            "8/8 [==============================] - 3s 313ms/step - loss: 0.6372 - acc: 0.8125 - val_loss: 1.0451 - val_acc: 0.7000\n",
            "Epoch 10/10\n",
            "8/8 [==============================] - 2s 311ms/step - loss: 0.5295 - acc: 0.8750 - val_loss: 1.2088 - val_acc: 0.7000\n"
          ],
          "name": "stdout"
        },
        {
          "output_type": "execute_result",
          "data": {
            "text/plain": [
              "<keras.callbacks.callbacks.History at 0x7f8241151da0>"
            ]
          },
          "metadata": {
            "tags": []
          },
          "execution_count": 12
        }
      ]
    },
    {
      "cell_type": "code",
      "metadata": {
        "id": "KgbJLJH3ookr",
        "colab_type": "code",
        "colab": {}
      },
      "source": [
        "model.save(\"/content/gdrive/My Drive/Keras Models/Xception_5-1.h5\")\n"
      ],
      "execution_count": 0,
      "outputs": []
    },
    {
      "cell_type": "code",
      "metadata": {
        "id": "dtwlt6_upReV",
        "colab_type": "code",
        "outputId": "22b8c036-ba85-4b4b-8793-75c6ec198c99",
        "colab": {
          "base_uri": "https://localhost:8080/",
          "height": 34
        }
      },
      "source": [
        "## Validdierung auf Abfragebildern\n",
        "testbild = base_dir + 'Testbilder/P1040695.JPG'\n",
        "testbild = image.load_img(testbild, target_size=(299,299))\n",
        "testbild = image.img_to_array(testbild)\n",
        "testbild = np.expand_dims(testbild, axis=0)\n",
        "predictions = model.predict(testbild)\n",
        "\n",
        "predictions"
      ],
      "execution_count": 15,
      "outputs": [
        {
          "output_type": "execute_result",
          "data": {
            "text/plain": [
              "array([[0., 0., 0., 1., 0.]], dtype=float32)"
            ]
          },
          "metadata": {
            "tags": []
          },
          "execution_count": 15
        }
      ]
    },
    {
      "cell_type": "code",
      "metadata": {
        "id": "7Pa1VvTj3F4M",
        "colab_type": "code",
        "colab": {
          "base_uri": "https://localhost:8080/",
          "height": 34
        },
        "outputId": "f1b8d73e-7473-4fc6-fbc7-281d99aa9506"
      },
      "source": [
        "# image folder\n",
        "folder_path = base_dir + 'Testbilder/'\n",
        "# path to model\n",
        "model_path = '/path/to/saved/model.h5'\n",
        "# dimensions of images\n",
        "img_width, img_height = 299, 299\n",
        "\n",
        "\n",
        "# load all images into a list\n",
        "images = []\n",
        "for img in os.listdir(folder_path):\n",
        "    img = os.path.join(folder_path, img)\n",
        "    img = image.load_img(img, target_size=(img_width, img_height))\n",
        "    img = image.img_to_array(img)\n",
        "    img = np.expand_dims(img, axis=0)\n",
        "    images.append(img)\n",
        "\n",
        "# stack up images list to pass for prediction\n",
        "images = np.vstack(images)\n",
        "classes = model.predict_classes(images, batch_size = batch_s)\n",
        "print(classes)"
      ],
      "execution_count": 17,
      "outputs": [
        {
          "output_type": "stream",
          "text": [
            "[3 3 3 3 3 3 3 3 3 3 3 3 3 3 3 3 3 3 3 3 3 3 3 3 3]\n"
          ],
          "name": "stdout"
        }
      ]
    },
    {
      "cell_type": "code",
      "metadata": {
        "id": "_AeYVXl5pOGJ",
        "colab_type": "code",
        "colab": {}
      },
      "source": [
        "def Vorhersage(Artikelfoto, Speicherort_KI_Modell, Name_KI_Modell):\n",
        "\n",
        "    model = models.load_model(Speicherort_KI_Modell + Name_KI_Modell)\n",
        "    model.compile(optimizer='rmsprop', loss='categorical_crossentropy', metrics=['acc'])\n",
        "    img_width, img_height = 299, 299\n",
        "    Artikelfoto = image.load_img(Artikelfoto, target_size=(img_width, img_height))\n",
        "    Artikelfoto = image.img_to_array(Artikelfoto)\n",
        "    Artikelfoto = np.expand_dims(Artikelfoto, axis=0)\n",
        "    prediction = model.predict_proba(Artikelfoto)\n",
        "\n",
        "    return {\n",
        "        'category': np.argmax(prediction),\n",
        "        'probs': {c: round(float(prediction[i]),5) for (i,c) in enumerate(prediction)}\n",
        "    }\n"
      ],
      "execution_count": 0,
      "outputs": []
    },
    {
      "cell_type": "markdown",
      "metadata": {
        "id": "bntnpDT05Vx5",
        "colab_type": "text"
      },
      "source": [
        ""
      ]
    },
    {
      "cell_type": "code",
      "metadata": {
        "id": "tm69ZxOb42Dv",
        "colab_type": "code",
        "colab": {
          "base_uri": "https://localhost:8080/",
          "height": 290
        },
        "outputId": "6a9aeead-46e2-4b35-feaf-da5c7960c110"
      },
      "source": [
        "Vorhersage(base_dir + 'Testbilder/P1040695.JPG', '/content/gdrive/My Drive/Keras Models', '/Xception_5-1.h5')"
      ],
      "execution_count": 39,
      "outputs": [
        {
          "output_type": "error",
          "ename": "TypeError",
          "evalue": "ignored",
          "traceback": [
            "\u001b[0;31m---------------------------------------------------------------------------\u001b[0m",
            "\u001b[0;31mTypeError\u001b[0m                                 Traceback (most recent call last)",
            "\u001b[0;32m<ipython-input-39-ce1758e61085>\u001b[0m in \u001b[0;36m<module>\u001b[0;34m()\u001b[0m\n\u001b[0;32m----> 1\u001b[0;31m \u001b[0mVorhersage\u001b[0m\u001b[0;34m(\u001b[0m\u001b[0mbase_dir\u001b[0m \u001b[0;34m+\u001b[0m \u001b[0;34m'Testbilder/P1040695.JPG'\u001b[0m\u001b[0;34m,\u001b[0m \u001b[0;34m'/content/gdrive/My Drive/Keras Models'\u001b[0m\u001b[0;34m,\u001b[0m \u001b[0;34m'/Xception_5-1.h5'\u001b[0m\u001b[0;34m)\u001b[0m\u001b[0;34m\u001b[0m\u001b[0;34m\u001b[0m\u001b[0m\n\u001b[0m",
            "\u001b[0;32m<ipython-input-38-ddb502d64f69>\u001b[0m in \u001b[0;36mVorhersage\u001b[0;34m(Artikelfoto, Speicherort_KI_Modell, Name_KI_Modell)\u001b[0m\n\u001b[1;32m     11\u001b[0m     return {\n\u001b[1;32m     12\u001b[0m         \u001b[0;34m'category'\u001b[0m\u001b[0;34m:\u001b[0m \u001b[0mnp\u001b[0m\u001b[0;34m.\u001b[0m\u001b[0margmax\u001b[0m\u001b[0;34m(\u001b[0m\u001b[0mprediction\u001b[0m\u001b[0;34m)\u001b[0m\u001b[0;34m,\u001b[0m\u001b[0;34m\u001b[0m\u001b[0;34m\u001b[0m\u001b[0m\n\u001b[0;32m---> 13\u001b[0;31m         \u001b[0;34m'probs'\u001b[0m\u001b[0;34m:\u001b[0m \u001b[0;34m{\u001b[0m\u001b[0mc\u001b[0m\u001b[0;34m:\u001b[0m \u001b[0mround\u001b[0m\u001b[0;34m(\u001b[0m\u001b[0mfloat\u001b[0m\u001b[0;34m(\u001b[0m\u001b[0mprediction\u001b[0m\u001b[0;34m[\u001b[0m\u001b[0mi\u001b[0m\u001b[0;34m]\u001b[0m\u001b[0;34m)\u001b[0m\u001b[0;34m,\u001b[0m\u001b[0;36m5\u001b[0m\u001b[0;34m)\u001b[0m \u001b[0;32mfor\u001b[0m \u001b[0;34m(\u001b[0m\u001b[0mi\u001b[0m\u001b[0;34m,\u001b[0m\u001b[0mc\u001b[0m\u001b[0;34m)\u001b[0m \u001b[0;32min\u001b[0m \u001b[0menumerate\u001b[0m\u001b[0;34m(\u001b[0m\u001b[0mprediction\u001b[0m\u001b[0;34m)\u001b[0m\u001b[0;34m}\u001b[0m\u001b[0;34m\u001b[0m\u001b[0;34m\u001b[0m\u001b[0m\n\u001b[0m\u001b[1;32m     14\u001b[0m     }\n",
            "\u001b[0;32m<ipython-input-38-ddb502d64f69>\u001b[0m in \u001b[0;36m<dictcomp>\u001b[0;34m(.0)\u001b[0m\n\u001b[1;32m     11\u001b[0m     return {\n\u001b[1;32m     12\u001b[0m         \u001b[0;34m'category'\u001b[0m\u001b[0;34m:\u001b[0m \u001b[0mnp\u001b[0m\u001b[0;34m.\u001b[0m\u001b[0margmax\u001b[0m\u001b[0;34m(\u001b[0m\u001b[0mprediction\u001b[0m\u001b[0;34m)\u001b[0m\u001b[0;34m,\u001b[0m\u001b[0;34m\u001b[0m\u001b[0;34m\u001b[0m\u001b[0m\n\u001b[0;32m---> 13\u001b[0;31m         \u001b[0;34m'probs'\u001b[0m\u001b[0;34m:\u001b[0m \u001b[0;34m{\u001b[0m\u001b[0mc\u001b[0m\u001b[0;34m:\u001b[0m \u001b[0mround\u001b[0m\u001b[0;34m(\u001b[0m\u001b[0mfloat\u001b[0m\u001b[0;34m(\u001b[0m\u001b[0mprediction\u001b[0m\u001b[0;34m[\u001b[0m\u001b[0mi\u001b[0m\u001b[0;34m]\u001b[0m\u001b[0;34m)\u001b[0m\u001b[0;34m,\u001b[0m\u001b[0;36m5\u001b[0m\u001b[0;34m)\u001b[0m \u001b[0;32mfor\u001b[0m \u001b[0;34m(\u001b[0m\u001b[0mi\u001b[0m\u001b[0;34m,\u001b[0m\u001b[0mc\u001b[0m\u001b[0;34m)\u001b[0m \u001b[0;32min\u001b[0m \u001b[0menumerate\u001b[0m\u001b[0;34m(\u001b[0m\u001b[0mprediction\u001b[0m\u001b[0;34m)\u001b[0m\u001b[0;34m}\u001b[0m\u001b[0;34m\u001b[0m\u001b[0;34m\u001b[0m\u001b[0m\n\u001b[0m\u001b[1;32m     14\u001b[0m     }\n",
            "\u001b[0;31mTypeError\u001b[0m: only size-1 arrays can be converted to Python scalars"
          ]
        }
      ]
    }
  ]
}