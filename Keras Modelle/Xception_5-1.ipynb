{
  "nbformat": 4,
  "nbformat_minor": 0,
  "metadata": {
    "colab": {
      "name": "Copy of Xception PJS.ipynb",
      "provenance": []
    },
    "kernelspec": {
      "name": "python3",
      "display_name": "Python 3"
    },
    "accelerator": "GPU"
  },
  "cells": [
    {
      "cell_type": "markdown",
      "metadata": {
        "id": "wyCRPwgN9Y8T",
        "colab_type": "text"
      },
      "source": [
        "#Set up Colab and Drive for Project"
      ]
    },
    {
      "cell_type": "code",
      "metadata": {
        "id": "Hd_Nmme2qOht",
        "colab_type": "code",
        "colab": {}
      },
      "source": [
        "from google.colab import drive \n",
        "drive.mount('/content/gdrive')"
      ],
      "execution_count": 0,
      "outputs": []
    },
    {
      "cell_type": "code",
      "metadata": {
        "id": "OX7MEh9W91i0",
        "colab_type": "code",
        "colab": {}
      },
      "source": [
        "%cd '/content/gdrive/My Drive/MVP Datensatz/'\n",
        "train_dir = 'MVP Datensatz/Trainingsdatensatz5'"
      ],
      "execution_count": 0,
      "outputs": []
    },
    {
      "cell_type": "code",
      "metadata": {
        "id": "ozlhf6PVMyAe",
        "colab_type": "code",
        "colab": {
          "base_uri": "https://localhost:8080/",
          "height": 34
        },
        "outputId": "4a775ede-e0f9-4473-fc64-d9ede8ca8436"
      },
      "source": [
        "from keras import optimizers\n",
        "from keras import layers\n",
        "from keras import models\n",
        "from keras import initializers\n",
        "\n",
        "import os\n",
        "import numpy as np\n",
        "from keras.preprocessing.image import ImageDataGenerator\n",
        "from keras.preprocessing import image\n",
        "from keras import backend as K\n"
      ],
      "execution_count": 2,
      "outputs": [
        {
          "output_type": "stream",
          "text": [
            "Using TensorFlow backend.\n"
          ],
          "name": "stderr"
        }
      ]
    },
    {
      "cell_type": "markdown",
      "metadata": {
        "id": "L5q4wtwZ-51I",
        "colab_type": "text"
      },
      "source": [
        "#Global Variables\n"
      ]
    },
    {
      "cell_type": "code",
      "metadata": {
        "id": "EtVxF_GK--ML",
        "colab_type": "code",
        "colab": {}
      },
      "source": [
        "batch_s = 30  # global batch_size\n",
        "img_width = 299\n",
        "img_height = 299\n",
        "opt = optimizers.Adam(learning_rate=0.0009)\n",
        "epochs = 20\n",
        "Abfragebild = 'Testbilder/P1040695.JPG'\n",
        "\n",
        "Speicherort_KI_Modell = '/content/gdrive/My Drive/Keras Models'\n",
        "Name_KI_Modell = '/Xception_5-1.h5'\n"
      ],
      "execution_count": 0,
      "outputs": []
    },
    {
      "cell_type": "markdown",
      "metadata": {
        "id": "zdyiFaXZ-Rng",
        "colab_type": "text"
      },
      "source": [
        "#Create Base Model, Training and Valdidation Generators\n"
      ]
    },
    {
      "cell_type": "code",
      "metadata": {
        "id": "wMnMy_k9foh3",
        "colab_type": "code",
        "colab": {}
      },
      "source": [
        "# Xception\n",
        "\n",
        "from keras.applications import Xception\n",
        "base_model = Xception(\n",
        "  weights = 'imagenet',\n",
        "  include_top = False,\n",
        "  input_shape = (299,299,3) \n",
        " )\n",
        "\n",
        "base_model.summary()\n"
      ],
      "execution_count": 0,
      "outputs": []
    },
    {
      "cell_type": "code",
      "metadata": {
        "id": "ULS0U2FjMrYD",
        "colab_type": "code",
        "outputId": "dabc9545-47ad-4eb8-f158-3500f171feba",
        "colab": {
          "base_uri": "https://localhost:8080/",
          "height": 51
        }
      },
      "source": [
        "train_datagen = ImageDataGenerator(\n",
        "                          featurewise_center = False,\n",
        "                          samplewise_center = False,\n",
        "                          featurewise_std_normalization = False,\n",
        "                          samplewise_std_normalization = False,\n",
        "                          rotation_range = 359,\n",
        "                          width_shift_range = 30.0,\n",
        "                          height_shift_range = 0.0,\n",
        "                          brightness_range = None,\n",
        "                          channel_shift_range = 50.0,\n",
        "                          horizontal_flip = True, \n",
        "                          vertical_flip = True, \n",
        "                          rescale = 1./255,\n",
        "                          validation_split = 0.2, \n",
        "                          interpolation_order = 1, \n",
        "                          dtype = 'float32'\n",
        "                          )\n"
      ],
      "execution_count": 0,
      "outputs": [
        {
          "output_type": "stream",
          "text": [
            "Found 113 images belonging to 5 classes.\n",
            "Found 25 images belonging to 5 classes.\n"
          ],
          "name": "stdout"
        }
      ]
    },
    {
      "cell_type": "code",
      "metadata": {
        "id": "PuVCO1Zc_hV7",
        "colab_type": "code",
        "colab": {}
      },
      "source": [
        "valid_datagen = ImageDataGenerator(\n",
        "                          rescale=1./255,\n",
        "                          validation_split=0.2\n",
        "                          )\n"
      ],
      "execution_count": 0,
      "outputs": []
    },
    {
      "cell_type": "code",
      "metadata": {
        "id": "wqG73Dc1_cXW",
        "colab_type": "code",
        "colab": {}
      },
      "source": [
        "train_generator = train_datagen.flow_from_directory(\n",
        "                          train_dir, \n",
        "                          target_size = (img_width,img_height),\n",
        "                          batch_size = batch_s,\n",
        "                          class_mode = 'categorical',\n",
        "                          subset = 'training'\n",
        "                          )\n"
      ],
      "execution_count": 0,
      "outputs": []
    },
    {
      "cell_type": "code",
      "metadata": {
        "id": "_3mDhTtf_Uao",
        "colab_type": "code",
        "colab": {}
      },
      "source": [
        "validation_generator = train_datagen.flow_from_directory(\n",
        "                          train_dir, \n",
        "                          target_size = (img_width,img_height),\n",
        "                          batch_size = batch_s,\n",
        "                          class_mode = 'categorical',\n",
        "                          subset = 'validation'\n",
        "                          )\n",
        "       "
      ],
      "execution_count": 0,
      "outputs": []
    },
    {
      "cell_type": "markdown",
      "metadata": {
        "id": "BGRQGGXC-lPO",
        "colab_type": "text"
      },
      "source": [
        "#Create and Train Model\n"
      ]
    },
    {
      "cell_type": "code",
      "metadata": {
        "id": "flNipK-aWbHg",
        "colab_type": "code",
        "colab": {}
      },
      "source": [
        "model = models.Sequential()\n",
        "model.add(base_model)\n",
        "model.add(layers.Flatten())\n",
        "model.add(layers.Dropout(0.5))\n",
        "model.add(layers.Dense(256, activation = 'relu', kernel_initializer = initializers.RandomNormal(stddev = 0.01), bias_initializer = initializers.Zeros()))\n",
        "model.add(layers.Dense(5, activation = 'sigmoid', kernel_initializer = initializers.RandomNormal(stddev = 0.01), bias_initializer = initializers.Zeros()))\n",
        "for layer in base_model.layers:\n",
        "    layer.trainable = False\n",
        "\n",
        "model.summary()\n"
      ],
      "execution_count": 0,
      "outputs": []
    },
    {
      "cell_type": "code",
      "metadata": {
        "id": "i0AovFKyJxEr",
        "colab_type": "code",
        "colab": {}
      },
      "source": [
        "model.compile(optimizer=opt, loss='categorical_crossentropy', metrics=['acc'])\n",
        "history = model.fit_generator(\n",
        "                    train_generator,\n",
        "                    epochs = epochs,\n",
        "                    validation_data = validation_generator\n",
        "                    )\n"
      ],
      "execution_count": 0,
      "outputs": []
    },
    {
      "cell_type": "code",
      "metadata": {
        "id": "D0jTg6agABkP",
        "colab_type": "code",
        "colab": {}
      },
      "source": [
        "import matplotlib.pyplot as plt\n",
        "\n",
        "# Plot training & validation accuracy values\n",
        "plt.plot(history.history['acc'])\n",
        "plt.plot(history.history['val_acc'])\n",
        "plt.title('Model accuracy')\n",
        "plt.ylabel('Accuracy')\n",
        "plt.xlabel('Epoch')\n",
        "plt.legend(['Train', 'Test'], loc='upper left')\n",
        "plt.show()\n",
        "\n",
        "# Plot training & validation loss values\n",
        "plt.plot(history.history['loss'])\n",
        "plt.plot(history.history['val_loss'])\n",
        "plt.title('Model loss')\n",
        "plt.ylabel('Loss')\n",
        "plt.xlabel('Epoch')\n",
        "plt.legend(['Train', 'Test'], loc='upper left')\n",
        "plt.show()\n"
      ],
      "execution_count": 0,
      "outputs": []
    },
    {
      "cell_type": "code",
      "metadata": {
        "id": "KgbJLJH3ookr",
        "colab_type": "code",
        "colab": {}
      },
      "source": [
        "model.save(\"/content/gdrive/My Drive/Keras Models/Xception_5-1.h5\")\n"
      ],
      "execution_count": 0,
      "outputs": []
    },
    {
      "cell_type": "code",
      "metadata": {
        "id": "7Pa1VvTj3F4M",
        "colab_type": "code",
        "outputId": "1aa8a668-a323-43ce-cf39-7b01ba039873",
        "colab": {
          "base_uri": "https://localhost:8080/",
          "height": 51
        }
      },
      "source": [
        "# image folder\n",
        "folder_path = 'Testbilder/'\n",
        "# path to model\n",
        "model_path = '/path/to/saved/model.h5'\n",
        "\n",
        "# load all images into a list\n",
        "images = []\n",
        "for img in os.listdir(folder_path):\n",
        "    img = os.path.join(folder_path, img)\n",
        "    img = image.load_img(img, target_size=(img_width, img_height))\n",
        "    img = image.img_to_array(img)\n",
        "    img = np.expand_dims(img, axis=0)\n",
        "    images.append(img)\n",
        "\n",
        "# stack up images list to pass for prediction\n",
        "images = np.vstack(images)\n",
        "classes = model.predict_classes(images)\n",
        "print(classes)\n"
      ],
      "execution_count": 0,
      "outputs": [
        {
          "output_type": "stream",
          "text": [
            "[0 0 0 0 0 0 0 0 0 0 0 0 0 0 0 0 0 0 0 0 0 0 0 0 0 0 0 0 0 0 0 0 0 0 0 0 0\n",
            " 0 0 0 0 0 0 0 0 0 0 0 0 0 0 0 0 0 0 0 0]\n"
          ],
          "name": "stdout"
        }
      ]
    },
    {
      "cell_type": "code",
      "metadata": {
        "id": "_AeYVXl5pOGJ",
        "colab_type": "code",
        "colab": {}
      },
      "source": [
        "import json\n",
        "def Vorhersage(Artikelfoto, Speicherort_KI_Modell, Name_KI_Modell):\n",
        "\n",
        "    model = models.load_model(Speicherort_KI_Modell + Name_KI_Modell)\n",
        "    model.compile(optimizer=opt, loss='categorical_crossentropy', metrics=['acc'])\n",
        "    Artikelfoto = image.load_img(Artikelfoto, target_size=(img_width, img_height))\n",
        "    Artikelfoto = image.img_to_array(Artikelfoto)\n",
        "    Artikelfoto = np.expand_dims(Artikelfoto, axis=0)\n",
        "    prediction = model.predict(Artikelfoto)\n",
        "    prediction = prediction.flatten()\n",
        "    artikelnummer = 'Art' + str(np.argmax(prediction)+1)\n",
        "    wahrscheinlichkeit = str(prediction[np.argmax(prediction)])\n",
        "\n",
        "    response = json.dumps({\"Artikelnummer\":artikelnummer, \"Wahrscheinlichkeit\":wahrscheinlichkeit})\n",
        "\n",
        "    return response"
      ],
      "execution_count": 0,
      "outputs": []
    },
    {
      "cell_type": "markdown",
      "metadata": {
        "id": "bntnpDT05Vx5",
        "colab_type": "text"
      },
      "source": [
        ""
      ]
    },
    {
      "cell_type": "code",
      "metadata": {
        "id": "tm69ZxOb42Dv",
        "colab_type": "code",
        "outputId": "dd6ed3b6-6db2-48e1-bcde-46c35caaf03e",
        "colab": {
          "base_uri": "https://localhost:8080/",
          "height": 34
        }
      },
      "source": [
        "Vorhersage(base_dir + Abfragebild, Speicherort_KI_Modell, '/Xception_5-1.h5')"
      ],
      "execution_count": 0,
      "outputs": [
        {
          "output_type": "execute_result",
          "data": {
            "text/plain": [
              "'{\"Artikelnummer\": \"Art1\", \"Wahrscheinlichkeit\": \"0.0\"}'"
            ]
          },
          "metadata": {
            "tags": []
          },
          "execution_count": 134
        }
      ]
    }
  ]
}