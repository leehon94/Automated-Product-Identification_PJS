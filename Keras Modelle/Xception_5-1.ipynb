{
  "nbformat": 4,
  "nbformat_minor": 0,
  "metadata": {
    "colab": {
      "name": "Copy of Xception PJS.ipynb",
      "provenance": [],
      "toc_visible": true
    },
    "kernelspec": {
      "name": "python3",
      "display_name": "Python 3"
    },
    "accelerator": "GPU"
  },
  "cells": [
    {
      "cell_type": "markdown",
      "metadata": {
        "id": "wyCRPwgN9Y8T",
        "colab_type": "text"
      },
      "source": [
        "#Set up Colab and Drive for Project"
      ]
    },
    {
      "cell_type": "code",
      "metadata": {
        "id": "Hd_Nmme2qOht",
        "colab_type": "code",
        "outputId": "c04af6da-db1d-4db8-ae32-804f33ee3b1e",
        "colab": {
          "base_uri": "https://localhost:8080/",
          "height": 54
        }
      },
      "source": [
        "from google.colab import drive \n",
        "drive.mount('/content/gdrive')"
      ],
      "execution_count": 30,
      "outputs": [
        {
          "output_type": "stream",
          "text": [
            "Drive already mounted at /content/gdrive; to attempt to forcibly remount, call drive.mount(\"/content/gdrive\", force_remount=True).\n"
          ],
          "name": "stdout"
        }
      ]
    },
    {
      "cell_type": "code",
      "metadata": {
        "id": "OX7MEh9W91i0",
        "colab_type": "code",
        "colab": {
          "base_uri": "https://localhost:8080/",
          "height": 34
        },
        "outputId": "fe042855-1957-4815-8755-be4fa7d3eab6"
      },
      "source": [
        "%cd '/content/gdrive/My Drive/MVP Datensatz/'\n",
        "train_dir = 'Trainingsdatensatz5'"
      ],
      "execution_count": 31,
      "outputs": [
        {
          "output_type": "stream",
          "text": [
            "/content/gdrive/My Drive/MVP Datensatz\n"
          ],
          "name": "stdout"
        }
      ]
    },
    {
      "cell_type": "code",
      "metadata": {
        "id": "ozlhf6PVMyAe",
        "colab_type": "code",
        "colab": {}
      },
      "source": [
        "from keras import optimizers\n",
        "from keras import layers\n",
        "from keras import models\n",
        "from keras import initializers\n",
        "\n",
        "import os\n",
        "import numpy as np\n",
        "from keras.preprocessing.image import ImageDataGenerator\n",
        "from keras.preprocessing import image\n",
        "from keras import backend as K\n"
      ],
      "execution_count": 0,
      "outputs": []
    },
    {
      "cell_type": "markdown",
      "metadata": {
        "id": "L5q4wtwZ-51I",
        "colab_type": "text"
      },
      "source": [
        "#Global Variables\n"
      ]
    },
    {
      "cell_type": "code",
      "metadata": {
        "id": "EtVxF_GK--ML",
        "colab_type": "code",
        "colab": {}
      },
      "source": [
        "\n",
        "img_width = 299\n",
        "img_height = 299\n",
        "opt = optimizers.Adam(learning_rate=0.001)\n",
        "epochs = 20\n",
        "batch_s = 30  # global batch_size\n"
      ],
      "execution_count": 0,
      "outputs": []
    },
    {
      "cell_type": "code",
      "metadata": {
        "id": "tf-KLNQDFovF",
        "colab_type": "code",
        "colab": {}
      },
      "source": [
        "Abfragebild = 'Testbilder/P1040695.JPG'\n",
        "\n",
        "Speicherort_KI_Modell = '/content/gdrive/My Drive/Keras Models'\n",
        "Name_KI_Modell = '/Xception_5-1.h5'"
      ],
      "execution_count": 0,
      "outputs": []
    },
    {
      "cell_type": "markdown",
      "metadata": {
        "id": "zdyiFaXZ-Rng",
        "colab_type": "text"
      },
      "source": [
        "#Create Base Model, Training and Valdidation Generators\n"
      ]
    },
    {
      "cell_type": "code",
      "metadata": {
        "id": "wMnMy_k9foh3",
        "colab_type": "code",
        "colab": {}
      },
      "source": [
        "# Xception\n",
        "\n",
        "from keras.applications import Xception\n",
        "base_model = Xception(\n",
        "  weights = 'imagenet',\n",
        "  include_top = False,\n",
        "  input_shape = (299,299,3) \n",
        " )\n"
      ],
      "execution_count": 0,
      "outputs": []
    },
    {
      "cell_type": "markdown",
      "metadata": {
        "id": "t07IAipqIano",
        "colab_type": "text"
      },
      "source": [
        "##Augmentations\n"
      ]
    },
    {
      "cell_type": "code",
      "metadata": {
        "id": "tXMT8JFmI3ya",
        "colab_type": "code",
        "colab": {}
      },
      "source": [
        "featurewise_center = False\n",
        "samplewise_center = False\n",
        "featurewise_std_normalization = False\n",
        "samplewise_std_normalization = False\n",
        "zca_whitening = False\n",
        "horizontal_flip = False\n",
        "vertical_flip = False\n",
        "\n",
        "brightness_range = None \n",
        "preprocessing_function = None\n",
        "\n",
        "zca_epsilon = 1e-06\n",
        "rotation_range = 3\n",
        "width_shift_range = [-1, 0, +1]\n",
        "height_shift_range = [-1, 0, +1]\n",
        "shear_range = 0.0\n",
        "zoom_range = 0.2\n",
        "channel_shift_range = 0.0\n",
        "cval = 0.0\n",
        "interpolation_order = 1\n",
        "\n",
        "fill_mode = 'nearest'\n",
        "data_format = 'channels_last'\n"
      ],
      "execution_count": 0,
      "outputs": []
    },
    {
      "cell_type": "markdown",
      "metadata": {
        "id": "iA-uGNR1LREm",
        "colab_type": "text"
      },
      "source": [
        "##Preparing Data"
      ]
    },
    {
      "cell_type": "code",
      "metadata": {
        "id": "v6MDqsocLol2",
        "colab_type": "code",
        "colab": {}
      },
      "source": [
        "validation_split = 0.4\n",
        "rescale = 1./255\n"
      ],
      "execution_count": 0,
      "outputs": []
    },
    {
      "cell_type": "code",
      "metadata": {
        "id": "ULS0U2FjMrYD",
        "colab_type": "code",
        "colab": {}
      },
      "source": [
        "train_datagen = ImageDataGenerator(\n",
        "                          featurewise_center = featurewise_center,\n",
        "                          samplewise_center = samplewise_center,\n",
        "                          featurewise_std_normalization = featurewise_std_normalization,\n",
        "                          samplewise_std_normalization = samplewise_std_normalization,\n",
        "                          zca_whitening = zca_whitening,\n",
        "                          zca_epsilon = zca_epsilon,\n",
        "                          rotation_range = rotation_range,\n",
        "                          width_shift_range = width_shift_range,\n",
        "                          height_shift_range = height_shift_range,\n",
        "                          brightness_range = brightness_range,\n",
        "                          shear_range = shear_range,\n",
        "                          zoom_range = zoom_range,\n",
        "                          channel_shift_range = channel_shift_range,\n",
        "                          fill_mode = fill_mode,\n",
        "                          cval = cval,\n",
        "                          horizontal_flip = horizontal_flip,\n",
        "                          vertical_flip = vertical_flip,\n",
        "                          preprocessing_function = preprocessing_function,\n",
        "                          data_format = data_format,\n",
        "                          validation_split = validation_split,\n",
        "                          interpolation_order = interpolation_order,\n",
        "                          rescale = rescale,\n",
        "                          dtype = 'float32'\n",
        "                          )"
      ],
      "execution_count": 0,
      "outputs": []
    },
    {
      "cell_type": "code",
      "metadata": {
        "id": "wqG73Dc1_cXW",
        "colab_type": "code",
        "colab": {
          "base_uri": "https://localhost:8080/",
          "height": 34
        },
        "outputId": "d9ff5801-00fb-44dd-fe48-3f7fdfa5dd49"
      },
      "source": [
        "train_set = train_datagen.flow_from_directory(\n",
        "                          train_dir, \n",
        "                          target_size = (img_width,img_height),\n",
        "                          batch_size = batch_s,\n",
        "                          class_mode = 'categorical',\n",
        "                          subset = 'training'\n",
        "                          )\n"
      ],
      "execution_count": 39,
      "outputs": [
        {
          "output_type": "stream",
          "text": [
            "Found 84 images belonging to 5 classes.\n"
          ],
          "name": "stdout"
        }
      ]
    },
    {
      "cell_type": "code",
      "metadata": {
        "id": "_3mDhTtf_Uao",
        "colab_type": "code",
        "colab": {
          "base_uri": "https://localhost:8080/",
          "height": 34
        },
        "outputId": "98cd88a7-b373-4bff-bce7-9fc195fbf748"
      },
      "source": [
        "validation_set = train_datagen.flow_from_directory(\n",
        "                          train_dir, \n",
        "                          target_size = (img_width,img_height),\n",
        "                          batch_size = batch_s,\n",
        "                          class_mode = 'categorical',\n",
        "                          subset = 'validation'\n",
        "                          )\n",
        "       "
      ],
      "execution_count": 40,
      "outputs": [
        {
          "output_type": "stream",
          "text": [
            "Found 54 images belonging to 5 classes.\n"
          ],
          "name": "stdout"
        }
      ]
    },
    {
      "cell_type": "markdown",
      "metadata": {
        "id": "BGRQGGXC-lPO",
        "colab_type": "text"
      },
      "source": [
        "#Create and Train Model\n"
      ]
    },
    {
      "cell_type": "code",
      "metadata": {
        "id": "flNipK-aWbHg",
        "colab_type": "code",
        "colab": {}
      },
      "source": [
        "model = models.Sequential()\n",
        "model.add(base_model)\n",
        "model.add(layers.Flatten())\n",
        "model.add(layers.Dropout(0.5))\n",
        "model.add(layers.Dense(256, activation = 'relu', kernel_initializer = initializers.RandomNormal(stddev = 0.01), bias_initializer = initializers.Zeros()))\n",
        "model.add(layers.Dense(5, activation = 'sigmoid', kernel_initializer = initializers.RandomNormal(stddev = 0.01), bias_initializer = initializers.Zeros()))\n",
        "for layer in base_model.layers:\n",
        "    layer.trainable = False\n"
      ],
      "execution_count": 0,
      "outputs": []
    },
    {
      "cell_type": "code",
      "metadata": {
        "id": "i0AovFKyJxEr",
        "colab_type": "code",
        "outputId": "0aa23605-0b4b-4d2d-8526-4a909370ca01",
        "colab": {
          "base_uri": "https://localhost:8080/",
          "height": 717
        }
      },
      "source": [
        "model.compile(optimizer=opt, loss='categorical_crossentropy', metrics=['acc'])\n",
        "history = model.fit_generator(\n",
        "                    train_set,\n",
        "                    epochs = epochs,\n",
        "                    validation_data = validation_set\n",
        "                    )\n"
      ],
      "execution_count": 42,
      "outputs": [
        {
          "output_type": "stream",
          "text": [
            "Epoch 1/20\n",
            "3/3 [==============================] - 7s 2s/step - loss: 1.5777 - acc: 0.2857 - val_loss: 1.3777 - val_acc: 0.2407\n",
            "Epoch 2/20\n",
            "3/3 [==============================] - 3s 858ms/step - loss: 1.1363 - acc: 0.4881 - val_loss: 1.4214 - val_acc: 0.3519\n",
            "Epoch 3/20\n",
            "3/3 [==============================] - 3s 1s/step - loss: 0.8931 - acc: 0.4762 - val_loss: 1.4457 - val_acc: 0.3333\n",
            "Epoch 4/20\n",
            "3/3 [==============================] - 3s 1s/step - loss: 0.6488 - acc: 0.5952 - val_loss: 1.5633 - val_acc: 0.5926\n",
            "Epoch 5/20\n",
            "3/3 [==============================] - 3s 1s/step - loss: 0.5238 - acc: 0.8452 - val_loss: 2.3325 - val_acc: 0.4815\n",
            "Epoch 6/20\n",
            "3/3 [==============================] - 3s 1s/step - loss: 0.6010 - acc: 0.8571 - val_loss: 4.0346 - val_acc: 0.4444\n",
            "Epoch 7/20\n",
            "3/3 [==============================] - 3s 1s/step - loss: 0.4289 - acc: 0.8571 - val_loss: 3.6659 - val_acc: 0.4630\n",
            "Epoch 8/20\n",
            "3/3 [==============================] - 3s 1s/step - loss: 0.5968 - acc: 0.7976 - val_loss: 3.9178 - val_acc: 0.4815\n",
            "Epoch 9/20\n",
            "3/3 [==============================] - 3s 1s/step - loss: 0.2341 - acc: 0.9048 - val_loss: 3.2428 - val_acc: 0.3704\n",
            "Epoch 10/20\n",
            "3/3 [==============================] - 3s 1s/step - loss: 0.8656 - acc: 0.7976 - val_loss: 2.2064 - val_acc: 0.4074\n",
            "Epoch 11/20\n",
            "3/3 [==============================] - 3s 1s/step - loss: 0.3566 - acc: 0.8571 - val_loss: 2.4751 - val_acc: 0.4074\n",
            "Epoch 12/20\n",
            "3/3 [==============================] - 3s 1s/step - loss: 0.3340 - acc: 0.8929 - val_loss: 2.0858 - val_acc: 0.4815\n",
            "Epoch 13/20\n",
            "3/3 [==============================] - 3s 1s/step - loss: 0.3843 - acc: 0.8690 - val_loss: 3.8494 - val_acc: 0.4815\n",
            "Epoch 14/20\n",
            "3/3 [==============================] - 3s 1s/step - loss: 0.1753 - acc: 0.9286 - val_loss: 4.5313 - val_acc: 0.3889\n",
            "Epoch 15/20\n",
            "3/3 [==============================] - 3s 1s/step - loss: 0.3275 - acc: 0.8452 - val_loss: 3.5600 - val_acc: 0.3704\n",
            "Epoch 16/20\n",
            "3/3 [==============================] - 3s 1s/step - loss: 0.1669 - acc: 0.9524 - val_loss: 1.6522 - val_acc: 0.6296\n",
            "Epoch 17/20\n",
            "3/3 [==============================] - 3s 1s/step - loss: 0.2147 - acc: 0.9643 - val_loss: 2.2264 - val_acc: 0.5741\n",
            "Epoch 18/20\n",
            "3/3 [==============================] - 3s 1s/step - loss: 0.1170 - acc: 0.9405 - val_loss: 2.0166 - val_acc: 0.4630\n",
            "Epoch 19/20\n",
            "3/3 [==============================] - 3s 1s/step - loss: 0.1766 - acc: 0.9524 - val_loss: 4.0342 - val_acc: 0.4630\n",
            "Epoch 20/20\n",
            "3/3 [==============================] - 3s 1s/step - loss: 0.2556 - acc: 0.9524 - val_loss: 7.2971 - val_acc: 0.4815\n"
          ],
          "name": "stdout"
        }
      ]
    },
    {
      "cell_type": "code",
      "metadata": {
        "id": "D0jTg6agABkP",
        "colab_type": "code",
        "colab": {
          "base_uri": "https://localhost:8080/",
          "height": 573
        },
        "outputId": "fdce57f5-f179-4acb-aa55-6a30b1938200"
      },
      "source": [
        "import matplotlib.pyplot as plt\n",
        "\n",
        "# Plot training & validation accuracy values\n",
        "plt.plot(history.history['acc'])\n",
        "plt.plot(history.history['val_acc'])\n",
        "plt.title('Model accuracy')\n",
        "plt.ylabel('Accuracy')\n",
        "plt.xlabel('Epoch')\n",
        "plt.legend(['Train', 'Test'], loc='upper left')\n",
        "plt.show()\n",
        "\n",
        "# Plot training & validation loss values\n",
        "plt.plot(history.history['loss'])\n",
        "plt.plot(history.history['val_loss'])\n",
        "plt.title('Model loss')\n",
        "plt.ylabel('Loss')\n",
        "plt.xlabel('Epoch')\n",
        "plt.legend(['Train', 'Test'], loc='upper left')\n",
        "plt.show()\n"
      ],
      "execution_count": 43,
      "outputs": [
        {
          "output_type": "display_data",
          "data": {
            "image/png": "[encoded data removed]",
            "text/plain": [
              "<Figure size 432x288 with 1 Axes>"
            ]
          },
          "metadata": {
            "tags": [],
            "needs_background": "light"
          }
        },
        {
          "output_type": "display_data",
          "data": {
            "image/png": "[encoded data removed]",
            "text/plain": [
              "<Figure size 432x288 with 1 Axes>"
            ]
          },
          "metadata": {
            "tags": [],
            "needs_background": "light"
          }
        }
      ]
    },
    {
      "cell_type": "markdown",
      "metadata": {
        "id": "U7egH9OuHmLE",
        "colab_type": "text"
      },
      "source": [
        "#Save Model"
      ]
    },
    {
      "cell_type": "code",
      "metadata": {
        "id": "KgbJLJH3ookr",
        "colab_type": "code",
        "colab": {}
      },
      "source": [
        "model.save(\"/content/gdrive/My Drive/Keras Models/Xception_5-1.h5\")\n"
      ],
      "execution_count": 0,
      "outputs": []
    },
    {
      "cell_type": "markdown",
      "metadata": {
        "id": "WgvkRw_pHqTc",
        "colab_type": "text"
      },
      "source": [
        "#Load Validation Images"
      ]
    },
    {
      "cell_type": "code",
      "metadata": {
        "id": "8noOMLxcH-rW",
        "colab_type": "code",
        "colab": {}
      },
      "source": [
        "folder_path = 'Testbilder/'\n",
        "model_path = '/path/to/saved/model.h5'"
      ],
      "execution_count": 0,
      "outputs": []
    },
    {
      "cell_type": "code",
      "metadata": {
        "id": "7Pa1VvTj3F4M",
        "colab_type": "code",
        "outputId": "14ca8f95-7c86-4dd1-df22-ba86f097efc8",
        "colab": {
          "base_uri": "https://localhost:8080/",
          "height": 51
        }
      },
      "source": [
        "images = []\n",
        "for img in os.listdir(folder_path):\n",
        "    img = os.path.join(folder_path, img)\n",
        "    img = image.load_img(img, target_size=(img_width, img_height))\n",
        "    img = image.img_to_array(img)\n",
        "    img = np.expand_dims(img, axis=0)\n",
        "    images.append(img)\n",
        "\n",
        "# stack up images list to pass for prediction\n",
        "images = np.vstack(images)\n",
        "classes = model.predict_classes(images)\n",
        "print(classes)\n"
      ],
      "execution_count": 46,
      "outputs": [
        {
          "output_type": "stream",
          "text": [
            "[0 0 0 0 0 0 0 0 0 0 0 0 0 0 0 0 0 0 0 0 0 0 0 0 0 0 0 0 0 0 0 0 0 0 0 0 0\n",
            " 0 0 0 0 0 0 0 0 0 0 0 0 0 0 0 0 0 0 0 0]\n"
          ],
          "name": "stdout"
        }
      ]
    },
    {
      "cell_type": "markdown",
      "metadata": {
        "id": "bntnpDT05Vx5",
        "colab_type": "text"
      },
      "source": [
        "#Perform Classification"
      ]
    },
    {
      "cell_type": "code",
      "metadata": {
        "id": "_AeYVXl5pOGJ",
        "colab_type": "code",
        "colab": {}
      },
      "source": [
        "import json\n",
        "def Vorhersage(Artikelfoto, Speicherort_KI_Modell, Name_KI_Modell):\n",
        "\n",
        "    model = models.load_model(Speicherort_KI_Modell + Name_KI_Modell)\n",
        "    model.compile(optimizer=opt, loss='categorical_crossentropy', metrics=['acc'])\n",
        "    Artikelfoto = image.load_img(Artikelfoto, target_size=(img_width, img_height))\n",
        "    Artikelfoto = image.img_to_array(Artikelfoto)\n",
        "    Artikelfoto = np.expand_dims(Artikelfoto, axis=0)\n",
        "    prediction = model.predict(Artikelfoto)\n",
        "    prediction = prediction.flatten()\n",
        "    artikelnummer = 'Art' + str(np.argmax(prediction)+1)\n",
        "    wahrscheinlichkeit = str(prediction[np.argmax(prediction)])\n",
        "\n",
        "    response = json.dumps({\"Artikelnummer\":artikelnummer, \"Wahrscheinlichkeit\":wahrscheinlichkeit})\n",
        "\n",
        "    return response"
      ],
      "execution_count": 0,
      "outputs": []
    },
    {
      "cell_type": "code",
      "metadata": {
        "id": "tm69ZxOb42Dv",
        "colab_type": "code",
        "outputId": "ab2be313-f1f8-43aa-a7ba-8323b40cf5a9",
        "colab": {
          "base_uri": "https://localhost:8080/",
          "height": 34
        }
      },
      "source": [
        "Vorhersage(Abfragebild, Speicherort_KI_Modell, Name_KI_Modell)"
      ],
      "execution_count": 48,
      "outputs": [
        {
          "output_type": "execute_result",
          "data": {
            "text/plain": [
              "'{\"Artikelnummer\": \"Art1\", \"Wahrscheinlichkeit\": \"0.0\"}'"
            ]
          },
          "metadata": {
            "tags": []
          },
          "execution_count": 48
        }
      ]
    }
  ]
}