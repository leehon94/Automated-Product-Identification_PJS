{
  "nbformat": 4,
  "nbformat_minor": 0,
  "metadata": {
    "colab": {
      "name": "Copy of Xception PJS.ipynb",
      "provenance": []
    },
    "kernelspec": {
      "name": "python3",
      "display_name": "Python 3"
    },
    "accelerator": "GPU"
  },
  "cells": [
    {
      "cell_type": "markdown",
      "metadata": {
        "id": "wyCRPwgN9Y8T",
        "colab_type": "text"
      },
      "source": [
        "#Set up Colab and Drive for Project"
      ]
    },
    {
      "cell_type": "code",
      "metadata": {
        "id": "Hd_Nmme2qOht",
        "colab_type": "code",
        "outputId": "4d23fac8-99f9-4a85-c3ed-96a855c63ee6",
        "colab": {
          "base_uri": "https://localhost:8080/",
          "height": 34
        }
      },
      "source": [
        "from google.colab import drive \n",
        "drive.mount('/content/gdrive')"
      ],
      "execution_count": 32,
      "outputs": [
        {
          "output_type": "stream",
          "text": [
            "Drive already mounted at /content/gdrive; to attempt to forcibly remount, call drive.mount(\"/content/gdrive\", force_remount=True).\n"
          ],
          "name": "stdout"
        }
      ]
    },
    {
      "cell_type": "code",
      "metadata": {
        "id": "OX7MEh9W91i0",
        "colab_type": "code",
        "colab": {
          "base_uri": "https://localhost:8080/",
          "height": 34
        },
        "outputId": "d11c16bf-dacc-4cce-9b2b-5402c21db9bd"
      },
      "source": [
        "%cd '/content/gdrive/My Drive/MVP Datensatz/'\n",
        "train_dir = 'Trainingsdatensatz5'"
      ],
      "execution_count": 33,
      "outputs": [
        {
          "output_type": "stream",
          "text": [
            "/content/gdrive/My Drive/MVP Datensatz\n"
          ],
          "name": "stdout"
        }
      ]
    },
    {
      "cell_type": "code",
      "metadata": {
        "id": "ozlhf6PVMyAe",
        "colab_type": "code",
        "colab": {}
      },
      "source": [
        "from keras import optimizers\n",
        "from keras import layers\n",
        "from keras import models\n",
        "from keras import initializers\n",
        "\n",
        "import os\n",
        "import numpy as np\n",
        "from keras.preprocessing.image import ImageDataGenerator\n",
        "from keras.preprocessing import image\n",
        "from keras import backend as K\n"
      ],
      "execution_count": 0,
      "outputs": []
    },
    {
      "cell_type": "markdown",
      "metadata": {
        "id": "L5q4wtwZ-51I",
        "colab_type": "text"
      },
      "source": [
        "#Global Variables\n"
      ]
    },
    {
      "cell_type": "code",
      "metadata": {
        "id": "tf-KLNQDFovF",
        "colab_type": "code",
        "colab": {}
      },
      "source": [
        "Abfragebild = 'Testbilder/P1040699.JPG'\n",
        "\n",
        "Speicherort_KI_Modell = '/content/gdrive/My Drive/Keras Models'\n",
        "Name_KI_Modell = '/Xception_5-1.h5'"
      ],
      "execution_count": 0,
      "outputs": []
    },
    {
      "cell_type": "markdown",
      "metadata": {
        "id": "zdyiFaXZ-Rng",
        "colab_type": "text"
      },
      "source": [
        "#Create Base Model, Training and Valdidation Generators\n"
      ]
    },
    {
      "cell_type": "code",
      "metadata": {
        "id": "wMnMy_k9foh3",
        "colab_type": "code",
        "colab": {}
      },
      "source": [
        "# Xception\n",
        "img_width = 299\n",
        "img_height = 299\n",
        "\n",
        "from keras.applications import Xception\n",
        "base_model = Xception(\n",
        "  weights = 'imagenet',\n",
        "  include_top = False,\n",
        "  input_shape = (img_width,img_height,3) \n",
        " )"
      ],
      "execution_count": 0,
      "outputs": []
    },
    {
      "cell_type": "code",
      "metadata": {
        "id": "06DnOCmqqrZt",
        "colab_type": "code",
        "colab": {
          "base_uri": "https://localhost:8080/",
          "height": 1000
        },
        "outputId": "ff191d97-946e-41db-9b02-486b90366855"
      },
      "source": [
        "base_model.summary()"
      ],
      "execution_count": 92,
      "outputs": [
        {
          "output_type": "stream",
          "text": [
            "Model: \"xception\"\n",
            "__________________________________________________________________________________________________\n",
            "Layer (type)                    Output Shape         Param #     Connected to                     \n",
            "==================================================================================================\n",
            "input_3 (InputLayer)            (None, 299, 299, 3)  0                                            \n",
            "__________________________________________________________________________________________________\n",
            "block1_conv1 (Conv2D)           (None, 149, 149, 32) 864         input_3[0][0]                    \n",
            "__________________________________________________________________________________________________\n",
            "block1_conv1_bn (BatchNormaliza (None, 149, 149, 32) 128         block1_conv1[0][0]               \n",
            "__________________________________________________________________________________________________\n",
            "block1_conv1_act (Activation)   (None, 149, 149, 32) 0           block1_conv1_bn[0][0]            \n",
            "__________________________________________________________________________________________________\n",
            "block1_conv2 (Conv2D)           (None, 147, 147, 64) 18432       block1_conv1_act[0][0]           \n",
            "__________________________________________________________________________________________________\n",
            "block1_conv2_bn (BatchNormaliza (None, 147, 147, 64) 256         block1_conv2[0][0]               \n",
            "__________________________________________________________________________________________________\n",
            "block1_conv2_act (Activation)   (None, 147, 147, 64) 0           block1_conv2_bn[0][0]            \n",
            "__________________________________________________________________________________________________\n",
            "block2_sepconv1 (SeparableConv2 (None, 147, 147, 128 8768        block1_conv2_act[0][0]           \n",
            "__________________________________________________________________________________________________\n",
            "block2_sepconv1_bn (BatchNormal (None, 147, 147, 128 512         block2_sepconv1[0][0]            \n",
            "__________________________________________________________________________________________________\n",
            "block2_sepconv2_act (Activation (None, 147, 147, 128 0           block2_sepconv1_bn[0][0]         \n",
            "__________________________________________________________________________________________________\n",
            "block2_sepconv2 (SeparableConv2 (None, 147, 147, 128 17536       block2_sepconv2_act[0][0]        \n",
            "__________________________________________________________________________________________________\n",
            "block2_sepconv2_bn (BatchNormal (None, 147, 147, 128 512         block2_sepconv2[0][0]            \n",
            "__________________________________________________________________________________________________\n",
            "conv2d_9 (Conv2D)               (None, 74, 74, 128)  8192        block1_conv2_act[0][0]           \n",
            "__________________________________________________________________________________________________\n",
            "block2_pool (MaxPooling2D)      (None, 74, 74, 128)  0           block2_sepconv2_bn[0][0]         \n",
            "__________________________________________________________________________________________________\n",
            "batch_normalization_9 (BatchNor (None, 74, 74, 128)  512         conv2d_9[0][0]                   \n",
            "__________________________________________________________________________________________________\n",
            "add_25 (Add)                    (None, 74, 74, 128)  0           block2_pool[0][0]                \n",
            "                                                                 batch_normalization_9[0][0]      \n",
            "__________________________________________________________________________________________________\n",
            "block3_sepconv1_act (Activation (None, 74, 74, 128)  0           add_25[0][0]                     \n",
            "__________________________________________________________________________________________________\n",
            "block3_sepconv1 (SeparableConv2 (None, 74, 74, 256)  33920       block3_sepconv1_act[0][0]        \n",
            "__________________________________________________________________________________________________\n",
            "block3_sepconv1_bn (BatchNormal (None, 74, 74, 256)  1024        block3_sepconv1[0][0]            \n",
            "__________________________________________________________________________________________________\n",
            "block3_sepconv2_act (Activation (None, 74, 74, 256)  0           block3_sepconv1_bn[0][0]         \n",
            "__________________________________________________________________________________________________\n",
            "block3_sepconv2 (SeparableConv2 (None, 74, 74, 256)  67840       block3_sepconv2_act[0][0]        \n",
            "__________________________________________________________________________________________________\n",
            "block3_sepconv2_bn (BatchNormal (None, 74, 74, 256)  1024        block3_sepconv2[0][0]            \n",
            "__________________________________________________________________________________________________\n",
            "conv2d_10 (Conv2D)              (None, 37, 37, 256)  32768       add_25[0][0]                     \n",
            "__________________________________________________________________________________________________\n",
            "block3_pool (MaxPooling2D)      (None, 37, 37, 256)  0           block3_sepconv2_bn[0][0]         \n",
            "__________________________________________________________________________________________________\n",
            "batch_normalization_10 (BatchNo (None, 37, 37, 256)  1024        conv2d_10[0][0]                  \n",
            "__________________________________________________________________________________________________\n",
            "add_26 (Add)                    (None, 37, 37, 256)  0           block3_pool[0][0]                \n",
            "                                                                 batch_normalization_10[0][0]     \n",
            "__________________________________________________________________________________________________\n",
            "block4_sepconv1_act (Activation (None, 37, 37, 256)  0           add_26[0][0]                     \n",
            "__________________________________________________________________________________________________\n",
            "block4_sepconv1 (SeparableConv2 (None, 37, 37, 728)  188672      block4_sepconv1_act[0][0]        \n",
            "__________________________________________________________________________________________________\n",
            "block4_sepconv1_bn (BatchNormal (None, 37, 37, 728)  2912        block4_sepconv1[0][0]            \n",
            "__________________________________________________________________________________________________\n",
            "block4_sepconv2_act (Activation (None, 37, 37, 728)  0           block4_sepconv1_bn[0][0]         \n",
            "__________________________________________________________________________________________________\n",
            "block4_sepconv2 (SeparableConv2 (None, 37, 37, 728)  536536      block4_sepconv2_act[0][0]        \n",
            "__________________________________________________________________________________________________\n",
            "block4_sepconv2_bn (BatchNormal (None, 37, 37, 728)  2912        block4_sepconv2[0][0]            \n",
            "__________________________________________________________________________________________________\n",
            "conv2d_11 (Conv2D)              (None, 19, 19, 728)  186368      add_26[0][0]                     \n",
            "__________________________________________________________________________________________________\n",
            "block4_pool (MaxPooling2D)      (None, 19, 19, 728)  0           block4_sepconv2_bn[0][0]         \n",
            "__________________________________________________________________________________________________\n",
            "batch_normalization_11 (BatchNo (None, 19, 19, 728)  2912        conv2d_11[0][0]                  \n",
            "__________________________________________________________________________________________________\n",
            "add_27 (Add)                    (None, 19, 19, 728)  0           block4_pool[0][0]                \n",
            "                                                                 batch_normalization_11[0][0]     \n",
            "__________________________________________________________________________________________________\n",
            "block5_sepconv1_act (Activation (None, 19, 19, 728)  0           add_27[0][0]                     \n",
            "__________________________________________________________________________________________________\n",
            "block5_sepconv1 (SeparableConv2 (None, 19, 19, 728)  536536      block5_sepconv1_act[0][0]        \n",
            "__________________________________________________________________________________________________\n",
            "block5_sepconv1_bn (BatchNormal (None, 19, 19, 728)  2912        block5_sepconv1[0][0]            \n",
            "__________________________________________________________________________________________________\n",
            "block5_sepconv2_act (Activation (None, 19, 19, 728)  0           block5_sepconv1_bn[0][0]         \n",
            "__________________________________________________________________________________________________\n",
            "block5_sepconv2 (SeparableConv2 (None, 19, 19, 728)  536536      block5_sepconv2_act[0][0]        \n",
            "__________________________________________________________________________________________________\n",
            "block5_sepconv2_bn (BatchNormal (None, 19, 19, 728)  2912        block5_sepconv2[0][0]            \n",
            "__________________________________________________________________________________________________\n",
            "block5_sepconv3_act (Activation (None, 19, 19, 728)  0           block5_sepconv2_bn[0][0]         \n",
            "__________________________________________________________________________________________________\n",
            "block5_sepconv3 (SeparableConv2 (None, 19, 19, 728)  536536      block5_sepconv3_act[0][0]        \n",
            "__________________________________________________________________________________________________\n",
            "block5_sepconv3_bn (BatchNormal (None, 19, 19, 728)  2912        block5_sepconv3[0][0]            \n",
            "__________________________________________________________________________________________________\n",
            "add_28 (Add)                    (None, 19, 19, 728)  0           block5_sepconv3_bn[0][0]         \n",
            "                                                                 add_27[0][0]                     \n",
            "__________________________________________________________________________________________________\n",
            "block6_sepconv1_act (Activation (None, 19, 19, 728)  0           add_28[0][0]                     \n",
            "__________________________________________________________________________________________________\n",
            "block6_sepconv1 (SeparableConv2 (None, 19, 19, 728)  536536      block6_sepconv1_act[0][0]        \n",
            "__________________________________________________________________________________________________\n",
            "block6_sepconv1_bn (BatchNormal (None, 19, 19, 728)  2912        block6_sepconv1[0][0]            \n",
            "__________________________________________________________________________________________________\n",
            "block6_sepconv2_act (Activation (None, 19, 19, 728)  0           block6_sepconv1_bn[0][0]         \n",
            "__________________________________________________________________________________________________\n",
            "block6_sepconv2 (SeparableConv2 (None, 19, 19, 728)  536536      block6_sepconv2_act[0][0]        \n",
            "__________________________________________________________________________________________________\n",
            "block6_sepconv2_bn (BatchNormal (None, 19, 19, 728)  2912        block6_sepconv2[0][0]            \n",
            "__________________________________________________________________________________________________\n",
            "block6_sepconv3_act (Activation (None, 19, 19, 728)  0           block6_sepconv2_bn[0][0]         \n",
            "__________________________________________________________________________________________________\n",
            "block6_sepconv3 (SeparableConv2 (None, 19, 19, 728)  536536      block6_sepconv3_act[0][0]        \n",
            "__________________________________________________________________________________________________\n",
            "block6_sepconv3_bn (BatchNormal (None, 19, 19, 728)  2912        block6_sepconv3[0][0]            \n",
            "__________________________________________________________________________________________________\n",
            "add_29 (Add)                    (None, 19, 19, 728)  0           block6_sepconv3_bn[0][0]         \n",
            "                                                                 add_28[0][0]                     \n",
            "__________________________________________________________________________________________________\n",
            "block7_sepconv1_act (Activation (None, 19, 19, 728)  0           add_29[0][0]                     \n",
            "__________________________________________________________________________________________________\n",
            "block7_sepconv1 (SeparableConv2 (None, 19, 19, 728)  536536      block7_sepconv1_act[0][0]        \n",
            "__________________________________________________________________________________________________\n",
            "block7_sepconv1_bn (BatchNormal (None, 19, 19, 728)  2912        block7_sepconv1[0][0]            \n",
            "__________________________________________________________________________________________________\n",
            "block7_sepconv2_act (Activation (None, 19, 19, 728)  0           block7_sepconv1_bn[0][0]         \n",
            "__________________________________________________________________________________________________\n",
            "block7_sepconv2 (SeparableConv2 (None, 19, 19, 728)  536536      block7_sepconv2_act[0][0]        \n",
            "__________________________________________________________________________________________________\n",
            "block7_sepconv2_bn (BatchNormal (None, 19, 19, 728)  2912        block7_sepconv2[0][0]            \n",
            "__________________________________________________________________________________________________\n",
            "block7_sepconv3_act (Activation (None, 19, 19, 728)  0           block7_sepconv2_bn[0][0]         \n",
            "__________________________________________________________________________________________________\n",
            "block7_sepconv3 (SeparableConv2 (None, 19, 19, 728)  536536      block7_sepconv3_act[0][0]        \n",
            "__________________________________________________________________________________________________\n",
            "block7_sepconv3_bn (BatchNormal (None, 19, 19, 728)  2912        block7_sepconv3[0][0]            \n",
            "__________________________________________________________________________________________________\n",
            "add_30 (Add)                    (None, 19, 19, 728)  0           block7_sepconv3_bn[0][0]         \n",
            "                                                                 add_29[0][0]                     \n",
            "__________________________________________________________________________________________________\n",
            "block8_sepconv1_act (Activation (None, 19, 19, 728)  0           add_30[0][0]                     \n",
            "__________________________________________________________________________________________________\n",
            "block8_sepconv1 (SeparableConv2 (None, 19, 19, 728)  536536      block8_sepconv1_act[0][0]        \n",
            "__________________________________________________________________________________________________\n",
            "block8_sepconv1_bn (BatchNormal (None, 19, 19, 728)  2912        block8_sepconv1[0][0]            \n",
            "__________________________________________________________________________________________________\n",
            "block8_sepconv2_act (Activation (None, 19, 19, 728)  0           block8_sepconv1_bn[0][0]         \n",
            "__________________________________________________________________________________________________\n",
            "block8_sepconv2 (SeparableConv2 (None, 19, 19, 728)  536536      block8_sepconv2_act[0][0]        \n",
            "__________________________________________________________________________________________________\n",
            "block8_sepconv2_bn (BatchNormal (None, 19, 19, 728)  2912        block8_sepconv2[0][0]            \n",
            "__________________________________________________________________________________________________\n",
            "block8_sepconv3_act (Activation (None, 19, 19, 728)  0           block8_sepconv2_bn[0][0]         \n",
            "__________________________________________________________________________________________________\n",
            "block8_sepconv3 (SeparableConv2 (None, 19, 19, 728)  536536      block8_sepconv3_act[0][0]        \n",
            "__________________________________________________________________________________________________\n",
            "block8_sepconv3_bn (BatchNormal (None, 19, 19, 728)  2912        block8_sepconv3[0][0]            \n",
            "__________________________________________________________________________________________________\n",
            "add_31 (Add)                    (None, 19, 19, 728)  0           block8_sepconv3_bn[0][0]         \n",
            "                                                                 add_30[0][0]                     \n",
            "__________________________________________________________________________________________________\n",
            "block9_sepconv1_act (Activation (None, 19, 19, 728)  0           add_31[0][0]                     \n",
            "__________________________________________________________________________________________________\n",
            "block9_sepconv1 (SeparableConv2 (None, 19, 19, 728)  536536      block9_sepconv1_act[0][0]        \n",
            "__________________________________________________________________________________________________\n",
            "block9_sepconv1_bn (BatchNormal (None, 19, 19, 728)  2912        block9_sepconv1[0][0]            \n",
            "__________________________________________________________________________________________________\n",
            "block9_sepconv2_act (Activation (None, 19, 19, 728)  0           block9_sepconv1_bn[0][0]         \n",
            "__________________________________________________________________________________________________\n",
            "block9_sepconv2 (SeparableConv2 (None, 19, 19, 728)  536536      block9_sepconv2_act[0][0]        \n",
            "__________________________________________________________________________________________________\n",
            "block9_sepconv2_bn (BatchNormal (None, 19, 19, 728)  2912        block9_sepconv2[0][0]            \n",
            "__________________________________________________________________________________________________\n",
            "block9_sepconv3_act (Activation (None, 19, 19, 728)  0           block9_sepconv2_bn[0][0]         \n",
            "__________________________________________________________________________________________________\n",
            "block9_sepconv3 (SeparableConv2 (None, 19, 19, 728)  536536      block9_sepconv3_act[0][0]        \n",
            "__________________________________________________________________________________________________\n",
            "block9_sepconv3_bn (BatchNormal (None, 19, 19, 728)  2912        block9_sepconv3[0][0]            \n",
            "__________________________________________________________________________________________________\n",
            "add_32 (Add)                    (None, 19, 19, 728)  0           block9_sepconv3_bn[0][0]         \n",
            "                                                                 add_31[0][0]                     \n",
            "__________________________________________________________________________________________________\n",
            "block10_sepconv1_act (Activatio (None, 19, 19, 728)  0           add_32[0][0]                     \n",
            "__________________________________________________________________________________________________\n",
            "block10_sepconv1 (SeparableConv (None, 19, 19, 728)  536536      block10_sepconv1_act[0][0]       \n",
            "__________________________________________________________________________________________________\n",
            "block10_sepconv1_bn (BatchNorma (None, 19, 19, 728)  2912        block10_sepconv1[0][0]           \n",
            "__________________________________________________________________________________________________\n",
            "block10_sepconv2_act (Activatio (None, 19, 19, 728)  0           block10_sepconv1_bn[0][0]        \n",
            "__________________________________________________________________________________________________\n",
            "block10_sepconv2 (SeparableConv (None, 19, 19, 728)  536536      block10_sepconv2_act[0][0]       \n",
            "__________________________________________________________________________________________________\n",
            "block10_sepconv2_bn (BatchNorma (None, 19, 19, 728)  2912        block10_sepconv2[0][0]           \n",
            "__________________________________________________________________________________________________\n",
            "block10_sepconv3_act (Activatio (None, 19, 19, 728)  0           block10_sepconv2_bn[0][0]        \n",
            "__________________________________________________________________________________________________\n",
            "block10_sepconv3 (SeparableConv (None, 19, 19, 728)  536536      block10_sepconv3_act[0][0]       \n",
            "__________________________________________________________________________________________________\n",
            "block10_sepconv3_bn (BatchNorma (None, 19, 19, 728)  2912        block10_sepconv3[0][0]           \n",
            "__________________________________________________________________________________________________\n",
            "add_33 (Add)                    (None, 19, 19, 728)  0           block10_sepconv3_bn[0][0]        \n",
            "                                                                 add_32[0][0]                     \n",
            "__________________________________________________________________________________________________\n",
            "block11_sepconv1_act (Activatio (None, 19, 19, 728)  0           add_33[0][0]                     \n",
            "__________________________________________________________________________________________________\n",
            "block11_sepconv1 (SeparableConv (None, 19, 19, 728)  536536      block11_sepconv1_act[0][0]       \n",
            "__________________________________________________________________________________________________\n",
            "block11_sepconv1_bn (BatchNorma (None, 19, 19, 728)  2912        block11_sepconv1[0][0]           \n",
            "__________________________________________________________________________________________________\n",
            "block11_sepconv2_act (Activatio (None, 19, 19, 728)  0           block11_sepconv1_bn[0][0]        \n",
            "__________________________________________________________________________________________________\n",
            "block11_sepconv2 (SeparableConv (None, 19, 19, 728)  536536      block11_sepconv2_act[0][0]       \n",
            "__________________________________________________________________________________________________\n",
            "block11_sepconv2_bn (BatchNorma (None, 19, 19, 728)  2912        block11_sepconv2[0][0]           \n",
            "__________________________________________________________________________________________________\n",
            "block11_sepconv3_act (Activatio (None, 19, 19, 728)  0           block11_sepconv2_bn[0][0]        \n",
            "__________________________________________________________________________________________________\n",
            "block11_sepconv3 (SeparableConv (None, 19, 19, 728)  536536      block11_sepconv3_act[0][0]       \n",
            "__________________________________________________________________________________________________\n",
            "block11_sepconv3_bn (BatchNorma (None, 19, 19, 728)  2912        block11_sepconv3[0][0]           \n",
            "__________________________________________________________________________________________________\n",
            "add_34 (Add)                    (None, 19, 19, 728)  0           block11_sepconv3_bn[0][0]        \n",
            "                                                                 add_33[0][0]                     \n",
            "__________________________________________________________________________________________________\n",
            "block12_sepconv1_act (Activatio (None, 19, 19, 728)  0           add_34[0][0]                     \n",
            "__________________________________________________________________________________________________\n",
            "block12_sepconv1 (SeparableConv (None, 19, 19, 728)  536536      block12_sepconv1_act[0][0]       \n",
            "__________________________________________________________________________________________________\n",
            "block12_sepconv1_bn (BatchNorma (None, 19, 19, 728)  2912        block12_sepconv1[0][0]           \n",
            "__________________________________________________________________________________________________\n",
            "block12_sepconv2_act (Activatio (None, 19, 19, 728)  0           block12_sepconv1_bn[0][0]        \n",
            "__________________________________________________________________________________________________\n",
            "block12_sepconv2 (SeparableConv (None, 19, 19, 728)  536536      block12_sepconv2_act[0][0]       \n",
            "__________________________________________________________________________________________________\n",
            "block12_sepconv2_bn (BatchNorma (None, 19, 19, 728)  2912        block12_sepconv2[0][0]           \n",
            "__________________________________________________________________________________________________\n",
            "block12_sepconv3_act (Activatio (None, 19, 19, 728)  0           block12_sepconv2_bn[0][0]        \n",
            "__________________________________________________________________________________________________\n",
            "block12_sepconv3 (SeparableConv (None, 19, 19, 728)  536536      block12_sepconv3_act[0][0]       \n",
            "__________________________________________________________________________________________________\n",
            "block12_sepconv3_bn (BatchNorma (None, 19, 19, 728)  2912        block12_sepconv3[0][0]           \n",
            "__________________________________________________________________________________________________\n",
            "add_35 (Add)                    (None, 19, 19, 728)  0           block12_sepconv3_bn[0][0]        \n",
            "                                                                 add_34[0][0]                     \n",
            "__________________________________________________________________________________________________\n",
            "block13_sepconv1_act (Activatio (None, 19, 19, 728)  0           add_35[0][0]                     \n",
            "__________________________________________________________________________________________________\n",
            "block13_sepconv1 (SeparableConv (None, 19, 19, 728)  536536      block13_sepconv1_act[0][0]       \n",
            "__________________________________________________________________________________________________\n",
            "block13_sepconv1_bn (BatchNorma (None, 19, 19, 728)  2912        block13_sepconv1[0][0]           \n",
            "__________________________________________________________________________________________________\n",
            "block13_sepconv2_act (Activatio (None, 19, 19, 728)  0           block13_sepconv1_bn[0][0]        \n",
            "__________________________________________________________________________________________________\n",
            "block13_sepconv2 (SeparableConv (None, 19, 19, 1024) 752024      block13_sepconv2_act[0][0]       \n",
            "__________________________________________________________________________________________________\n",
            "block13_sepconv2_bn (BatchNorma (None, 19, 19, 1024) 4096        block13_sepconv2[0][0]           \n",
            "__________________________________________________________________________________________________\n",
            "conv2d_12 (Conv2D)              (None, 10, 10, 1024) 745472      add_35[0][0]                     \n",
            "__________________________________________________________________________________________________\n",
            "block13_pool (MaxPooling2D)     (None, 10, 10, 1024) 0           block13_sepconv2_bn[0][0]        \n",
            "__________________________________________________________________________________________________\n",
            "batch_normalization_12 (BatchNo (None, 10, 10, 1024) 4096        conv2d_12[0][0]                  \n",
            "__________________________________________________________________________________________________\n",
            "add_36 (Add)                    (None, 10, 10, 1024) 0           block13_pool[0][0]               \n",
            "                                                                 batch_normalization_12[0][0]     \n",
            "__________________________________________________________________________________________________\n",
            "block14_sepconv1 (SeparableConv (None, 10, 10, 1536) 1582080     add_36[0][0]                     \n",
            "__________________________________________________________________________________________________\n",
            "block14_sepconv1_bn (BatchNorma (None, 10, 10, 1536) 6144        block14_sepconv1[0][0]           \n",
            "__________________________________________________________________________________________________\n",
            "block14_sepconv1_act (Activatio (None, 10, 10, 1536) 0           block14_sepconv1_bn[0][0]        \n",
            "__________________________________________________________________________________________________\n",
            "block14_sepconv2 (SeparableConv (None, 10, 10, 2048) 3159552     block14_sepconv1_act[0][0]       \n",
            "__________________________________________________________________________________________________\n",
            "block14_sepconv2_bn (BatchNorma (None, 10, 10, 2048) 8192        block14_sepconv2[0][0]           \n",
            "__________________________________________________________________________________________________\n",
            "block14_sepconv2_act (Activatio (None, 10, 10, 2048) 0           block14_sepconv2_bn[0][0]        \n",
            "==================================================================================================\n",
            "Total params: 20,861,480\n",
            "Trainable params: 0\n",
            "Non-trainable params: 20,861,480\n",
            "__________________________________________________________________________________________________\n"
          ],
          "name": "stdout"
        }
      ]
    },
    {
      "cell_type": "markdown",
      "metadata": {
        "id": "t07IAipqIano",
        "colab_type": "text"
      },
      "source": [
        "##Augmentations\n"
      ]
    },
    {
      "cell_type": "code",
      "metadata": {
        "id": "tXMT8JFmI3ya",
        "colab_type": "code",
        "colab": {}
      },
      "source": [
        "featurewise_center = False\n",
        "samplewise_center = False\n",
        "featurewise_std_normalization = False\n",
        "samplewise_std_normalization = False\n",
        "zca_whitening = False\n",
        "horizontal_flip = False\n",
        "vertical_flip = False\n",
        "\n",
        "brightness_range = None \n",
        "preprocessing_function = None\n",
        "\n",
        "zca_epsilon = 0\n",
        "rotation_range = 0\n",
        "width_shift_range = [-1, 0, +1]\n",
        "height_shift_range = [-1, 0, +1]\n",
        "shear_range = 0.0\n",
        "zoom_range = 0.2\n",
        "channel_shift_range = 0.0\n",
        "cval = 0.0\n",
        "interpolation_order = 1\n",
        "\n",
        "fill_mode = 'nearest'\n",
        "data_format = 'channels_last'\n"
      ],
      "execution_count": 0,
      "outputs": []
    },
    {
      "cell_type": "markdown",
      "metadata": {
        "id": "iA-uGNR1LREm",
        "colab_type": "text"
      },
      "source": [
        "##Preparing Data"
      ]
    },
    {
      "cell_type": "code",
      "metadata": {
        "id": "v6MDqsocLol2",
        "colab_type": "code",
        "colab": {}
      },
      "source": [
        "batch_s = 30\n",
        "\n",
        "validation_split = 0.4\n",
        "rescale = 1./255"
      ],
      "execution_count": 0,
      "outputs": []
    },
    {
      "cell_type": "code",
      "metadata": {
        "id": "ULS0U2FjMrYD",
        "colab_type": "code",
        "colab": {}
      },
      "source": [
        "train_datagen = ImageDataGenerator(\n",
        "    featurewise_center = featurewise_center,\n",
        "    samplewise_center = samplewise_center,\n",
        "    featurewise_std_normalization = featurewise_std_normalization,\n",
        "    samplewise_std_normalization = samplewise_std_normalization,\n",
        "    zca_whitening = zca_whitening,\n",
        "    zca_epsilon = zca_epsilon,\n",
        "    rotation_range = rotation_range,\n",
        "    width_shift_range = width_shift_range,\n",
        "    height_shift_range = height_shift_range,\n",
        "    brightness_range = brightness_range,\n",
        "    shear_range = shear_range,\n",
        "    zoom_range = zoom_range,\n",
        "    channel_shift_range = channel_shift_range,\n",
        "    fill_mode = fill_mode,\n",
        "    cval = cval,\n",
        "    horizontal_flip = horizontal_flip,\n",
        "    vertical_flip = vertical_flip,\n",
        "    preprocessing_function = preprocessing_function,\n",
        "    data_format = data_format,\n",
        "    validation_split = validation_split,\n",
        "    interpolation_order = interpolation_order,\n",
        "    rescale = rescale,\n",
        "    dtype = 'float32')"
      ],
      "execution_count": 0,
      "outputs": []
    },
    {
      "cell_type": "code",
      "metadata": {
        "id": "wqG73Dc1_cXW",
        "colab_type": "code",
        "colab": {
          "base_uri": "https://localhost:8080/",
          "height": 34
        },
        "outputId": "9a2fe9ba-f147-4843-bba2-f9dadbf0f8e2"
      },
      "source": [
        "train_set = train_datagen.flow_from_directory(\n",
        "    train_dir,\n",
        "    target_size = (img_width,img_height),\n",
        "    batch_size = batch_s,\n",
        "    class_mode = 'categorical',\n",
        "    subset = 'training')"
      ],
      "execution_count": 40,
      "outputs": [
        {
          "output_type": "stream",
          "text": [
            "Found 84 images belonging to 5 classes.\n"
          ],
          "name": "stdout"
        }
      ]
    },
    {
      "cell_type": "code",
      "metadata": {
        "id": "7DNE9ukRkK8L",
        "colab_type": "code",
        "colab": {
          "base_uri": "https://localhost:8080/",
          "height": 34
        },
        "outputId": "1c9d55de-03f0-45cc-b4de-aa9bc201ddb6"
      },
      "source": [
        "label_map = (train_set.class_indices)\n",
        "label_map"
      ],
      "execution_count": 62,
      "outputs": [
        {
          "output_type": "execute_result",
          "data": {
            "text/plain": [
              "{'Art1': 0, 'Art2': 1, 'Art3': 2, 'Art4': 3, 'Art5': 4}"
            ]
          },
          "metadata": {
            "tags": []
          },
          "execution_count": 62
        }
      ]
    },
    {
      "cell_type": "code",
      "metadata": {
        "id": "_3mDhTtf_Uao",
        "colab_type": "code",
        "colab": {
          "base_uri": "https://localhost:8080/",
          "height": 34
        },
        "outputId": "f2cb7be8-d551-4487-baa3-4cef088ead5f"
      },
      "source": [
        "validation_set = train_datagen.flow_from_directory(\n",
        "    train_dir, \n",
        "    target_size = (img_width,img_height),\n",
        "    batch_size = batch_s,\n",
        "    class_mode = 'categorical',\n",
        "    subset = 'validation')"
      ],
      "execution_count": 41,
      "outputs": [
        {
          "output_type": "stream",
          "text": [
            "Found 54 images belonging to 5 classes.\n"
          ],
          "name": "stdout"
        }
      ]
    },
    {
      "cell_type": "markdown",
      "metadata": {
        "id": "BGRQGGXC-lPO",
        "colab_type": "text"
      },
      "source": [
        "#Create Model\n"
      ]
    },
    {
      "cell_type": "code",
      "metadata": {
        "id": "flNipK-aWbHg",
        "colab_type": "code",
        "colab": {}
      },
      "source": [
        "model = models.Sequential()\n",
        "model.add(base_model)\n",
        "model.add(layers.Flatten())\n",
        "model.add(layers.Dropout(0.5))\n",
        "model.add(layers.Dense(256, activation = 'relu',\n",
        "                       kernel_initializer = initializers.RandomNormal(stddev = 0.01),\n",
        "                       bias_initializer = initializers.Zeros()))\n",
        "model.add(layers.Dense(5, activation = 'sigmoid',\n",
        "                       kernel_initializer = initializers.RandomNormal(stddev = 0.01),\n",
        "                       bias_initializer = initializers.Zeros()))\n",
        "for layer in base_model.layers:\n",
        "    layer.trainable = False"
      ],
      "execution_count": 0,
      "outputs": []
    },
    {
      "cell_type": "markdown",
      "metadata": {
        "id": "Wmd8uuP-qN46",
        "colab_type": "text"
      },
      "source": [
        "##Model Summary"
      ]
    },
    {
      "cell_type": "code",
      "metadata": {
        "id": "c8W9inyrqYi8",
        "colab_type": "code",
        "colab": {
          "base_uri": "https://localhost:8080/",
          "height": 323
        },
        "outputId": "6fec5ab8-757a-4f58-c4eb-98ba04d0368e"
      },
      "source": [
        "model.summary()"
      ],
      "execution_count": 91,
      "outputs": [
        {
          "output_type": "stream",
          "text": [
            "Model: \"sequential_4\"\n",
            "_________________________________________________________________\n",
            "Layer (type)                 Output Shape              Param #   \n",
            "=================================================================\n",
            "xception (Model)             (None, 10, 10, 2048)      20861480  \n",
            "_________________________________________________________________\n",
            "flatten_4 (Flatten)          (None, 204800)            0         \n",
            "_________________________________________________________________\n",
            "dropout_4 (Dropout)          (None, 204800)            0         \n",
            "_________________________________________________________________\n",
            "dense_7 (Dense)              (None, 256)               52429056  \n",
            "_________________________________________________________________\n",
            "dense_8 (Dense)              (None, 5)                 1285      \n",
            "=================================================================\n",
            "Total params: 73,291,821\n",
            "Trainable params: 52,430,341\n",
            "Non-trainable params: 20,861,480\n",
            "_________________________________________________________________\n"
          ],
          "name": "stdout"
        }
      ]
    },
    {
      "cell_type": "markdown",
      "metadata": {
        "id": "iFT7AVV_qYzL",
        "colab_type": "text"
      },
      "source": [
        "#Train Model"
      ]
    },
    {
      "cell_type": "code",
      "metadata": {
        "id": "oSVCue2zf_ZJ",
        "colab_type": "code",
        "colab": {}
      },
      "source": [
        "opt = optimizers.RMSprop(learning_rate=0.001)\n",
        "epochs = 50"
      ],
      "execution_count": 0,
      "outputs": []
    },
    {
      "cell_type": "code",
      "metadata": {
        "id": "i0AovFKyJxEr",
        "colab_type": "code",
        "outputId": "083611f2-2bd2-41b9-c376-6f34b4cddb67",
        "colab": {
          "base_uri": "https://localhost:8080/",
          "height": 1000
        }
      },
      "source": [
        "model.compile(optimizer = opt,\n",
        "              loss = 'categorical_crossentropy',\n",
        "              metrics = ['acc'])\n",
        "history = model.fit_generator(train_set,\n",
        "                              epochs = epochs,\n",
        "                              validation_data = validation_set)"
      ],
      "execution_count": 102,
      "outputs": [
        {
          "output_type": "stream",
          "text": [
            "Epoch 1/50\n",
            "3/3 [==============================] - 6s 2s/step - loss: 4.6746 - acc: 0.2143 - val_loss: 1.5826 - val_acc: 0.2407\n",
            "Epoch 2/50\n",
            "3/3 [==============================] - 3s 860ms/step - loss: 1.7229 - acc: 0.3929 - val_loss: 2.1970 - val_acc: 0.2222\n",
            "Epoch 3/50\n",
            "3/3 [==============================] - 3s 1s/step - loss: 1.4898 - acc: 0.3452 - val_loss: 1.4801 - val_acc: 0.3148\n",
            "Epoch 4/50\n",
            "3/3 [==============================] - 4s 1s/step - loss: 1.6050 - acc: 0.3333 - val_loss: 2.3797 - val_acc: 0.4074\n",
            "Epoch 5/50\n",
            "3/3 [==============================] - 3s 1s/step - loss: 1.3775 - acc: 0.4881 - val_loss: 3.4010 - val_acc: 0.2593\n",
            "Epoch 6/50\n",
            "3/3 [==============================] - 3s 1s/step - loss: 1.7591 - acc: 0.3214 - val_loss: 1.6698 - val_acc: 0.3148\n",
            "Epoch 7/50\n",
            "3/3 [==============================] - 3s 1s/step - loss: 1.4899 - acc: 0.4762 - val_loss: 1.3938 - val_acc: 0.3333\n",
            "Epoch 8/50\n",
            "3/3 [==============================] - 3s 1s/step - loss: 1.3167 - acc: 0.5833 - val_loss: 1.9191 - val_acc: 0.3333\n",
            "Epoch 9/50\n",
            "3/3 [==============================] - 4s 1s/step - loss: 1.9826 - acc: 0.5357 - val_loss: 1.8912 - val_acc: 0.2222\n",
            "Epoch 10/50\n",
            "3/3 [==============================] - 3s 1s/step - loss: 1.2093 - acc: 0.5595 - val_loss: 1.9486 - val_acc: 0.2963\n",
            "Epoch 11/50\n",
            "3/3 [==============================] - 3s 1s/step - loss: 1.4713 - acc: 0.4762 - val_loss: 1.4445 - val_acc: 0.3889\n",
            "Epoch 12/50\n",
            "3/3 [==============================] - 3s 1s/step - loss: 1.1053 - acc: 0.4881 - val_loss: 1.5367 - val_acc: 0.4074\n",
            "Epoch 13/50\n",
            "3/3 [==============================] - 3s 1s/step - loss: 1.0690 - acc: 0.4643 - val_loss: 3.6977 - val_acc: 0.4074\n",
            "Epoch 14/50\n",
            "3/3 [==============================] - 4s 1s/step - loss: 1.2015 - acc: 0.5357 - val_loss: 1.0718 - val_acc: 0.5370\n",
            "Epoch 15/50\n",
            "3/3 [==============================] - 3s 1s/step - loss: 0.7169 - acc: 0.7500 - val_loss: 3.3411 - val_acc: 0.4259\n",
            "Epoch 16/50\n",
            "3/3 [==============================] - 3s 1s/step - loss: 2.0832 - acc: 0.4881 - val_loss: 2.1877 - val_acc: 0.4259\n",
            "Epoch 17/50\n",
            "3/3 [==============================] - 3s 1s/step - loss: 1.4938 - acc: 0.5357 - val_loss: 1.1985 - val_acc: 0.5000\n",
            "Epoch 18/50\n",
            "3/3 [==============================] - 3s 1s/step - loss: 0.9789 - acc: 0.5357 - val_loss: 1.1670 - val_acc: 0.5185\n",
            "Epoch 19/50\n",
            "3/3 [==============================] - 3s 1s/step - loss: 1.0199 - acc: 0.6071 - val_loss: 1.9519 - val_acc: 0.4630\n",
            "Epoch 20/50\n",
            "3/3 [==============================] - 3s 1s/step - loss: 0.9099 - acc: 0.6667 - val_loss: 1.9114 - val_acc: 0.4815\n",
            "Epoch 21/50\n",
            "3/3 [==============================] - 3s 1s/step - loss: 0.9445 - acc: 0.5476 - val_loss: 1.1315 - val_acc: 0.6296\n",
            "Epoch 22/50\n",
            "3/3 [==============================] - 3s 1s/step - loss: 0.8518 - acc: 0.6190 - val_loss: 1.0856 - val_acc: 0.6111\n",
            "Epoch 23/50\n",
            "3/3 [==============================] - 3s 1s/step - loss: 0.6698 - acc: 0.7024 - val_loss: 4.7882 - val_acc: 0.5556\n",
            "Epoch 24/50\n",
            "3/3 [==============================] - 3s 1s/step - loss: 2.4213 - acc: 0.5357 - val_loss: 1.1436 - val_acc: 0.4444\n",
            "Epoch 25/50\n",
            "3/3 [==============================] - 3s 1s/step - loss: 1.0184 - acc: 0.5238 - val_loss: 1.7581 - val_acc: 0.4630\n",
            "Epoch 26/50\n",
            "3/3 [==============================] - 3s 1s/step - loss: 0.9212 - acc: 0.6071 - val_loss: 1.3082 - val_acc: 0.5370\n",
            "Epoch 27/50\n",
            "3/3 [==============================] - 3s 1s/step - loss: 1.1324 - acc: 0.5714 - val_loss: 1.3848 - val_acc: 0.5556\n",
            "Epoch 28/50\n",
            "3/3 [==============================] - 3s 1s/step - loss: 0.9191 - acc: 0.6786 - val_loss: 2.1716 - val_acc: 0.6296\n",
            "Epoch 29/50\n",
            "3/3 [==============================] - 3s 1s/step - loss: 0.7636 - acc: 0.7500 - val_loss: 2.5948 - val_acc: 0.5926\n",
            "Epoch 30/50\n",
            "3/3 [==============================] - 3s 1s/step - loss: 0.8071 - acc: 0.7143 - val_loss: 1.5064 - val_acc: 0.5741\n",
            "Epoch 31/50\n",
            "3/3 [==============================] - 3s 1s/step - loss: 0.3535 - acc: 0.8333 - val_loss: 1.3227 - val_acc: 0.6667\n",
            "Epoch 32/50\n",
            "3/3 [==============================] - 3s 1s/step - loss: 0.4520 - acc: 0.8333 - val_loss: 3.3129 - val_acc: 0.4444\n",
            "Epoch 33/50\n",
            "3/3 [==============================] - 3s 1s/step - loss: 1.5075 - acc: 0.6071 - val_loss: 2.2397 - val_acc: 0.4630\n",
            "Epoch 34/50\n",
            "3/3 [==============================] - 3s 1s/step - loss: 0.7494 - acc: 0.6071 - val_loss: 1.5623 - val_acc: 0.4630\n",
            "Epoch 35/50\n",
            "3/3 [==============================] - 3s 1s/step - loss: 0.9197 - acc: 0.5952 - val_loss: 2.1135 - val_acc: 0.6481\n",
            "Epoch 36/50\n",
            "3/3 [==============================] - 3s 1s/step - loss: 0.6377 - acc: 0.7024 - val_loss: 2.8812 - val_acc: 0.6111\n",
            "Epoch 37/50\n",
            "3/3 [==============================] - 3s 1s/step - loss: 0.4988 - acc: 0.7738 - val_loss: 3.1576 - val_acc: 0.5741\n",
            "Epoch 38/50\n",
            "3/3 [==============================] - 3s 1s/step - loss: 0.8116 - acc: 0.7738 - val_loss: 0.6510 - val_acc: 0.6111\n",
            "Epoch 39/50\n",
            "3/3 [==============================] - 3s 1s/step - loss: 0.4038 - acc: 0.8095 - val_loss: 4.4213 - val_acc: 0.6111\n",
            "Epoch 40/50\n",
            "3/3 [==============================] - 3s 1s/step - loss: 1.7000 - acc: 0.7738 - val_loss: 0.8786 - val_acc: 0.5741\n",
            "Epoch 41/50\n",
            "3/3 [==============================] - 3s 1s/step - loss: 0.8998 - acc: 0.6667 - val_loss: 2.7977 - val_acc: 0.4074\n",
            "Epoch 42/50\n",
            "3/3 [==============================] - 3s 1s/step - loss: 0.5603 - acc: 0.6786 - val_loss: 3.0854 - val_acc: 0.6111\n",
            "Epoch 43/50\n",
            "3/3 [==============================] - 3s 1s/step - loss: 0.5108 - acc: 0.7500 - val_loss: 0.7320 - val_acc: 0.6667\n",
            "Epoch 44/50\n",
            "3/3 [==============================] - 3s 1s/step - loss: 0.3970 - acc: 0.8095 - val_loss: 1.4180 - val_acc: 0.6111\n",
            "Epoch 45/50\n",
            "3/3 [==============================] - 3s 1s/step - loss: 0.6880 - acc: 0.8095 - val_loss: 2.1803 - val_acc: 0.4074\n",
            "Epoch 46/50\n",
            "3/3 [==============================] - 3s 1s/step - loss: 0.6652 - acc: 0.7500 - val_loss: 1.9557 - val_acc: 0.6296\n",
            "Epoch 47/50\n",
            "3/3 [==============================] - 3s 1s/step - loss: 0.6465 - acc: 0.7500 - val_loss: 3.7498 - val_acc: 0.5556\n",
            "Epoch 48/50\n",
            "3/3 [==============================] - 3s 1s/step - loss: 0.7431 - acc: 0.7738 - val_loss: 1.2031 - val_acc: 0.5000\n",
            "Epoch 49/50\n",
            "3/3 [==============================] - 3s 1s/step - loss: 0.4483 - acc: 0.7738 - val_loss: 1.7126 - val_acc: 0.5741\n",
            "Epoch 50/50\n",
            "3/3 [==============================] - 3s 1s/step - loss: 0.3844 - acc: 0.7738 - val_loss: 2.0389 - val_acc: 0.5556\n"
          ],
          "name": "stdout"
        }
      ]
    },
    {
      "cell_type": "code",
      "metadata": {
        "id": "D0jTg6agABkP",
        "colab_type": "code",
        "colab": {
          "base_uri": "https://localhost:8080/",
          "height": 573
        },
        "outputId": "7dedaf66-319b-45d7-f1c7-3df056ab346b"
      },
      "source": [
        "import matplotlib.pyplot as plt\n",
        "\n",
        "# Plot training & validation accuracy values\n",
        "plt.plot(history.history['acc'])\n",
        "plt.plot(history.history['val_acc'])\n",
        "plt.title('Model accuracy')\n",
        "plt.ylabel('Accuracy')\n",
        "plt.xlabel('Epoch')\n",
        "plt.legend(['Train', 'Test'], loc='upper left')\n",
        "plt.show()\n",
        "\n",
        "# Plot training & validation loss values\n",
        "plt.plot(history.history['loss'])\n",
        "plt.plot(history.history['val_loss'])\n",
        "plt.title('Model loss')\n",
        "plt.ylabel('Loss')\n",
        "plt.xlabel('Epoch')\n",
        "plt.legend(['Train', 'Test'], loc='upper left')\n",
        "plt.show()\n"
      ],
      "execution_count": 103,
      "outputs": [
        {
          "output_type": "display_data",
          "data": {
            "image/png": "[encoded data removed]",
            "text/plain": [
              "<Figure size 432x288 with 1 Axes>"
            ]
          },
          "metadata": {
            "tags": [],
            "needs_background": "light"
          }
        },
        {
          "output_type": "display_data",
          "data": {
            "image/png": "[encoded data removed]",
            "text/plain": [
              "<Figure size 432x288 with 1 Axes>"
            ]
          },
          "metadata": {
            "tags": [],
            "needs_background": "light"
          }
        }
      ]
    },
    {
      "cell_type": "markdown",
      "metadata": {
        "id": "6boD5m0rZ9cK",
        "colab_type": "text"
      },
      "source": [
        "##Testing Model"
      ]
    },
    {
      "cell_type": "code",
      "metadata": {
        "id": "vTEps0gnX_Gy",
        "colab_type": "code",
        "colab": {
          "base_uri": "https://localhost:8080/",
          "height": 269
        },
        "outputId": "89728c29-5508-4f60-c367-f55fe0cc0405"
      },
      "source": [
        "bild = 'Testbilder/P1040700.JPG'\n",
        "im = plt.imread(bild)\n",
        "\n",
        "plt.imshow(im)\n",
        "plt.show()\n"
      ],
      "execution_count": 97,
      "outputs": [
        {
          "output_type": "display_data",
          "data": {
            "image/png": "[encoded data removed]",
            "text/plain": [
              "<Figure size 432x288 with 1 Axes>"
            ]
          },
          "metadata": {
            "tags": [],
            "needs_background": "light"
          }
        }
      ]
    },
    {
      "cell_type": "code",
      "metadata": {
        "id": "93NNX9e0esSG",
        "colab_type": "code",
        "colab": {}
      },
      "source": [
        "AB = image.load_img(bild, target_size=(img_width, img_height))\n",
        "AB = image.img_to_array(AB)\n",
        "AB = np.expand_dims(AB, axis=0)"
      ],
      "execution_count": 0,
      "outputs": []
    },
    {
      "cell_type": "code",
      "metadata": {
        "id": "ijX0AH63ekCq",
        "colab_type": "code",
        "colab": {
          "base_uri": "https://localhost:8080/",
          "height": 34
        },
        "outputId": "ff1860fd-1279-4ccf-f840-aeaed7ae18f0"
      },
      "source": [
        "test_prediction = model.predict(AB)\n",
        "test_prediction = test_prediction.flatten()\n",
        "test_prediction"
      ],
      "execution_count": 105,
      "outputs": [
        {
          "output_type": "execute_result",
          "data": {
            "text/plain": [
              "array([0., 0., 0., 0., 0.], dtype=float32)"
            ]
          },
          "metadata": {
            "tags": []
          },
          "execution_count": 105
        }
      ]
    },
    {
      "cell_type": "code",
      "metadata": {
        "id": "tsFUwKXCZylO",
        "colab_type": "code",
        "colab": {
          "base_uri": "https://localhost:8080/",
          "height": 34
        },
        "outputId": "d1cc6b01-c0c8-4f95-c81f-fe7657d07cd3"
      },
      "source": [
        "model.predict_classes(AB)"
      ],
      "execution_count": 81,
      "outputs": [
        {
          "output_type": "execute_result",
          "data": {
            "text/plain": [
              "array([0])"
            ]
          },
          "metadata": {
            "tags": []
          },
          "execution_count": 81
        }
      ]
    },
    {
      "cell_type": "markdown",
      "metadata": {
        "id": "U7egH9OuHmLE",
        "colab_type": "text"
      },
      "source": [
        "##Save Model"
      ]
    },
    {
      "cell_type": "code",
      "metadata": {
        "id": "KgbJLJH3ookr",
        "colab_type": "code",
        "colab": {}
      },
      "source": [
        "model.save(\"/content/gdrive/My Drive/Keras Models/Xception_5-1.h5\")\n"
      ],
      "execution_count": 0,
      "outputs": []
    },
    {
      "cell_type": "markdown",
      "metadata": {
        "id": "WgvkRw_pHqTc",
        "colab_type": "text"
      },
      "source": [
        "#Load Validation Images"
      ]
    },
    {
      "cell_type": "code",
      "metadata": {
        "id": "8noOMLxcH-rW",
        "colab_type": "code",
        "colab": {}
      },
      "source": [
        "folder_path = 'Testbilder'"
      ],
      "execution_count": 0,
      "outputs": []
    },
    {
      "cell_type": "code",
      "metadata": {
        "id": "JsDzVPOYYvJm",
        "colab_type": "code",
        "colab": {}
      },
      "source": [
        "images = []\n",
        "for img in os.listdir(folder_path):\n",
        "    img = os.path.join(folder_path, img)\n",
        "    img = image.load_img(img, target_size=(img_width, img_height))\n",
        "    img = image.img_to_array(img)\n",
        "    img = np.expand_dims(img, axis=0)\n",
        "    images.append(img)"
      ],
      "execution_count": 0,
      "outputs": []
    },
    {
      "cell_type": "code",
      "metadata": {
        "id": "7Pa1VvTj3F4M",
        "colab_type": "code",
        "outputId": "ba27e072-f514-4f91-c7ad-10f6f31f0ce4",
        "colab": {
          "base_uri": "https://localhost:8080/",
          "height": 51
        }
      },
      "source": [
        "images = np.vstack(images)\n",
        "classes = model.predict_classes(images)\n",
        "print(classes)\n"
      ],
      "execution_count": 90,
      "outputs": [
        {
          "output_type": "stream",
          "text": [
            "[0 0 0 0 0 0 0 0 0 0 0 0 0 0 0 0 0 0 0 0 0 0 0 0 0 0 0 0 0 0 0 0 0 0 0 0 0\n",
            " 0 0 0 0 0 0 0 0 0 0 0 0 0 0 0 0 0 0 0 0]\n"
          ],
          "name": "stdout"
        }
      ]
    },
    {
      "cell_type": "markdown",
      "metadata": {
        "id": "bntnpDT05Vx5",
        "colab_type": "text"
      },
      "source": [
        "#Perform Classification"
      ]
    },
    {
      "cell_type": "code",
      "metadata": {
        "id": "_AeYVXl5pOGJ",
        "colab_type": "code",
        "colab": {}
      },
      "source": [
        "import json\n",
        "def Vorhersage(Artikelfoto, Speicherort_KI_Modell, Name_KI_Modell):\n",
        "\n",
        "    model = models.load_model(Speicherort_KI_Modell + Name_KI_Modell)\n",
        "    model.compile(optimizer=opt, loss='categorical_crossentropy', metrics=['acc'])\n",
        "    Artikelfoto = image.load_img(Artikelfoto, target_size=(img_width, img_height))\n",
        "    Artikelfoto = image.img_to_array(Artikelfoto)\n",
        "    Artikelfoto = np.expand_dims(Artikelfoto, axis=0)\n",
        "    prediction = model.predict(Artikelfoto)\n",
        "    prediction = prediction.flatten()\n",
        "    artikelnummer = 'Art' + str(np.argmax(prediction)+1)\n",
        "    wahrscheinlichkeit = str(prediction[np.argmax(prediction)])\n",
        "\n",
        "    response = json.dumps({\"Artikelnummer\":artikelnummer, \"Wahrscheinlichkeit\":wahrscheinlichkeit})\n",
        "\n",
        "    return response"
      ],
      "execution_count": 0,
      "outputs": []
    },
    {
      "cell_type": "code",
      "metadata": {
        "id": "tm69ZxOb42Dv",
        "colab_type": "code",
        "outputId": "543f4315-0d89-4acb-9deb-4ba7b96477b5",
        "colab": {
          "base_uri": "https://localhost:8080/",
          "height": 34
        }
      },
      "source": [
        "Vorhersage(Abfragebild, Speicherort_KI_Modell, Name_KI_Modell)"
      ],
      "execution_count": 56,
      "outputs": [
        {
          "output_type": "execute_result",
          "data": {
            "text/plain": [
              "'{\"Artikelnummer\": \"Art1\", \"Wahrscheinlichkeit\": \"0.0\"}'"
            ]
          },
          "metadata": {
            "tags": []
          },
          "execution_count": 56
        }
      ]
    }
  ]
}