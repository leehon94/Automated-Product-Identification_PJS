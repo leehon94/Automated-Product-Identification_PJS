{
  "nbformat": 4,
  "nbformat_minor": 0,
  "metadata": {
    "colab": {
      "name": "Copy of Xception PJS.ipynb",
      "provenance": [],
      "toc_visible": true
    },
    "kernelspec": {
      "name": "python3",
      "display_name": "Python 3"
    },
    "accelerator": "GPU"
  },
  "cells": [
    {
      "cell_type": "markdown",
      "metadata": {
        "id": "wyCRPwgN9Y8T",
        "colab_type": "text"
      },
      "source": [
        "#Set up Colab and Drive for Project"
      ]
    },
    {
      "cell_type": "code",
      "metadata": {
        "id": "Hd_Nmme2qOht",
        "colab_type": "code",
        "outputId": "f14a1eb4-4867-424c-a9c6-4998299602ae",
        "colab": {
          "base_uri": "https://localhost:8080/",
          "height": 54
        }
      },
      "source": [
        "from google.colab import drive \n",
        "drive.mount('/content/gdrive')"
      ],
      "execution_count": 1,
      "outputs": [
        {
          "output_type": "stream",
          "text": [
            "Drive already mounted at /content/gdrive; to attempt to forcibly remount, call drive.mount(\"/content/gdrive\", force_remount=True).\n"
          ],
          "name": "stdout"
        }
      ]
    },
    {
      "cell_type": "code",
      "metadata": {
        "id": "OX7MEh9W91i0",
        "colab_type": "code",
        "colab": {
          "base_uri": "https://localhost:8080/",
          "height": 34
        },
        "outputId": "80b1b3f4-22a6-4e87-b40e-87fd809ac051"
      },
      "source": [
        "%cd '/content/gdrive/My Drive/MVP Datensatz/'\n",
        "train_dir = 'Trainingsdatensatz5'"
      ],
      "execution_count": 2,
      "outputs": [
        {
          "output_type": "stream",
          "text": [
            "/content/gdrive/My Drive/MVP Datensatz\n"
          ],
          "name": "stdout"
        }
      ]
    },
    {
      "cell_type": "code",
      "metadata": {
        "id": "ozlhf6PVMyAe",
        "colab_type": "code",
        "colab": {
          "base_uri": "https://localhost:8080/",
          "height": 34
        },
        "outputId": "77ce929d-42ae-449b-d178-823762eec947"
      },
      "source": [
        "from keras import optimizers\n",
        "from keras import layers\n",
        "from keras import models\n",
        "from keras import initializers\n",
        "\n",
        "import os\n",
        "import numpy as np\n",
        "from keras.preprocessing.image import ImageDataGenerator\n",
        "from keras.preprocessing import image\n",
        "from keras import backend as K\n"
      ],
      "execution_count": 3,
      "outputs": [
        {
          "output_type": "stream",
          "text": [
            "Using TensorFlow backend.\n"
          ],
          "name": "stderr"
        }
      ]
    },
    {
      "cell_type": "markdown",
      "metadata": {
        "id": "L5q4wtwZ-51I",
        "colab_type": "text"
      },
      "source": [
        "#Global Variables\n"
      ]
    },
    {
      "cell_type": "code",
      "metadata": {
        "id": "EtVxF_GK--ML",
        "colab_type": "code",
        "colab": {}
      },
      "source": [
        "img_width = 299\n",
        "img_height = 299\n"
      ],
      "execution_count": 0,
      "outputs": []
    },
    {
      "cell_type": "code",
      "metadata": {
        "id": "m0biOz5yWEb6",
        "colab_type": "code",
        "colab": {}
      },
      "source": [
        "epochs = 50\n",
        "batch_s = 30"
      ],
      "execution_count": 0,
      "outputs": []
    },
    {
      "cell_type": "code",
      "metadata": {
        "id": "tf-KLNQDFovF",
        "colab_type": "code",
        "colab": {}
      },
      "source": [
        "opt = optimizers.Adam(learning_rate=0.001)\n",
        "\n",
        "Abfragebild = 'Testbilder/P1040695.JPG'\n",
        "\n",
        "Speicherort_KI_Modell = '/content/gdrive/My Drive/Keras Models'\n",
        "Name_KI_Modell = '/Xception_5-1.h5'"
      ],
      "execution_count": 0,
      "outputs": []
    },
    {
      "cell_type": "markdown",
      "metadata": {
        "id": "zdyiFaXZ-Rng",
        "colab_type": "text"
      },
      "source": [
        "#Create Base Model, Training and Valdidation Generators\n"
      ]
    },
    {
      "cell_type": "code",
      "metadata": {
        "id": "wMnMy_k9foh3",
        "colab_type": "code",
        "colab": {}
      },
      "source": [
        "# Xception\n",
        "\n",
        "from keras.applications import Xception\n",
        "base_model = Xception(\n",
        "  weights = 'imagenet',\n",
        "  include_top = False,\n",
        "  input_shape = (img_width,img_height,3) \n",
        " )\n"
      ],
      "execution_count": 0,
      "outputs": []
    },
    {
      "cell_type": "markdown",
      "metadata": {
        "id": "t07IAipqIano",
        "colab_type": "text"
      },
      "source": [
        "##Augmentations\n"
      ]
    },
    {
      "cell_type": "code",
      "metadata": {
        "id": "tXMT8JFmI3ya",
        "colab_type": "code",
        "colab": {}
      },
      "source": [
        "featurewise_center = False\n",
        "samplewise_center = False\n",
        "featurewise_std_normalization = False\n",
        "samplewise_std_normalization = False\n",
        "zca_whitening = False\n",
        "horizontal_flip = False\n",
        "vertical_flip = False\n",
        "\n",
        "brightness_range = None \n",
        "preprocessing_function = None\n",
        "\n",
        "zca_epsilon = 0\n",
        "rotation_range = 180\n",
        "width_shift_range = [-1, 0, +1]\n",
        "height_shift_range = [-1, 0, +1]\n",
        "shear_range = 0.0\n",
        "zoom_range = 0.2\n",
        "channel_shift_range = 0.0\n",
        "cval = 0.0\n",
        "interpolation_order = 1\n",
        "\n",
        "fill_mode = 'nearest'\n",
        "data_format = 'channels_last'\n"
      ],
      "execution_count": 0,
      "outputs": []
    },
    {
      "cell_type": "markdown",
      "metadata": {
        "id": "iA-uGNR1LREm",
        "colab_type": "text"
      },
      "source": [
        "##Preparing Data"
      ]
    },
    {
      "cell_type": "code",
      "metadata": {
        "id": "v6MDqsocLol2",
        "colab_type": "code",
        "colab": {}
      },
      "source": [
        "validation_split = 0.4\n",
        "rescale = 1./255\n"
      ],
      "execution_count": 0,
      "outputs": []
    },
    {
      "cell_type": "code",
      "metadata": {
        "id": "ULS0U2FjMrYD",
        "colab_type": "code",
        "colab": {}
      },
      "source": [
        "train_datagen = ImageDataGenerator(\n",
        "                          featurewise_center = featurewise_center,\n",
        "                          samplewise_center = samplewise_center,\n",
        "                          featurewise_std_normalization = featurewise_std_normalization,\n",
        "                          samplewise_std_normalization = samplewise_std_normalization,\n",
        "                          zca_whitening = zca_whitening,\n",
        "                          zca_epsilon = zca_epsilon,\n",
        "                          rotation_range = rotation_range,\n",
        "                          width_shift_range = width_shift_range,\n",
        "                          height_shift_range = height_shift_range,\n",
        "                          brightness_range = brightness_range,\n",
        "                          shear_range = shear_range,\n",
        "                          zoom_range = zoom_range,\n",
        "                          channel_shift_range = channel_shift_range,\n",
        "                          fill_mode = fill_mode,\n",
        "                          cval = cval,\n",
        "                          horizontal_flip = horizontal_flip,\n",
        "                          vertical_flip = vertical_flip,\n",
        "                          preprocessing_function = preprocessing_function,\n",
        "                          data_format = data_format,\n",
        "                          validation_split = validation_split,\n",
        "                          interpolation_order = interpolation_order,\n",
        "                          rescale = rescale,\n",
        "                          dtype = 'float32'\n",
        "                          )"
      ],
      "execution_count": 0,
      "outputs": []
    },
    {
      "cell_type": "code",
      "metadata": {
        "id": "wqG73Dc1_cXW",
        "colab_type": "code",
        "colab": {
          "base_uri": "https://localhost:8080/",
          "height": 34
        },
        "outputId": "5dc4a6a9-4d4a-4bfe-c952-4b81bda1890f"
      },
      "source": [
        "train_set = train_datagen.flow_from_directory(\n",
        "                          train_dir, \n",
        "                          target_size = (img_width,img_height),\n",
        "                          batch_size = batch_s,\n",
        "                          class_mode = 'categorical',\n",
        "                          subset = 'training'\n",
        "                          )\n"
      ],
      "execution_count": 11,
      "outputs": [
        {
          "output_type": "stream",
          "text": [
            "Found 84 images belonging to 5 classes.\n"
          ],
          "name": "stdout"
        }
      ]
    },
    {
      "cell_type": "code",
      "metadata": {
        "id": "_3mDhTtf_Uao",
        "colab_type": "code",
        "colab": {
          "base_uri": "https://localhost:8080/",
          "height": 34
        },
        "outputId": "6170e946-84a6-45c6-f87b-d942107f6967"
      },
      "source": [
        "validation_set = train_datagen.flow_from_directory(\n",
        "                          train_dir, \n",
        "                          target_size = (img_width,img_height),\n",
        "                          batch_size = batch_s,\n",
        "                          class_mode = 'categorical',\n",
        "                          subset = 'validation'\n",
        "                          )\n",
        "       "
      ],
      "execution_count": 12,
      "outputs": [
        {
          "output_type": "stream",
          "text": [
            "Found 54 images belonging to 5 classes.\n"
          ],
          "name": "stdout"
        }
      ]
    },
    {
      "cell_type": "markdown",
      "metadata": {
        "id": "BGRQGGXC-lPO",
        "colab_type": "text"
      },
      "source": [
        "#Create and Train Model\n"
      ]
    },
    {
      "cell_type": "code",
      "metadata": {
        "id": "flNipK-aWbHg",
        "colab_type": "code",
        "colab": {}
      },
      "source": [
        "model = models.Sequential()\n",
        "model.add(base_model)\n",
        "model.add(layers.Flatten())\n",
        "model.add(layers.Dropout(0.5))\n",
        "model.add(layers.Dense(256, activation = 'relu', kernel_initializer = initializers.RandomNormal(stddev = 0.01), bias_initializer = initializers.Zeros()))\n",
        "model.add(layers.Dense(5, activation = 'sigmoid', kernel_initializer = initializers.RandomNormal(stddev = 0.01), bias_initializer = initializers.Zeros()))\n",
        "for layer in base_model.layers:\n",
        "    layer.trainable = False\n"
      ],
      "execution_count": 0,
      "outputs": []
    },
    {
      "cell_type": "code",
      "metadata": {
        "id": "i0AovFKyJxEr",
        "colab_type": "code",
        "outputId": "750c7b9b-d7a7-4193-b6ec-b33ec70cae2e",
        "colab": {
          "base_uri": "https://localhost:8080/",
          "height": 1000
        }
      },
      "source": [
        "model.compile(optimizer=opt, loss='categorical_crossentropy', metrics=['acc'])\n",
        "history = model.fit_generator(\n",
        "                    train_set,\n",
        "                    epochs = epochs,\n",
        "                    validation_data = validation_set\n",
        "                    )\n"
      ],
      "execution_count": 14,
      "outputs": [
        {
          "output_type": "stream",
          "text": [
            "Epoch 1/50\n",
            "3/3 [==============================] - 9s 3s/step - loss: 1.9422 - acc: 0.3095 - val_loss: 1.6138 - val_acc: 0.2778\n",
            "Epoch 2/50\n",
            "3/3 [==============================] - 3s 863ms/step - loss: 1.4615 - acc: 0.2976 - val_loss: 1.6248 - val_acc: 0.3148\n",
            "Epoch 3/50\n",
            "3/3 [==============================] - 3s 1s/step - loss: 1.2251 - acc: 0.2976 - val_loss: 1.4467 - val_acc: 0.2963\n",
            "Epoch 4/50\n",
            "3/3 [==============================] - 3s 1s/step - loss: 1.1804 - acc: 0.2976 - val_loss: 1.5820 - val_acc: 0.2778\n",
            "Epoch 5/50\n",
            "3/3 [==============================] - 3s 1s/step - loss: 1.2118 - acc: 0.3214 - val_loss: 1.6914 - val_acc: 0.3148\n",
            "Epoch 6/50\n",
            "3/3 [==============================] - 4s 1s/step - loss: 1.2991 - acc: 0.2738 - val_loss: 1.3142 - val_acc: 0.3333\n",
            "Epoch 7/50\n",
            "3/3 [==============================] - 4s 1s/step - loss: 1.2383 - acc: 0.3571 - val_loss: 1.2683 - val_acc: 0.3704\n",
            "Epoch 8/50\n",
            "3/3 [==============================] - 4s 1s/step - loss: 1.2135 - acc: 0.4048 - val_loss: 1.3400 - val_acc: 0.3333\n",
            "Epoch 9/50\n",
            "3/3 [==============================] - 4s 1s/step - loss: 1.2812 - acc: 0.5595 - val_loss: 1.2919 - val_acc: 0.3333\n",
            "Epoch 10/50\n",
            "3/3 [==============================] - 4s 1s/step - loss: 1.1840 - acc: 0.4167 - val_loss: 1.3130 - val_acc: 0.3704\n",
            "Epoch 11/50\n",
            "3/3 [==============================] - 4s 1s/step - loss: 1.1602 - acc: 0.3690 - val_loss: 1.5312 - val_acc: 0.3519\n",
            "Epoch 12/50\n",
            "3/3 [==============================] - 3s 1s/step - loss: 1.3285 - acc: 0.4048 - val_loss: 1.3752 - val_acc: 0.3519\n",
            "Epoch 13/50\n",
            "3/3 [==============================] - 4s 1s/step - loss: 1.1061 - acc: 0.5000 - val_loss: 1.4549 - val_acc: 0.2778\n",
            "Epoch 14/50\n",
            "3/3 [==============================] - 4s 1s/step - loss: 1.0765 - acc: 0.4643 - val_loss: 1.4597 - val_acc: 0.2593\n",
            "Epoch 15/50\n",
            "3/3 [==============================] - 4s 1s/step - loss: 1.0355 - acc: 0.4762 - val_loss: 1.6763 - val_acc: 0.2222\n",
            "Epoch 16/50\n",
            "3/3 [==============================] - 4s 1s/step - loss: 0.9487 - acc: 0.4524 - val_loss: 1.4509 - val_acc: 0.2407\n",
            "Epoch 17/50\n",
            "3/3 [==============================] - 4s 1s/step - loss: 1.1206 - acc: 0.5119 - val_loss: 1.2067 - val_acc: 0.2593\n",
            "Epoch 18/50\n",
            "3/3 [==============================] - 4s 1s/step - loss: 0.9559 - acc: 0.4286 - val_loss: 1.6439 - val_acc: 0.2778\n",
            "Epoch 19/50\n",
            "3/3 [==============================] - 4s 1s/step - loss: 1.1186 - acc: 0.4048 - val_loss: 1.7010 - val_acc: 0.3148\n",
            "Epoch 20/50\n",
            "3/3 [==============================] - 3s 1s/step - loss: 0.8931 - acc: 0.5238 - val_loss: 1.2044 - val_acc: 0.4074\n",
            "Epoch 21/50\n",
            "3/3 [==============================] - 4s 1s/step - loss: 0.9906 - acc: 0.7024 - val_loss: 1.2230 - val_acc: 0.5185\n",
            "Epoch 22/50\n",
            "3/3 [==============================] - 4s 1s/step - loss: 0.9085 - acc: 0.6429 - val_loss: 0.9090 - val_acc: 0.4259\n",
            "Epoch 23/50\n",
            "3/3 [==============================] - 4s 1s/step - loss: 0.8968 - acc: 0.7024 - val_loss: 1.1022 - val_acc: 0.4630\n",
            "Epoch 24/50\n",
            "3/3 [==============================] - 4s 1s/step - loss: 0.6363 - acc: 0.6667 - val_loss: 1.1138 - val_acc: 0.5185\n",
            "Epoch 25/50\n",
            "3/3 [==============================] - 4s 1s/step - loss: 0.8100 - acc: 0.6071 - val_loss: 2.5071 - val_acc: 0.5185\n",
            "Epoch 26/50\n",
            "3/3 [==============================] - 4s 1s/step - loss: 0.8506 - acc: 0.6429 - val_loss: 0.8878 - val_acc: 0.5000\n",
            "Epoch 27/50\n",
            "3/3 [==============================] - 4s 1s/step - loss: 0.6987 - acc: 0.7738 - val_loss: 1.9889 - val_acc: 0.4815\n",
            "Epoch 28/50\n",
            "3/3 [==============================] - 4s 1s/step - loss: 0.6822 - acc: 0.7024 - val_loss: 2.9861 - val_acc: 0.4444\n",
            "Epoch 29/50\n",
            "3/3 [==============================] - 4s 1s/step - loss: 0.9435 - acc: 0.6905 - val_loss: 1.7123 - val_acc: 0.5000\n",
            "Epoch 30/50\n",
            "3/3 [==============================] - 4s 1s/step - loss: 0.5430 - acc: 0.8095 - val_loss: 1.5088 - val_acc: 0.5556\n",
            "Epoch 31/50\n",
            "3/3 [==============================] - 4s 1s/step - loss: 0.5043 - acc: 0.7976 - val_loss: 1.1325 - val_acc: 0.5556\n",
            "Epoch 32/50\n",
            "3/3 [==============================] - 4s 1s/step - loss: 0.5721 - acc: 0.7024 - val_loss: 1.5563 - val_acc: 0.6296\n",
            "Epoch 33/50\n",
            "3/3 [==============================] - 4s 1s/step - loss: 0.5713 - acc: 0.7381 - val_loss: 1.7447 - val_acc: 0.4259\n",
            "Epoch 34/50\n",
            "3/3 [==============================] - 4s 1s/step - loss: 0.7090 - acc: 0.7262 - val_loss: 0.8079 - val_acc: 0.5185\n",
            "Epoch 35/50\n",
            "3/3 [==============================] - 4s 1s/step - loss: 0.5711 - acc: 0.7381 - val_loss: 1.2726 - val_acc: 0.5741\n",
            "Epoch 36/50\n",
            "3/3 [==============================] - 4s 1s/step - loss: 0.4659 - acc: 0.7976 - val_loss: 1.0683 - val_acc: 0.6111\n",
            "Epoch 37/50\n",
            "3/3 [==============================] - 4s 1s/step - loss: 0.4731 - acc: 0.8333 - val_loss: 1.3092 - val_acc: 0.6667\n",
            "Epoch 38/50\n",
            "3/3 [==============================] - 4s 1s/step - loss: 1.0549 - acc: 0.7976 - val_loss: 2.6686 - val_acc: 0.6481\n",
            "Epoch 39/50\n",
            "3/3 [==============================] - 4s 1s/step - loss: 0.8139 - acc: 0.7857 - val_loss: 2.0495 - val_acc: 0.5000\n",
            "Epoch 40/50\n",
            "3/3 [==============================] - 4s 1s/step - loss: 1.7881 - acc: 0.6548 - val_loss: 1.2959 - val_acc: 0.5926\n",
            "Epoch 41/50\n",
            "3/3 [==============================] - 4s 1s/step - loss: 0.8724 - acc: 0.8452 - val_loss: 0.7237 - val_acc: 0.7778\n",
            "Epoch 42/50\n",
            "3/3 [==============================] - 4s 1s/step - loss: 0.6986 - acc: 0.8810 - val_loss: 1.0731 - val_acc: 0.5556\n",
            "Epoch 43/50\n",
            "3/3 [==============================] - 4s 1s/step - loss: 0.7310 - acc: 0.7024 - val_loss: 0.8722 - val_acc: 0.5370\n",
            "Epoch 44/50\n",
            "3/3 [==============================] - 4s 1s/step - loss: 0.6571 - acc: 0.6548 - val_loss: 1.5150 - val_acc: 0.4630\n",
            "Epoch 45/50\n",
            "3/3 [==============================] - 4s 1s/step - loss: 0.9434 - acc: 0.5833 - val_loss: 1.5067 - val_acc: 0.5556\n",
            "Epoch 46/50\n",
            "3/3 [==============================] - 4s 1s/step - loss: 0.6384 - acc: 0.7738 - val_loss: 0.8753 - val_acc: 0.5741\n",
            "Epoch 47/50\n",
            "3/3 [==============================] - 4s 1s/step - loss: 0.5229 - acc: 0.8452 - val_loss: 0.9993 - val_acc: 0.6852\n",
            "Epoch 48/50\n",
            "3/3 [==============================] - 4s 1s/step - loss: 0.4670 - acc: 0.8571 - val_loss: 0.8889 - val_acc: 0.7407\n",
            "Epoch 49/50\n",
            "3/3 [==============================] - 4s 1s/step - loss: 0.3476 - acc: 0.8333 - val_loss: 0.8781 - val_acc: 0.7222\n",
            "Epoch 50/50\n",
            "3/3 [==============================] - 4s 1s/step - loss: 1.0241 - acc: 0.7500 - val_loss: 2.0010 - val_acc: 0.6667\n"
          ],
          "name": "stdout"
        }
      ]
    },
    {
      "cell_type": "code",
      "metadata": {
        "id": "D0jTg6agABkP",
        "colab_type": "code",
        "colab": {
          "base_uri": "https://localhost:8080/",
          "height": 573
        },
        "outputId": "c1f7ce0e-299d-4939-ff2c-288cca7fd8ac"
      },
      "source": [
        "import matplotlib.pyplot as plt\n",
        "\n",
        "# Plot training & validation accuracy values\n",
        "plt.plot(history.history['acc'])\n",
        "plt.plot(history.history['val_acc'])\n",
        "plt.title('Model accuracy')\n",
        "plt.ylabel('Accuracy')\n",
        "plt.xlabel('Epoch')\n",
        "plt.legend(['Train', 'Test'], loc='upper left')\n",
        "plt.show()\n",
        "\n",
        "# Plot training & validation loss values\n",
        "plt.plot(history.history['loss'])\n",
        "plt.plot(history.history['val_loss'])\n",
        "plt.title('Model loss')\n",
        "plt.ylabel('Loss')\n",
        "plt.xlabel('Epoch')\n",
        "plt.legend(['Train', 'Test'], loc='upper left')\n",
        "plt.show()\n"
      ],
      "execution_count": 15,
      "outputs": [
        {
          "output_type": "display_data",
          "data": {
            "image/png": "[encoded data removed]",
            "text/plain": [
              "<Figure size 432x288 with 1 Axes>"
            ]
          },
          "metadata": {
            "tags": [],
            "needs_background": "light"
          }
        },
        {
          "output_type": "display_data",
          "data": {
            "image/png": "[encoded data removed]",
            "text/plain": [
              "<Figure size 432x288 with 1 Axes>"
            ]
          },
          "metadata": {
            "tags": [],
            "needs_background": "light"
          }
        }
      ]
    },
    {
      "cell_type": "markdown",
      "metadata": {
        "id": "6boD5m0rZ9cK",
        "colab_type": "text"
      },
      "source": [
        "##Testing Model"
      ]
    },
    {
      "cell_type": "code",
      "metadata": {
        "id": "vTEps0gnX_Gy",
        "colab_type": "code",
        "colab": {
          "base_uri": "https://localhost:8080/",
          "height": 34
        },
        "outputId": "1f9dd56e-877a-4b7a-b78a-1f5d726cbcd1"
      },
      "source": [
        "AB = image.load_img(Abfragebild, target_size=(img_width, img_height))\n",
        "AB = image.img_to_array(AB)\n",
        "AB = np.expand_dims(AB, axis=0)\n",
        "model.predict(AB)"
      ],
      "execution_count": 30,
      "outputs": [
        {
          "output_type": "execute_result",
          "data": {
            "text/plain": [
              "array([[0., 0., 0., 0., 0.]], dtype=float32)"
            ]
          },
          "metadata": {
            "tags": []
          },
          "execution_count": 30
        }
      ]
    },
    {
      "cell_type": "code",
      "metadata": {
        "id": "tsFUwKXCZylO",
        "colab_type": "code",
        "colab": {
          "base_uri": "https://localhost:8080/",
          "height": 34
        },
        "outputId": "830007d6-0aa5-4735-8ef2-65b04af4a310"
      },
      "source": [
        "model.predict_classes(AB)"
      ],
      "execution_count": 29,
      "outputs": [
        {
          "output_type": "execute_result",
          "data": {
            "text/plain": [
              "array([0])"
            ]
          },
          "metadata": {
            "tags": []
          },
          "execution_count": 29
        }
      ]
    },
    {
      "cell_type": "markdown",
      "metadata": {
        "id": "U7egH9OuHmLE",
        "colab_type": "text"
      },
      "source": [
        "##Save Model"
      ]
    },
    {
      "cell_type": "code",
      "metadata": {
        "id": "KgbJLJH3ookr",
        "colab_type": "code",
        "colab": {}
      },
      "source": [
        "model.save(\"/content/gdrive/My Drive/Keras Models/Xception_5-1.h5\")\n"
      ],
      "execution_count": 0,
      "outputs": []
    },
    {
      "cell_type": "markdown",
      "metadata": {
        "id": "WgvkRw_pHqTc",
        "colab_type": "text"
      },
      "source": [
        "#Load Validation Images"
      ]
    },
    {
      "cell_type": "code",
      "metadata": {
        "id": "8noOMLxcH-rW",
        "colab_type": "code",
        "colab": {}
      },
      "source": [
        "folder_path = 'Testbilder'"
      ],
      "execution_count": 0,
      "outputs": []
    },
    {
      "cell_type": "code",
      "metadata": {
        "id": "JsDzVPOYYvJm",
        "colab_type": "code",
        "colab": {}
      },
      "source": [
        "images = []\n",
        "for img in os.listdir(folder_path):\n",
        "    img = os.path.join(folder_path, img)\n",
        "    img = image.load_img(img, target_size=(img_width, img_height))\n",
        "    img = image.img_to_array(img)\n",
        "    img = np.expand_dims(img, axis=0)\n",
        "    images.append(img)"
      ],
      "execution_count": 0,
      "outputs": []
    },
    {
      "cell_type": "code",
      "metadata": {
        "id": "7Pa1VvTj3F4M",
        "colab_type": "code",
        "outputId": "6f08bbb7-386e-4be3-c71a-d8a624395da4",
        "colab": {
          "base_uri": "https://localhost:8080/",
          "height": 51
        }
      },
      "source": [
        "images = np.vstack(images)\n",
        "classes = model.predict_classes(images)\n",
        "print(classes)\n"
      ],
      "execution_count": 26,
      "outputs": [
        {
          "output_type": "stream",
          "text": [
            "[0 0 0 0 0 0 0 0 0 0 0 0 0 0 0 0 0 0 0 0 0 0 0 0 0 0 0 0 0 0 0 0 0 0 0 0 0\n",
            " 0 0 0 0 0 0 0 0 0 0 0 0 0 0 0 0 0 0 0 0]\n"
          ],
          "name": "stdout"
        }
      ]
    },
    {
      "cell_type": "markdown",
      "metadata": {
        "id": "bntnpDT05Vx5",
        "colab_type": "text"
      },
      "source": [
        "#Perform Classification"
      ]
    },
    {
      "cell_type": "code",
      "metadata": {
        "id": "_AeYVXl5pOGJ",
        "colab_type": "code",
        "colab": {}
      },
      "source": [
        "import json\n",
        "def Vorhersage(Artikelfoto, Speicherort_KI_Modell, Name_KI_Modell):\n",
        "\n",
        "    model = models.load_model(Speicherort_KI_Modell + Name_KI_Modell)\n",
        "    model.compile(optimizer=opt, loss='categorical_crossentropy', metrics=['acc'])\n",
        "    Artikelfoto = image.load_img(Artikelfoto, target_size=(img_width, img_height))\n",
        "    Artikelfoto = image.img_to_array(Artikelfoto)\n",
        "    Artikelfoto = np.expand_dims(Artikelfoto, axis=0)\n",
        "    prediction = model.predict(Artikelfoto)\n",
        "    prediction = prediction.flatten()\n",
        "    artikelnummer = 'Art' + str(np.argmax(prediction)+1)\n",
        "    wahrscheinlichkeit = str(prediction[np.argmax(prediction)])\n",
        "\n",
        "    response = json.dumps({\"Artikelnummer\":artikelnummer, \"Wahrscheinlichkeit\":wahrscheinlichkeit})\n",
        "\n",
        "    return response"
      ],
      "execution_count": 0,
      "outputs": []
    },
    {
      "cell_type": "code",
      "metadata": {
        "id": "r_QVX6ytXtOV",
        "colab_type": "code",
        "colab": {
          "base_uri": "https://localhost:8080/",
          "height": 164
        },
        "outputId": "452893d0-c349-4483-83ae-284cb508200a"
      },
      "source": [
        "model.predict(Artikelfoto)"
      ],
      "execution_count": 22,
      "outputs": [
        {
          "output_type": "error",
          "ename": "NameError",
          "evalue": "ignored",
          "traceback": [
            "\u001b[0;31m---------------------------------------------------------------------------\u001b[0m",
            "\u001b[0;31mNameError\u001b[0m                                 Traceback (most recent call last)",
            "\u001b[0;32m<ipython-input-22-820ddf7f22a7>\u001b[0m in \u001b[0;36m<module>\u001b[0;34m()\u001b[0m\n\u001b[0;32m----> 1\u001b[0;31m \u001b[0mmodel\u001b[0m\u001b[0;34m.\u001b[0m\u001b[0mpredict\u001b[0m\u001b[0;34m(\u001b[0m\u001b[0mArtikelfoto\u001b[0m\u001b[0;34m)\u001b[0m\u001b[0;34m\u001b[0m\u001b[0;34m\u001b[0m\u001b[0m\n\u001b[0m",
            "\u001b[0;31mNameError\u001b[0m: name 'Artikelfoto' is not defined"
          ]
        }
      ]
    },
    {
      "cell_type": "code",
      "metadata": {
        "id": "tm69ZxOb42Dv",
        "colab_type": "code",
        "outputId": "a9025538-74a7-403a-d14f-fd9956e4232b",
        "colab": {
          "base_uri": "https://localhost:8080/",
          "height": 34
        }
      },
      "source": [
        "Vorhersage(Abfragebild, Speicherort_KI_Modell, Name_KI_Modell)"
      ],
      "execution_count": 20,
      "outputs": [
        {
          "output_type": "execute_result",
          "data": {
            "text/plain": [
              "'{\"Artikelnummer\": \"Art1\", \"Wahrscheinlichkeit\": \"0.0\"}'"
            ]
          },
          "metadata": {
            "tags": []
          },
          "execution_count": 20
        }
      ]
    }
  ]
}