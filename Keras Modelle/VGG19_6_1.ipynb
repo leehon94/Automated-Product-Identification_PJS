{
  "nbformat": 4,
  "nbformat_minor": 0,
  "metadata": {
    "colab": {
      "name": "VGG19_6-1.ipynb",
      "provenance": [],
      "include_colab_link": true
    },
    "kernelspec": {
      "name": "python3",
      "display_name": "Python 3"
    },
    "accelerator": "GPU"
  },
  "cells": [
    {
      "cell_type": "markdown",
      "metadata": {
        "id": "view-in-github",
        "colab_type": "text"
      },
      "source": [
        "<a href=\"https://colab.research.google.com/github/leehon94/Automated-Product-Identification_PJS/blob/master/Keras%20Modelle/VGG19_6_1.ipynb\" target=\"_parent\"><img src=\"https://colab.research.google.com/assets/colab-badge.svg\" alt=\"Open In Colab\"/></a>"
      ]
    },
    {
      "cell_type": "markdown",
      "metadata": {
        "id": "wyCRPwgN9Y8T",
        "colab_type": "text"
      },
      "source": [
        "#Set up Colab and Drive for Project"
      ]
    },
    {
      "cell_type": "code",
      "metadata": {
        "id": "Hd_Nmme2qOht",
        "colab_type": "code",
        "outputId": "f4997f6e-5d00-46b9-9f97-69f5316e4535",
        "colab": {
          "base_uri": "https://localhost:8080/",
          "height": 122
        }
      },
      "source": [
        "from google.colab import drive \n",
        "drive.mount('/content/gdrive')"
      ],
      "execution_count": 1,
      "outputs": [
        {
          "output_type": "stream",
          "text": [
            "Go to this URL in a browser: https://accounts.google.com/o/oauth2/auth?client_id=947318989803-6bn6qk8qdgf4n4g3pfee6491hc0brc4i.apps.googleusercontent.com&redirect_uri=urn%3aietf%3awg%3aoauth%3a2.0%3aoob&response_type=code&scope=email%20https%3a%2f%2fwww.googleapis.com%2fauth%2fdocs.test%20https%3a%2f%2fwww.googleapis.com%2fauth%2fdrive%20https%3a%2f%2fwww.googleapis.com%2fauth%2fdrive.photos.readonly%20https%3a%2f%2fwww.googleapis.com%2fauth%2fpeopleapi.readonly\n",
            "\n",
            "Enter your authorization code:\n",
            "··········\n",
            "Mounted at /content/gdrive\n"
          ],
          "name": "stdout"
        }
      ]
    },
    {
      "cell_type": "code",
      "metadata": {
        "id": "OX7MEh9W91i0",
        "colab_type": "code",
        "outputId": "ecd8897c-8434-4c40-d241-2964de63258c",
        "colab": {
          "base_uri": "https://localhost:8080/",
          "height": 34
        }
      },
      "source": [
        "%cd '/content/gdrive/My Drive/MVP Datensatz/'\n",
        "train_dir = 'Trainingsdatensatz6'"
      ],
      "execution_count": 2,
      "outputs": [
        {
          "output_type": "stream",
          "text": [
            "/content/gdrive/My Drive/MVP Datensatz\n"
          ],
          "name": "stdout"
        }
      ]
    },
    {
      "cell_type": "code",
      "metadata": {
        "id": "ozlhf6PVMyAe",
        "colab_type": "code",
        "colab": {
          "base_uri": "https://localhost:8080/",
          "height": 34
        },
        "outputId": "df882664-d190-4440-9a1a-ced015aca6c2"
      },
      "source": [
        "from keras import optimizers\n",
        "from keras import layers\n",
        "from keras import models\n",
        "from keras import initializers\n",
        "\n",
        "import os\n",
        "import numpy as np\n",
        "from keras.preprocessing.image import ImageDataGenerator\n",
        "from keras.preprocessing import image\n",
        "from keras import backend as K\n"
      ],
      "execution_count": 3,
      "outputs": [
        {
          "output_type": "stream",
          "text": [
            "Using TensorFlow backend.\n"
          ],
          "name": "stderr"
        }
      ]
    },
    {
      "cell_type": "markdown",
      "metadata": {
        "id": "zdyiFaXZ-Rng",
        "colab_type": "text"
      },
      "source": [
        "#Create Base Model"
      ]
    },
    {
      "cell_type": "code",
      "metadata": {
        "id": "wMnMy_k9foh3",
        "colab_type": "code",
        "colab": {}
      },
      "source": [
        "# VGG19\n",
        "img_width = 640\n",
        "img_height = 480\n",
        "\n",
        "from keras.applications import VGG19\n",
        "base_model = VGG19(\n",
        "  weights = 'imagenet',\n",
        "  include_top = False,\n",
        "  input_shape = (img_height,img_width,3) \n",
        " )"
      ],
      "execution_count": 0,
      "outputs": []
    },
    {
      "cell_type": "markdown",
      "metadata": {
        "id": "MOFbsAmquxKa",
        "colab_type": "text"
      },
      "source": [
        "##Base Model Summary"
      ]
    },
    {
      "cell_type": "code",
      "metadata": {
        "id": "06DnOCmqqrZt",
        "colab_type": "code",
        "colab": {}
      },
      "source": [
        "base_model.summary()"
      ],
      "execution_count": 0,
      "outputs": []
    },
    {
      "cell_type": "markdown",
      "metadata": {
        "id": "42AUfD5Du5U8",
        "colab_type": "text"
      },
      "source": [
        "#Create Training and Validation Set"
      ]
    },
    {
      "cell_type": "markdown",
      "metadata": {
        "id": "t07IAipqIano",
        "colab_type": "text"
      },
      "source": [
        "##Augmentations\n"
      ]
    },
    {
      "cell_type": "code",
      "metadata": {
        "id": "tXMT8JFmI3ya",
        "colab_type": "code",
        "colab": {}
      },
      "source": [
        "featurewise_center = False\n",
        "samplewise_center = False\n",
        "featurewise_std_normalization = False\n",
        "samplewise_std_normalization = False\n",
        "zca_whitening = False\n",
        "horizontal_flip = False\n",
        "vertical_flip = False\n",
        "\n",
        "brightness_range = None \n",
        "preprocessing_function = None\n",
        "\n",
        "zca_epsilon = 0\n",
        "rotation_range = 0\n",
        "#width_shift_range = [-1, 0, +1]\n",
        "#height_shift_range = [-1, 0, +1]\n",
        "shear_range = 0.0\n",
        "zoom_range = 0.2\n",
        "channel_shift_range = 0.0\n",
        "cval = 0.0\n",
        "interpolation_order = 1\n",
        "\n",
        "fill_mode = 'nearest'\n",
        "data_format = 'channels_last'\n"
      ],
      "execution_count": 0,
      "outputs": []
    },
    {
      "cell_type": "markdown",
      "metadata": {
        "id": "iA-uGNR1LREm",
        "colab_type": "text"
      },
      "source": [
        "##Preparing Data"
      ]
    },
    {
      "cell_type": "code",
      "metadata": {
        "id": "v6MDqsocLol2",
        "colab_type": "code",
        "colab": {}
      },
      "source": [
        "batch_s = 32\n",
        "\n",
        "validation_split = 0.3\n",
        "rescale = 1./255\n",
        "img_width = 224\n",
        "img_height = 224"
      ],
      "execution_count": 0,
      "outputs": []
    },
    {
      "cell_type": "code",
      "metadata": {
        "id": "ULS0U2FjMrYD",
        "colab_type": "code",
        "colab": {}
      },
      "source": [
        "train_datagen = ImageDataGenerator(\n",
        "    featurewise_center = featurewise_center,\n",
        "    samplewise_center = samplewise_center,\n",
        "    featurewise_std_normalization = featurewise_std_normalization,\n",
        "    samplewise_std_normalization = samplewise_std_normalization,\n",
        "    zca_whitening = zca_whitening,\n",
        "    zca_epsilon = zca_epsilon,\n",
        "    rotation_range = rotation_range,\n",
        "    #width_shift_range = width_shift_range,\n",
        "    #height_shift_range = height_shift_range,\n",
        "    brightness_range = brightness_range,\n",
        "    shear_range = shear_range,\n",
        "    zoom_range = zoom_range,\n",
        "    channel_shift_range = channel_shift_range,\n",
        "    fill_mode = fill_mode,\n",
        "    cval = cval,\n",
        "    horizontal_flip = horizontal_flip,\n",
        "    vertical_flip = vertical_flip,\n",
        "    preprocessing_function = preprocessing_function,\n",
        "    data_format = data_format,\n",
        "    validation_split = validation_split,\n",
        "    interpolation_order = interpolation_order,\n",
        "    rescale = rescale,\n",
        "    dtype = 'float32')"
      ],
      "execution_count": 0,
      "outputs": []
    },
    {
      "cell_type": "code",
      "metadata": {
        "id": "wqG73Dc1_cXW",
        "colab_type": "code",
        "outputId": "306353a6-caf9-4ad7-826e-b00a8ee0e22d",
        "colab": {
          "base_uri": "https://localhost:8080/",
          "height": 34
        }
      },
      "source": [
        "train_set = train_datagen.flow_from_directory(\n",
        "    train_dir,\n",
        "    target_size = (img_height,img_width),\n",
        "    batch_size = batch_s,\n",
        "    class_mode = 'categorical',\n",
        "    subset = 'training')"
      ],
      "execution_count": 7,
      "outputs": [
        {
          "output_type": "stream",
          "text": [
            "Found 209 images belonging to 5 classes.\n"
          ],
          "name": "stdout"
        }
      ]
    },
    {
      "cell_type": "code",
      "metadata": {
        "id": "_3mDhTtf_Uao",
        "colab_type": "code",
        "outputId": "2373c694-ce3f-4811-cf5d-29d52db11e24",
        "colab": {
          "base_uri": "https://localhost:8080/",
          "height": 34
        }
      },
      "source": [
        "validation_set = train_datagen.flow_from_directory(\n",
        "    train_dir, \n",
        "    target_size = (img_height,img_width),\n",
        "    batch_size = batch_s,\n",
        "    class_mode = 'categorical',\n",
        "    subset = 'validation')"
      ],
      "execution_count": 8,
      "outputs": [
        {
          "output_type": "stream",
          "text": [
            "Found 89 images belonging to 5 classes.\n"
          ],
          "name": "stdout"
        }
      ]
    },
    {
      "cell_type": "markdown",
      "metadata": {
        "id": "iFT7AVV_qYzL",
        "colab_type": "text"
      },
      "source": [
        "#Create and Train Model"
      ]
    },
    {
      "cell_type": "code",
      "metadata": {
        "id": "oSVCue2zf_ZJ",
        "colab_type": "code",
        "colab": {}
      },
      "source": [
        "opt = optimizers.Adam(learning_rate=0.001)\n",
        "epochs = 100"
      ],
      "execution_count": 0,
      "outputs": []
    },
    {
      "cell_type": "code",
      "metadata": {
        "id": "i0AovFKyJxEr",
        "colab_type": "code",
        "colab": {}
      },
      "source": [
        "model = models.Sequential()\n",
        "model.add(base_model)\n",
        "for layer in base_model.layers:\n",
        "    layer.trainable = False\n",
        "\n",
        "model.add(layers.Conv2D(filters = 512, kernel_size=(3,3)))\n",
        "model.add(layers.MaxPooling2D())\n",
        "model.add(layers.Flatten())\n",
        "model.add(layers.Dropout(0.5))\n",
        "model.add(layers.Dense(256, activation = 'relu', kernel_initializer = initializers.RandomNormal(stddev = 0.01), bias_initializer = initializers.Zeros()))\n",
        "model.add(layers.Dense(5, activation = 'sigmoid', kernel_initializer = initializers.RandomNormal(stddev = 0.01), bias_initializer = initializers.Zeros()))\n",
        "\n",
        "model = models.Model(inputs=input_layer, outputs=model_head)\n",
        "model.compile(optimizer = opt,loss = 'categorical_crossentropy', metrics = ['acc'])"
      ],
      "execution_count": 0,
      "outputs": []
    },
    {
      "cell_type": "markdown",
      "metadata": {
        "id": "NMZQfO0Cx7jL",
        "colab_type": "text"
      },
      "source": [
        "#Second Try: Create and Train Model\n"
      ]
    },
    {
      "cell_type": "code",
      "metadata": {
        "id": "96q0amoPQGR-",
        "colab_type": "code",
        "colab": {}
      },
      "source": [
        "# VGG19\n",
        "\n",
        "from keras.applications import VGG19"
      ],
      "execution_count": 0,
      "outputs": []
    },
    {
      "cell_type": "code",
      "metadata": {
        "id": "WPvNSR63yZMr",
        "colab_type": "code",
        "colab": {}
      },
      "source": [
        "opt = optimizers.Adam(learning_rate=0.001)\n",
        "epochs = 100"
      ],
      "execution_count": 0,
      "outputs": []
    },
    {
      "cell_type": "code",
      "metadata": {
        "id": "FAiJkHm_NnK8",
        "colab_type": "code",
        "colab": {
          "base_uri": "https://localhost:8080/",
          "height": 71
        },
        "outputId": "d391fd1c-df43-48c9-e141-cc36bfa213a6"
      },
      "source": [
        "input_layer = layers.Input(shape=(img_height, img_width, 3), name=\"model_input\")\n",
        "vgg19_base = VGG19(weights=\"imagenet\", include_top=False, input_shape=(img_height,img_width,3), input_tensor=input_layer)\n",
        "\n",
        "for layer in vgg19_base.layers:\n",
        "    layer.trainable = False\n",
        "\n",
        "model_head = vgg19_base.output\n",
        "model_head = layers.Flatten(name=\"model_head_flatten\")(model_head)\n",
        "model_head = layers.Dense(256, activation=\"relu\")(model_head)\n",
        "model_head = layers.Dense(5, activation=\"softmax\")(model_head)\n",
        "model = models.Model(inputs=input_layer, outputs=model_head)\n"
      ],
      "execution_count": 11,
      "outputs": [
        {
          "output_type": "stream",
          "text": [
            "Downloading data from https://github.com/fchollet/deep-learning-models/releases/download/v0.1/vgg19_weights_tf_dim_ordering_tf_kernels_notop.h5\n",
            "80142336/80134624 [==============================] - 3s 0us/step\n"
          ],
          "name": "stdout"
        }
      ]
    },
    {
      "cell_type": "code",
      "metadata": {
        "id": "_Va8cqHgcp1A",
        "colab_type": "code",
        "colab": {}
      },
      "source": [
        "model.summary()"
      ],
      "execution_count": 0,
      "outputs": []
    },
    {
      "cell_type": "code",
      "metadata": {
        "id": "kAy-lSkcQVrc",
        "colab_type": "code",
        "outputId": "08f6bb0d-b670-499a-e653-892bb328737e",
        "colab": {
          "base_uri": "https://localhost:8080/",
          "height": 1000
        }
      },
      "source": [
        "model.compile(loss=\"categorical_crossentropy\", optimizer=opt, metrics=[\"acc\"])\n",
        "history = model.fit_generator(train_set, epochs = epochs, validation_data = validation_set)"
      ],
      "execution_count": 12,
      "outputs": [
        {
          "output_type": "stream",
          "text": [
            "Epoch 1/100\n",
            "7/7 [==============================] - 78s 11s/step - loss: 5.6763 - acc: 0.1962 - val_loss: 5.2022 - val_acc: 0.2022\n",
            "Epoch 2/100\n",
            "7/7 [==============================] - 5s 721ms/step - loss: 2.7514 - acc: 0.3397 - val_loss: 1.8130 - val_acc: 0.2135\n",
            "Epoch 3/100\n",
            "7/7 [==============================] - 6s 793ms/step - loss: 1.8211 - acc: 0.3589 - val_loss: 1.2150 - val_acc: 0.4157\n",
            "Epoch 4/100\n",
            "7/7 [==============================] - 6s 800ms/step - loss: 1.2812 - acc: 0.4737 - val_loss: 1.3990 - val_acc: 0.4270\n",
            "Epoch 5/100\n",
            "7/7 [==============================] - 6s 805ms/step - loss: 1.1267 - acc: 0.4641 - val_loss: 1.1124 - val_acc: 0.5056\n",
            "Epoch 6/100\n",
            "7/7 [==============================] - 6s 803ms/step - loss: 0.9824 - acc: 0.5694 - val_loss: 1.3711 - val_acc: 0.4944\n",
            "Epoch 7/100\n",
            "7/7 [==============================] - 6s 797ms/step - loss: 0.8778 - acc: 0.6938 - val_loss: 0.9580 - val_acc: 0.6292\n",
            "Epoch 8/100\n",
            "7/7 [==============================] - 6s 790ms/step - loss: 0.8103 - acc: 0.7273 - val_loss: 1.0699 - val_acc: 0.5618\n",
            "Epoch 9/100\n",
            "7/7 [==============================] - 6s 806ms/step - loss: 0.8013 - acc: 0.6555 - val_loss: 0.9077 - val_acc: 0.6404\n",
            "Epoch 10/100\n",
            "7/7 [==============================] - 6s 796ms/step - loss: 0.7145 - acc: 0.7895 - val_loss: 0.6565 - val_acc: 0.6404\n",
            "Epoch 11/100\n",
            "7/7 [==============================] - 6s 797ms/step - loss: 0.7149 - acc: 0.6746 - val_loss: 1.0618 - val_acc: 0.6404\n",
            "Epoch 12/100\n",
            "7/7 [==============================] - 6s 791ms/step - loss: 0.6826 - acc: 0.7512 - val_loss: 0.9033 - val_acc: 0.6404\n",
            "Epoch 13/100\n",
            "7/7 [==============================] - 6s 789ms/step - loss: 0.6442 - acc: 0.8134 - val_loss: 0.7213 - val_acc: 0.6404\n",
            "Epoch 14/100\n",
            "7/7 [==============================] - 6s 787ms/step - loss: 0.5924 - acc: 0.7464 - val_loss: 0.9636 - val_acc: 0.6742\n",
            "Epoch 15/100\n",
            "7/7 [==============================] - 6s 788ms/step - loss: 0.5542 - acc: 0.7895 - val_loss: 0.9607 - val_acc: 0.6629\n",
            "Epoch 16/100\n",
            "7/7 [==============================] - 6s 788ms/step - loss: 0.5821 - acc: 0.8182 - val_loss: 0.8807 - val_acc: 0.6742\n",
            "Epoch 17/100\n",
            "7/7 [==============================] - 6s 787ms/step - loss: 0.5772 - acc: 0.7512 - val_loss: 0.9349 - val_acc: 0.6629\n",
            "Epoch 18/100\n",
            "7/7 [==============================] - 5s 782ms/step - loss: 0.5279 - acc: 0.8086 - val_loss: 0.9325 - val_acc: 0.6517\n",
            "Epoch 19/100\n",
            "7/7 [==============================] - 5s 785ms/step - loss: 0.4994 - acc: 0.8278 - val_loss: 0.7921 - val_acc: 0.6854\n",
            "Epoch 20/100\n",
            "7/7 [==============================] - 6s 796ms/step - loss: 0.4626 - acc: 0.8995 - val_loss: 0.5974 - val_acc: 0.6517\n",
            "Epoch 21/100\n",
            "7/7 [==============================] - 5s 779ms/step - loss: 0.4409 - acc: 0.8852 - val_loss: 0.6872 - val_acc: 0.6629\n",
            "Epoch 22/100\n",
            "7/7 [==============================] - 6s 786ms/step - loss: 0.4411 - acc: 0.8565 - val_loss: 0.5927 - val_acc: 0.6517\n",
            "Epoch 23/100\n",
            "7/7 [==============================] - 6s 786ms/step - loss: 0.4311 - acc: 0.8756 - val_loss: 0.7060 - val_acc: 0.6404\n",
            "Epoch 24/100\n",
            "7/7 [==============================] - 6s 788ms/step - loss: 0.3940 - acc: 0.8900 - val_loss: 1.0869 - val_acc: 0.6742\n",
            "Epoch 25/100\n",
            "7/7 [==============================] - 5s 785ms/step - loss: 0.4566 - acc: 0.8469 - val_loss: 0.5194 - val_acc: 0.7191\n",
            "Epoch 26/100\n",
            "7/7 [==============================] - 6s 787ms/step - loss: 0.4670 - acc: 0.8278 - val_loss: 0.9093 - val_acc: 0.6292\n",
            "Epoch 27/100\n",
            "7/7 [==============================] - 5s 782ms/step - loss: 0.4721 - acc: 0.8086 - val_loss: 0.7968 - val_acc: 0.6629\n",
            "Epoch 28/100\n",
            "7/7 [==============================] - 5s 785ms/step - loss: 0.4748 - acc: 0.7990 - val_loss: 1.1203 - val_acc: 0.6629\n",
            "Epoch 29/100\n",
            "7/7 [==============================] - 5s 784ms/step - loss: 0.4447 - acc: 0.8134 - val_loss: 1.0073 - val_acc: 0.6292\n",
            "Epoch 30/100\n",
            "7/7 [==============================] - 5s 785ms/step - loss: 0.4403 - acc: 0.7943 - val_loss: 1.0507 - val_acc: 0.6067\n",
            "Epoch 31/100\n",
            "7/7 [==============================] - 6s 788ms/step - loss: 0.4423 - acc: 0.8182 - val_loss: 0.8034 - val_acc: 0.6854\n",
            "Epoch 32/100\n",
            "7/7 [==============================] - 6s 788ms/step - loss: 0.3892 - acc: 0.8517 - val_loss: 1.5443 - val_acc: 0.6292\n",
            "Epoch 33/100\n",
            "7/7 [==============================] - 6s 796ms/step - loss: 0.4658 - acc: 0.7990 - val_loss: 0.4685 - val_acc: 0.7079\n",
            "Epoch 34/100\n",
            "7/7 [==============================] - 6s 793ms/step - loss: 0.3615 - acc: 0.8900 - val_loss: 1.1123 - val_acc: 0.6629\n",
            "Epoch 35/100\n",
            "7/7 [==============================] - 5s 784ms/step - loss: 0.3545 - acc: 0.8565 - val_loss: 1.2972 - val_acc: 0.7191\n",
            "Epoch 36/100\n",
            "7/7 [==============================] - 5s 783ms/step - loss: 0.4362 - acc: 0.7895 - val_loss: 0.9896 - val_acc: 0.7079\n",
            "Epoch 37/100\n",
            "7/7 [==============================] - 5s 782ms/step - loss: 0.3741 - acc: 0.8373 - val_loss: 0.9973 - val_acc: 0.6629\n",
            "Epoch 38/100\n",
            "7/7 [==============================] - 5s 778ms/step - loss: 0.3361 - acc: 0.8612 - val_loss: 0.7159 - val_acc: 0.6966\n",
            "Epoch 39/100\n",
            "7/7 [==============================] - 6s 790ms/step - loss: 0.2932 - acc: 0.9426 - val_loss: 0.5651 - val_acc: 0.6629\n",
            "Epoch 40/100\n",
            "7/7 [==============================] - 5s 784ms/step - loss: 0.2926 - acc: 0.9187 - val_loss: 0.5207 - val_acc: 0.6854\n",
            "Epoch 41/100\n",
            "7/7 [==============================] - 5s 779ms/step - loss: 0.2797 - acc: 0.9330 - val_loss: 1.0483 - val_acc: 0.6742\n",
            "Epoch 42/100\n",
            "7/7 [==============================] - 5s 785ms/step - loss: 0.2899 - acc: 0.9139 - val_loss: 1.0308 - val_acc: 0.6854\n",
            "Epoch 43/100\n",
            "7/7 [==============================] - 6s 789ms/step - loss: 0.3078 - acc: 0.8900 - val_loss: 0.5707 - val_acc: 0.6517\n",
            "Epoch 44/100\n",
            "7/7 [==============================] - 6s 792ms/step - loss: 0.3008 - acc: 0.9043 - val_loss: 1.1040 - val_acc: 0.6742\n",
            "Epoch 45/100\n",
            "7/7 [==============================] - 6s 792ms/step - loss: 0.3421 - acc: 0.8469 - val_loss: 0.9772 - val_acc: 0.6742\n",
            "Epoch 46/100\n",
            "7/7 [==============================] - 5s 772ms/step - loss: 0.3020 - acc: 0.8900 - val_loss: 1.1249 - val_acc: 0.6854\n",
            "Epoch 47/100\n",
            "7/7 [==============================] - 5s 778ms/step - loss: 0.2650 - acc: 0.9234 - val_loss: 1.4290 - val_acc: 0.6966\n",
            "Epoch 48/100\n",
            "7/7 [==============================] - 5s 783ms/step - loss: 0.2857 - acc: 0.8900 - val_loss: 0.4290 - val_acc: 0.7079\n",
            "Epoch 49/100\n",
            "7/7 [==============================] - 5s 786ms/step - loss: 0.2539 - acc: 0.9330 - val_loss: 0.6240 - val_acc: 0.6517\n",
            "Epoch 50/100\n",
            "7/7 [==============================] - 5s 774ms/step - loss: 0.2309 - acc: 0.9234 - val_loss: 0.6254 - val_acc: 0.6854\n",
            "Epoch 51/100\n",
            "7/7 [==============================] - 5s 768ms/step - loss: 0.2453 - acc: 0.9187 - val_loss: 1.1897 - val_acc: 0.6854\n",
            "Epoch 52/100\n",
            "7/7 [==============================] - 5s 779ms/step - loss: 0.2277 - acc: 0.9426 - val_loss: 1.1032 - val_acc: 0.6966\n",
            "Epoch 53/100\n",
            "7/7 [==============================] - 5s 775ms/step - loss: 0.2491 - acc: 0.9091 - val_loss: 0.4633 - val_acc: 0.7191\n",
            "Epoch 54/100\n",
            "7/7 [==============================] - 5s 780ms/step - loss: 0.2973 - acc: 0.8565 - val_loss: 1.0708 - val_acc: 0.6854\n",
            "Epoch 55/100\n",
            "7/7 [==============================] - 5s 772ms/step - loss: 0.2604 - acc: 0.8995 - val_loss: 0.9962 - val_acc: 0.6742\n",
            "Epoch 56/100\n",
            "7/7 [==============================] - 5s 777ms/step - loss: 0.2801 - acc: 0.8900 - val_loss: 0.6995 - val_acc: 0.7079\n",
            "Epoch 57/100\n",
            "7/7 [==============================] - 5s 772ms/step - loss: 0.3106 - acc: 0.8660 - val_loss: 1.0768 - val_acc: 0.6966\n",
            "Epoch 58/100\n",
            "7/7 [==============================] - 5s 776ms/step - loss: 0.2691 - acc: 0.9091 - val_loss: 0.5501 - val_acc: 0.7191\n",
            "Epoch 59/100\n",
            "7/7 [==============================] - 5s 768ms/step - loss: 0.2515 - acc: 0.8900 - val_loss: 0.8494 - val_acc: 0.6854\n",
            "Epoch 60/100\n",
            "7/7 [==============================] - 5s 770ms/step - loss: 0.2390 - acc: 0.9282 - val_loss: 0.8880 - val_acc: 0.6742\n",
            "Epoch 61/100\n",
            "7/7 [==============================] - 5s 778ms/step - loss: 0.2396 - acc: 0.8995 - val_loss: 0.9231 - val_acc: 0.7416\n",
            "Epoch 62/100\n",
            "7/7 [==============================] - 5s 771ms/step - loss: 0.2513 - acc: 0.8947 - val_loss: 0.7542 - val_acc: 0.6966\n",
            "Epoch 63/100\n",
            "7/7 [==============================] - 5s 773ms/step - loss: 0.2820 - acc: 0.8804 - val_loss: 1.1483 - val_acc: 0.7191\n",
            "Epoch 64/100\n",
            "7/7 [==============================] - 5s 781ms/step - loss: 0.1976 - acc: 0.9474 - val_loss: 0.8172 - val_acc: 0.7079\n",
            "Epoch 65/100\n",
            "7/7 [==============================] - 5s 764ms/step - loss: 0.2090 - acc: 0.9187 - val_loss: 1.1948 - val_acc: 0.6404\n",
            "Epoch 66/100\n",
            "7/7 [==============================] - 5s 775ms/step - loss: 0.2423 - acc: 0.8947 - val_loss: 1.5843 - val_acc: 0.6404\n",
            "Epoch 67/100\n",
            "7/7 [==============================] - 5s 768ms/step - loss: 0.3434 - acc: 0.8612 - val_loss: 0.8850 - val_acc: 0.6742\n",
            "Epoch 68/100\n",
            "7/7 [==============================] - 5s 778ms/step - loss: 0.2079 - acc: 0.9426 - val_loss: 0.5769 - val_acc: 0.6966\n",
            "Epoch 69/100\n",
            "7/7 [==============================] - 5s 772ms/step - loss: 0.2262 - acc: 0.9043 - val_loss: 0.9785 - val_acc: 0.6629\n",
            "Epoch 70/100\n",
            "7/7 [==============================] - 5s 772ms/step - loss: 0.2738 - acc: 0.8708 - val_loss: 0.5083 - val_acc: 0.6629\n",
            "Epoch 71/100\n",
            "7/7 [==============================] - 5s 765ms/step - loss: 0.2025 - acc: 0.9330 - val_loss: 0.6293 - val_acc: 0.6966\n",
            "Epoch 72/100\n",
            "7/7 [==============================] - 5s 778ms/step - loss: 0.1653 - acc: 0.9665 - val_loss: 1.0256 - val_acc: 0.6854\n",
            "Epoch 73/100\n",
            "7/7 [==============================] - 5s 769ms/step - loss: 0.1684 - acc: 0.9617 - val_loss: 1.0165 - val_acc: 0.6966\n",
            "Epoch 74/100\n",
            "7/7 [==============================] - 5s 765ms/step - loss: 0.1802 - acc: 0.9426 - val_loss: 0.6633 - val_acc: 0.6966\n",
            "Epoch 75/100\n",
            "7/7 [==============================] - 5s 776ms/step - loss: 0.1791 - acc: 0.9522 - val_loss: 0.9389 - val_acc: 0.6966\n",
            "Epoch 76/100\n",
            "7/7 [==============================] - 5s 773ms/step - loss: 0.1696 - acc: 0.9665 - val_loss: 0.6657 - val_acc: 0.7303\n",
            "Epoch 77/100\n",
            "7/7 [==============================] - 5s 773ms/step - loss: 0.1691 - acc: 0.9569 - val_loss: 0.8778 - val_acc: 0.6854\n",
            "Epoch 78/100\n",
            "7/7 [==============================] - 5s 777ms/step - loss: 0.1662 - acc: 0.9569 - val_loss: 0.6353 - val_acc: 0.7079\n",
            "Epoch 79/100\n",
            "7/7 [==============================] - 5s 763ms/step - loss: 0.2029 - acc: 0.9091 - val_loss: 1.8879 - val_acc: 0.6966\n",
            "Epoch 80/100\n",
            "7/7 [==============================] - 5s 770ms/step - loss: 0.2060 - acc: 0.9234 - val_loss: 0.9867 - val_acc: 0.6629\n",
            "Epoch 81/100\n",
            "7/7 [==============================] - 5s 772ms/step - loss: 0.2364 - acc: 0.8852 - val_loss: 0.9050 - val_acc: 0.7416\n",
            "Epoch 82/100\n",
            "7/7 [==============================] - 5s 766ms/step - loss: 0.1784 - acc: 0.9378 - val_loss: 1.1867 - val_acc: 0.6629\n",
            "Epoch 83/100\n",
            "7/7 [==============================] - 5s 767ms/step - loss: 0.1588 - acc: 0.9713 - val_loss: 1.1500 - val_acc: 0.7079\n",
            "Epoch 84/100\n",
            "7/7 [==============================] - 5s 771ms/step - loss: 0.1522 - acc: 0.9569 - val_loss: 0.6008 - val_acc: 0.7191\n",
            "Epoch 85/100\n",
            "7/7 [==============================] - 5s 762ms/step - loss: 0.1272 - acc: 0.9665 - val_loss: 0.9272 - val_acc: 0.6517\n",
            "Epoch 86/100\n",
            "7/7 [==============================] - 5s 770ms/step - loss: 0.1363 - acc: 0.9809 - val_loss: 1.2739 - val_acc: 0.6854\n",
            "Epoch 87/100\n",
            "7/7 [==============================] - 5s 772ms/step - loss: 0.1459 - acc: 0.9713 - val_loss: 0.7348 - val_acc: 0.6966\n",
            "Epoch 88/100\n",
            "7/7 [==============================] - 5s 774ms/step - loss: 0.1686 - acc: 0.9330 - val_loss: 0.4442 - val_acc: 0.6854\n",
            "Epoch 89/100\n",
            "7/7 [==============================] - 5s 773ms/step - loss: 0.1361 - acc: 0.9713 - val_loss: 1.3296 - val_acc: 0.6966\n",
            "Epoch 90/100\n",
            "7/7 [==============================] - 5s 759ms/step - loss: 0.2044 - acc: 0.8852 - val_loss: 0.7223 - val_acc: 0.6854\n",
            "Epoch 91/100\n",
            "7/7 [==============================] - 5s 767ms/step - loss: 0.2095 - acc: 0.9187 - val_loss: 1.1999 - val_acc: 0.7303\n",
            "Epoch 92/100\n",
            "7/7 [==============================] - 5s 764ms/step - loss: 0.1641 - acc: 0.9474 - val_loss: 0.7021 - val_acc: 0.7416\n",
            "Epoch 93/100\n",
            "7/7 [==============================] - 5s 754ms/step - loss: 0.1561 - acc: 0.9665 - val_loss: 0.9273 - val_acc: 0.7079\n",
            "Epoch 94/100\n",
            "7/7 [==============================] - 5s 763ms/step - loss: 0.1287 - acc: 0.9761 - val_loss: 0.9698 - val_acc: 0.6966\n",
            "Epoch 95/100\n",
            "7/7 [==============================] - 5s 753ms/step - loss: 0.1368 - acc: 0.9713 - val_loss: 0.9296 - val_acc: 0.7303\n",
            "Epoch 96/100\n",
            "7/7 [==============================] - 5s 770ms/step - loss: 0.1476 - acc: 0.9474 - val_loss: 1.1830 - val_acc: 0.7079\n",
            "Epoch 97/100\n",
            "7/7 [==============================] - 5s 758ms/step - loss: 0.2022 - acc: 0.9187 - val_loss: 0.9875 - val_acc: 0.7079\n",
            "Epoch 98/100\n",
            "7/7 [==============================] - 5s 755ms/step - loss: 0.1252 - acc: 0.9569 - val_loss: 1.0767 - val_acc: 0.7303\n",
            "Epoch 99/100\n",
            "7/7 [==============================] - 5s 754ms/step - loss: 0.1394 - acc: 0.9617 - val_loss: 0.4324 - val_acc: 0.7079\n",
            "Epoch 100/100\n",
            "7/7 [==============================] - 5s 760ms/step - loss: 0.1830 - acc: 0.9187 - val_loss: 0.4912 - val_acc: 0.7303\n"
          ],
          "name": "stdout"
        }
      ]
    },
    {
      "cell_type": "markdown",
      "metadata": {
        "id": "Wmd8uuP-qN46",
        "colab_type": "text"
      },
      "source": [
        "#Model Summary"
      ]
    },
    {
      "cell_type": "code",
      "metadata": {
        "id": "D0jTg6agABkP",
        "colab_type": "code",
        "outputId": "0cc432aa-cca2-417f-8d7b-c3e8046a462b",
        "colab": {
          "base_uri": "https://localhost:8080/",
          "height": 573
        }
      },
      "source": [
        "import matplotlib.pyplot as plt\n",
        "\n",
        "# Plot training & validation accuracy values\n",
        "plt.plot(history.history['acc'])\n",
        "plt.plot(history.history['val_acc'])\n",
        "plt.title('Model accuracy')\n",
        "plt.ylabel('Accuracy')\n",
        "plt.xlabel('Epoch')\n",
        "plt.legend(['Train', 'Test'], loc='upper left')\n",
        "plt.show()\n",
        "\n",
        "# Plot training & validation loss values\n",
        "plt.plot(history.history['loss'])\n",
        "plt.plot(history.history['val_loss'])\n",
        "plt.title('Model loss')\n",
        "plt.ylabel('Loss')\n",
        "plt.xlabel('Epoch')\n",
        "plt.legend(['Train', 'Test'], loc='upper left')\n",
        "plt.show()\n"
      ],
      "execution_count": 0,
      "outputs": [
        {
          "output_type": "display_data",
          "data": {
            "image/png": "[encoded data removed]",
            "text/plain": [
              "<Figure size 432x288 with 1 Axes>"
            ]
          },
          "metadata": {
            "tags": [],
            "needs_background": "light"
          }
        },
        {
          "output_type": "display_data",
          "data": {
            "image/png": "[encoded data removed]",
            "text/plain": [
              "<Figure size 432x288 with 1 Axes>"
            ]
          },
          "metadata": {
            "tags": [],
            "needs_background": "light"
          }
        }
      ]
    },
    {
      "cell_type": "markdown",
      "metadata": {
        "id": "6boD5m0rZ9cK",
        "colab_type": "text"
      },
      "source": [
        "#Test Model"
      ]
    },
    {
      "cell_type": "code",
      "metadata": {
        "id": "vTEps0gnX_Gy",
        "colab_type": "code",
        "colab": {}
      },
      "source": [
        "bild = 'Testbilder/Art_1_01.JPG'\n",
        "im = plt.imread(bild)\n",
        "\n",
        "plt.imshow(im)\n",
        "plt.show()\n"
      ],
      "execution_count": 0,
      "outputs": []
    },
    {
      "cell_type": "code",
      "metadata": {
        "id": "r08y6zGKuGXj",
        "colab_type": "code",
        "colab": {}
      },
      "source": [
        ""
      ],
      "execution_count": 0,
      "outputs": []
    },
    {
      "cell_type": "code",
      "metadata": {
        "id": "93NNX9e0esSG",
        "colab_type": "code",
        "colab": {}
      },
      "source": [
        "AB = image.load_img(bild, target_size=(img_height, img_width))\n",
        "AB = image.img_to_array(AB)\n",
        "AB = np.expand_dims(AB, axis=0)"
      ],
      "execution_count": 0,
      "outputs": []
    },
    {
      "cell_type": "code",
      "metadata": {
        "id": "ijX0AH63ekCq",
        "colab_type": "code",
        "outputId": "db27b04a-d4bc-4b3f-ba17-5e0b44d01510",
        "colab": {
          "base_uri": "https://localhost:8080/",
          "height": 51
        }
      },
      "source": [
        "test_prediction = model.predict(AB)\n",
        "test_prediction = test_prediction.flatten()\n",
        "test_prediction"
      ],
      "execution_count": 0,
      "outputs": [
        {
          "output_type": "execute_result",
          "data": {
            "text/plain": [
              "array([1.9815781e-03, 6.5765387e-01, 1.0719672e-06, 6.8425123e-08,\n",
              "       3.4036332e-01], dtype=float32)"
            ]
          },
          "metadata": {
            "tags": []
          },
          "execution_count": 42
        }
      ]
    },
    {
      "cell_type": "code",
      "metadata": {
        "id": "tsFUwKXCZylO",
        "colab_type": "code",
        "outputId": "ee384d6c-70b5-4eed-be62-e2fcc5520f5f",
        "colab": {
          "base_uri": "https://localhost:8080/",
          "height": 51
        }
      },
      "source": [
        "model."
      ],
      "execution_count": 0,
      "outputs": [
        {
          "output_type": "execute_result",
          "data": {
            "text/plain": [
              "array([[1.9815781e-03, 6.5765387e-01, 1.0719672e-06, 6.8425123e-08,\n",
              "        3.4036332e-01]], dtype=float32)"
            ]
          },
          "metadata": {
            "tags": []
          },
          "execution_count": 44
        }
      ]
    },
    {
      "cell_type": "markdown",
      "metadata": {
        "id": "U7egH9OuHmLE",
        "colab_type": "text"
      },
      "source": [
        "#Save Model"
      ]
    },
    {
      "cell_type": "code",
      "metadata": {
        "id": "KgbJLJH3ookr",
        "colab_type": "code",
        "colab": {}
      },
      "source": [
        "model.save(\"/content/gdrive/My Drive/Keras Models/VGG19_6-1.h5\")\n"
      ],
      "execution_count": 0,
      "outputs": []
    },
    {
      "cell_type": "markdown",
      "metadata": {
        "id": "WgvkRw_pHqTc",
        "colab_type": "text"
      },
      "source": [
        "#Load Validation Images"
      ]
    },
    {
      "cell_type": "code",
      "metadata": {
        "id": "8noOMLxcH-rW",
        "colab_type": "code",
        "colab": {}
      },
      "source": [
        "folder_path = 'Testbilder'"
      ],
      "execution_count": 0,
      "outputs": []
    },
    {
      "cell_type": "code",
      "metadata": {
        "id": "JsDzVPOYYvJm",
        "colab_type": "code",
        "colab": {}
      },
      "source": [
        "images = []\n",
        "for img in os.listdir(folder_path):\n",
        "    img = os.path.join(folder_path, img)\n",
        "    img = image.load_img(img, target_size=(img_width, img_height))\n",
        "    img = image.img_to_array(img)\n",
        "    img = np.expand_dims(img, axis=0)\n",
        "    images.append(img)"
      ],
      "execution_count": 0,
      "outputs": []
    },
    {
      "cell_type": "markdown",
      "metadata": {
        "id": "IIA8e1oGz1L1",
        "colab_type": "text"
      },
      "source": [
        "#Predict Classes"
      ]
    },
    {
      "cell_type": "code",
      "metadata": {
        "id": "7Pa1VvTj3F4M",
        "colab_type": "code",
        "outputId": "cbaaca03-ae2d-4ff3-e6f5-aa7a1f01fc43",
        "colab": {
          "base_uri": "https://localhost:8080/",
          "height": 51
        }
      },
      "source": [
        "images = np.vstack(images)\n",
        "classes = model.predict_classes(images)\n",
        "print(classes)"
      ],
      "execution_count": 0,
      "outputs": [
        {
          "output_type": "stream",
          "text": [
            "[0 0 0 0 0 0 0 0 0 0 0 0 0 0 0 0 0 0 0 0 0 0 0 0 2 0 0 0 0 1 1 1 0 0 0 2 1\n",
            " 0 0 0 0 0 0 1 0 1 0 0 0 1 0 2 1 1 1 0 0]\n"
          ],
          "name": "stdout"
        }
      ]
    },
    {
      "cell_type": "markdown",
      "metadata": {
        "id": "n6M4nMHR0CZb",
        "colab_type": "text"
      },
      "source": [
        "#Evaluation\n"
      ]
    },
    {
      "cell_type": "code",
      "metadata": {
        "id": "LiK966Ibz-7W",
        "colab_type": "code",
        "outputId": "9cf99515-6d94-43db-a47c-6e2d93e7ba42",
        "colab": {
          "base_uri": "https://localhost:8080/",
          "height": 198
        }
      },
      "source": [
        "classes = model.predict_classes(images)\n",
        "con_mat = math.confusion_matrix(labels = y_true, predictions = classes).np()\n",
        "con_mat"
      ],
      "execution_count": 0,
      "outputs": [
        {
          "output_type": "error",
          "ename": "NameError",
          "evalue": "ignored",
          "traceback": [
            "\u001b[0;31m---------------------------------------------------------------------------\u001b[0m",
            "\u001b[0;31mNameError\u001b[0m                                 Traceback (most recent call last)",
            "\u001b[0;32m<ipython-input-28-a95c094b56b4>\u001b[0m in \u001b[0;36m<module>\u001b[0;34m()\u001b[0m\n\u001b[1;32m      1\u001b[0m \u001b[0mclasses\u001b[0m \u001b[0;34m=\u001b[0m \u001b[0mmodel\u001b[0m\u001b[0;34m.\u001b[0m\u001b[0mpredict_classes\u001b[0m\u001b[0;34m(\u001b[0m\u001b[0mimages\u001b[0m\u001b[0;34m)\u001b[0m\u001b[0;34m\u001b[0m\u001b[0;34m\u001b[0m\u001b[0m\n\u001b[0;32m----> 2\u001b[0;31m \u001b[0mcon_mat\u001b[0m \u001b[0;34m=\u001b[0m \u001b[0mmath\u001b[0m\u001b[0;34m.\u001b[0m\u001b[0mconfusion_matrix\u001b[0m\u001b[0;34m(\u001b[0m\u001b[0mlabels\u001b[0m \u001b[0;34m=\u001b[0m \u001b[0my_true\u001b[0m\u001b[0;34m,\u001b[0m \u001b[0mpredictions\u001b[0m \u001b[0;34m=\u001b[0m \u001b[0mclasses\u001b[0m\u001b[0;34m)\u001b[0m\u001b[0;34m.\u001b[0m\u001b[0mnp\u001b[0m\u001b[0;34m(\u001b[0m\u001b[0;34m)\u001b[0m\u001b[0;34m\u001b[0m\u001b[0;34m\u001b[0m\u001b[0m\n\u001b[0m\u001b[1;32m      3\u001b[0m \u001b[0mcon_mat\u001b[0m\u001b[0;34m\u001b[0m\u001b[0;34m\u001b[0m\u001b[0m\n",
            "\u001b[0;31mNameError\u001b[0m: name 'math' is not defined"
          ]
        }
      ]
    },
    {
      "cell_type": "markdown",
      "metadata": {
        "id": "bntnpDT05Vx5",
        "colab_type": "text"
      },
      "source": [
        "#Perform Classification"
      ]
    },
    {
      "cell_type": "code",
      "metadata": {
        "id": "BTSq0KCryerI",
        "colab_type": "code",
        "colab": {}
      },
      "source": [
        "Abfragebild = 'Testbilder/P1040699.JPG'\n",
        "\n",
        "Speicherort_KI_Modell = '/content/gdrive/My Drive/Keras Models'\n",
        "Name_KI_Modell = '/Xception_5-1.h5'"
      ],
      "execution_count": 0,
      "outputs": []
    },
    {
      "cell_type": "code",
      "metadata": {
        "id": "_AeYVXl5pOGJ",
        "colab_type": "code",
        "colab": {}
      },
      "source": [
        "import json\n",
        "def Vorhersage(Artikelfoto, Speicherort_KI_Modell, Name_KI_Modell):\n",
        "\n",
        "    model = models.load_model(Speicherort_KI_Modell + Name_KI_Modell)\n",
        "    model.compile(optimizer=opt, loss='categorical_crossentropy', metrics=['acc'])\n",
        "    Artikelfoto = image.load_img(Artikelfoto, target_size=(img_width, img_height))\n",
        "    Artikelfoto = image.img_to_array(Artikelfoto)\n",
        "    Artikelfoto = np.expand_dims(Artikelfoto, axis=0)\n",
        "    prediction = model.predict(Artikelfoto)\n",
        "    prediction = prediction.flatten()\n",
        "    artikelnummer = 'Art' + str(np.argmax(prediction)+1)\n",
        "    wahrscheinlichkeit = str(prediction[np.argmax(prediction)])\n",
        "\n",
        "    response = json.dumps({\"Artikelnummer\":artikelnummer, \"Wahrscheinlichkeit\":wahrscheinlichkeit})\n",
        "\n",
        "    return response"
      ],
      "execution_count": 0,
      "outputs": []
    },
    {
      "cell_type": "code",
      "metadata": {
        "id": "tm69ZxOb42Dv",
        "colab_type": "code",
        "colab": {}
      },
      "source": [
        "Vorhersage(Abfragebild, Speicherort_KI_Modell, Name_KI_Modell)"
      ],
      "execution_count": 0,
      "outputs": []
    }
  ]
}