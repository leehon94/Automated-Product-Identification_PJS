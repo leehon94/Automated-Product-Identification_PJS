{
  "nbformat": 4,
  "nbformat_minor": 0,
  "metadata": {
    "colab": {
      "name": "Copy of Xception PJS.ipynb",
      "provenance": []
    },
    "kernelspec": {
      "name": "python3",
      "display_name": "Python 3"
    },
    "accelerator": "GPU"
  },
  "cells": [
    {
      "cell_type": "markdown",
      "metadata": {
        "id": "wyCRPwgN9Y8T",
        "colab_type": "text"
      },
      "source": [
        "#Set up Colab and Drive for Project"
      ]
    },
    {
      "cell_type": "code",
      "metadata": {
        "id": "Hd_Nmme2qOht",
        "colab_type": "code",
        "outputId": "4d23fac8-99f9-4a85-c3ed-96a855c63ee6",
        "colab": {
          "base_uri": "https://localhost:8080/",
          "height": 34
        }
      },
      "source": [
        "from google.colab import drive \n",
        "drive.mount('/content/gdrive')"
      ],
      "execution_count": 32,
      "outputs": [
        {
          "output_type": "stream",
          "text": [
            "Drive already mounted at /content/gdrive; to attempt to forcibly remount, call drive.mount(\"/content/gdrive\", force_remount=True).\n"
          ],
          "name": "stdout"
        }
      ]
    },
    {
      "cell_type": "code",
      "metadata": {
        "id": "OX7MEh9W91i0",
        "colab_type": "code",
        "colab": {
          "base_uri": "https://localhost:8080/",
          "height": 34
        },
        "outputId": "d11c16bf-dacc-4cce-9b2b-5402c21db9bd"
      },
      "source": [
        "%cd '/content/gdrive/My Drive/MVP Datensatz/'\n",
        "train_dir = 'Trainingsdatensatz5'"
      ],
      "execution_count": 33,
      "outputs": [
        {
          "output_type": "stream",
          "text": [
            "/content/gdrive/My Drive/MVP Datensatz\n"
          ],
          "name": "stdout"
        }
      ]
    },
    {
      "cell_type": "code",
      "metadata": {
        "id": "ozlhf6PVMyAe",
        "colab_type": "code",
        "colab": {}
      },
      "source": [
        "from keras import optimizers\n",
        "from keras import layers\n",
        "from keras import models\n",
        "from keras import initializers\n",
        "\n",
        "import os\n",
        "import numpy as np\n",
        "from keras.preprocessing.image import ImageDataGenerator\n",
        "from keras.preprocessing import image\n",
        "from keras import backend as K\n"
      ],
      "execution_count": 0,
      "outputs": []
    },
    {
      "cell_type": "markdown",
      "metadata": {
        "id": "zdyiFaXZ-Rng",
        "colab_type": "text"
      },
      "source": [
        "#Create Base Model"
      ]
    },
    {
      "cell_type": "code",
      "metadata": {
        "id": "wMnMy_k9foh3",
        "colab_type": "code",
        "outputId": "747585bf-a126-487c-ead1-c5f0b5c0f506",
        "colab": {
          "base_uri": "https://localhost:8080/",
          "height": 71
        }
      },
      "source": [
        "# VGG19\n",
        "img_width = 224\n",
        "img_height = 224\n",
        "\n",
        "from keras.applications import VGG19\n",
        "base_model = VGG19(\n",
        "  weights = 'imagenet',\n",
        "  include_top = False,\n",
        "  input_shape = (img_width,img_height,3) \n",
        " )"
      ],
      "execution_count": 107,
      "outputs": [
        {
          "output_type": "stream",
          "text": [
            "Downloading data from https://github.com/fchollet/deep-learning-models/releases/download/v0.1/vgg19_weights_tf_dim_ordering_tf_kernels_notop.h5\n",
            "80142336/80134624 [==============================] - 7s 0us/step\n"
          ],
          "name": "stdout"
        }
      ]
    },
    {
      "cell_type": "markdown",
      "metadata": {
        "id": "MOFbsAmquxKa",
        "colab_type": "text"
      },
      "source": [
        "##Base Model Summary"
      ]
    },
    {
      "cell_type": "code",
      "metadata": {
        "id": "06DnOCmqqrZt",
        "colab_type": "code",
        "colab": {
          "base_uri": "https://localhost:8080/",
          "height": 901
        },
        "outputId": "4cdd13a0-c4cf-4967-fca4-9dc3ec1c74f1"
      },
      "source": [
        "base_model.summary()"
      ],
      "execution_count": 108,
      "outputs": [
        {
          "output_type": "stream",
          "text": [
            "Model: \"vgg19\"\n",
            "_________________________________________________________________\n",
            "Layer (type)                 Output Shape              Param #   \n",
            "=================================================================\n",
            "input_4 (InputLayer)         (None, 224, 224, 3)       0         \n",
            "_________________________________________________________________\n",
            "block1_conv1 (Conv2D)        (None, 224, 224, 64)      1792      \n",
            "_________________________________________________________________\n",
            "block1_conv2 (Conv2D)        (None, 224, 224, 64)      36928     \n",
            "_________________________________________________________________\n",
            "block1_pool (MaxPooling2D)   (None, 112, 112, 64)      0         \n",
            "_________________________________________________________________\n",
            "block2_conv1 (Conv2D)        (None, 112, 112, 128)     73856     \n",
            "_________________________________________________________________\n",
            "block2_conv2 (Conv2D)        (None, 112, 112, 128)     147584    \n",
            "_________________________________________________________________\n",
            "block2_pool (MaxPooling2D)   (None, 56, 56, 128)       0         \n",
            "_________________________________________________________________\n",
            "block3_conv1 (Conv2D)        (None, 56, 56, 256)       295168    \n",
            "_________________________________________________________________\n",
            "block3_conv2 (Conv2D)        (None, 56, 56, 256)       590080    \n",
            "_________________________________________________________________\n",
            "block3_conv3 (Conv2D)        (None, 56, 56, 256)       590080    \n",
            "_________________________________________________________________\n",
            "block3_conv4 (Conv2D)        (None, 56, 56, 256)       590080    \n",
            "_________________________________________________________________\n",
            "block3_pool (MaxPooling2D)   (None, 28, 28, 256)       0         \n",
            "_________________________________________________________________\n",
            "block4_conv1 (Conv2D)        (None, 28, 28, 512)       1180160   \n",
            "_________________________________________________________________\n",
            "block4_conv2 (Conv2D)        (None, 28, 28, 512)       2359808   \n",
            "_________________________________________________________________\n",
            "block4_conv3 (Conv2D)        (None, 28, 28, 512)       2359808   \n",
            "_________________________________________________________________\n",
            "block4_conv4 (Conv2D)        (None, 28, 28, 512)       2359808   \n",
            "_________________________________________________________________\n",
            "block4_pool (MaxPooling2D)   (None, 14, 14, 512)       0         \n",
            "_________________________________________________________________\n",
            "block5_conv1 (Conv2D)        (None, 14, 14, 512)       2359808   \n",
            "_________________________________________________________________\n",
            "block5_conv2 (Conv2D)        (None, 14, 14, 512)       2359808   \n",
            "_________________________________________________________________\n",
            "block5_conv3 (Conv2D)        (None, 14, 14, 512)       2359808   \n",
            "_________________________________________________________________\n",
            "block5_conv4 (Conv2D)        (None, 14, 14, 512)       2359808   \n",
            "_________________________________________________________________\n",
            "block5_pool (MaxPooling2D)   (None, 7, 7, 512)         0         \n",
            "=================================================================\n",
            "Total params: 20,024,384\n",
            "Trainable params: 20,024,384\n",
            "Non-trainable params: 0\n",
            "_________________________________________________________________\n"
          ],
          "name": "stdout"
        }
      ]
    },
    {
      "cell_type": "markdown",
      "metadata": {
        "id": "42AUfD5Du5U8",
        "colab_type": "text"
      },
      "source": [
        "#Create Training and Validation Set"
      ]
    },
    {
      "cell_type": "markdown",
      "metadata": {
        "id": "t07IAipqIano",
        "colab_type": "text"
      },
      "source": [
        "##Augmentations\n"
      ]
    },
    {
      "cell_type": "code",
      "metadata": {
        "id": "tXMT8JFmI3ya",
        "colab_type": "code",
        "colab": {}
      },
      "source": [
        "featurewise_center = False\n",
        "samplewise_center = False\n",
        "featurewise_std_normalization = False\n",
        "samplewise_std_normalization = False\n",
        "zca_whitening = False\n",
        "horizontal_flip = False\n",
        "vertical_flip = False\n",
        "\n",
        "brightness_range = None \n",
        "preprocessing_function = None\n",
        "\n",
        "zca_epsilon = 0\n",
        "rotation_range = 0\n",
        "width_shift_range = [-1, 0, +1]\n",
        "height_shift_range = [-1, 0, +1]\n",
        "shear_range = 0.0\n",
        "zoom_range = 0.2\n",
        "channel_shift_range = 0.0\n",
        "cval = 0.0\n",
        "interpolation_order = 1\n",
        "\n",
        "fill_mode = 'nearest'\n",
        "data_format = 'channels_last'\n"
      ],
      "execution_count": 0,
      "outputs": []
    },
    {
      "cell_type": "markdown",
      "metadata": {
        "id": "iA-uGNR1LREm",
        "colab_type": "text"
      },
      "source": [
        "##Preparing Data"
      ]
    },
    {
      "cell_type": "code",
      "metadata": {
        "id": "v6MDqsocLol2",
        "colab_type": "code",
        "colab": {}
      },
      "source": [
        "batch_s = 10\n",
        "\n",
        "validation_split = 0.4\n",
        "rescale = 1./255"
      ],
      "execution_count": 0,
      "outputs": []
    },
    {
      "cell_type": "code",
      "metadata": {
        "id": "ULS0U2FjMrYD",
        "colab_type": "code",
        "colab": {}
      },
      "source": [
        "train_datagen = ImageDataGenerator(\n",
        "    featurewise_center = featurewise_center,\n",
        "    samplewise_center = samplewise_center,\n",
        "    featurewise_std_normalization = featurewise_std_normalization,\n",
        "    samplewise_std_normalization = samplewise_std_normalization,\n",
        "    zca_whitening = zca_whitening,\n",
        "    zca_epsilon = zca_epsilon,\n",
        "    rotation_range = rotation_range,\n",
        "    width_shift_range = width_shift_range,\n",
        "    height_shift_range = height_shift_range,\n",
        "    brightness_range = brightness_range,\n",
        "    shear_range = shear_range,\n",
        "    zoom_range = zoom_range,\n",
        "    channel_shift_range = channel_shift_range,\n",
        "    fill_mode = fill_mode,\n",
        "    cval = cval,\n",
        "    horizontal_flip = horizontal_flip,\n",
        "    vertical_flip = vertical_flip,\n",
        "    preprocessing_function = preprocessing_function,\n",
        "    data_format = data_format,\n",
        "    validation_split = validation_split,\n",
        "    interpolation_order = interpolation_order,\n",
        "    rescale = rescale,\n",
        "    dtype = 'float32')"
      ],
      "execution_count": 0,
      "outputs": []
    },
    {
      "cell_type": "code",
      "metadata": {
        "id": "wqG73Dc1_cXW",
        "colab_type": "code",
        "colab": {
          "base_uri": "https://localhost:8080/",
          "height": 34
        },
        "outputId": "80be3906-d77e-41dd-de6e-80fa709a3c60"
      },
      "source": [
        "train_set = train_datagen.flow_from_directory(\n",
        "    train_dir,\n",
        "    target_size = (img_width,img_height),\n",
        "    batch_size = batch_s,\n",
        "    class_mode = 'categorical',\n",
        "    subset = 'training')"
      ],
      "execution_count": 122,
      "outputs": [
        {
          "output_type": "stream",
          "text": [
            "Found 84 images belonging to 5 classes.\n"
          ],
          "name": "stdout"
        }
      ]
    },
    {
      "cell_type": "code",
      "metadata": {
        "id": "7DNE9ukRkK8L",
        "colab_type": "code",
        "colab": {}
      },
      "source": [
        "train_set.class\n"
      ],
      "execution_count": 0,
      "outputs": []
    },
    {
      "cell_type": "code",
      "metadata": {
        "id": "_3mDhTtf_Uao",
        "colab_type": "code",
        "colab": {
          "base_uri": "https://localhost:8080/",
          "height": 34
        },
        "outputId": "86284945-8603-4e9f-be9a-bfa820a792c8"
      },
      "source": [
        "validation_set = train_datagen.flow_from_directory(\n",
        "    train_dir, \n",
        "    target_size = (img_width,img_height),\n",
        "    batch_size = batch_s,\n",
        "    class_mode = 'categorical',\n",
        "    subset = 'validation')"
      ],
      "execution_count": 124,
      "outputs": [
        {
          "output_type": "stream",
          "text": [
            "Found 54 images belonging to 5 classes.\n"
          ],
          "name": "stdout"
        }
      ]
    },
    {
      "cell_type": "markdown",
      "metadata": {
        "id": "iFT7AVV_qYzL",
        "colab_type": "text"
      },
      "source": [
        "#Create and Train Model"
      ]
    },
    {
      "cell_type": "code",
      "metadata": {
        "id": "oSVCue2zf_ZJ",
        "colab_type": "code",
        "colab": {}
      },
      "source": [
        "opt = optimizers.RMSprop(learning_rate=0.001)\n",
        "epochs = 1000"
      ],
      "execution_count": 0,
      "outputs": []
    },
    {
      "cell_type": "code",
      "metadata": {
        "id": "i0AovFKyJxEr",
        "colab_type": "code",
        "colab": {}
      },
      "source": [
        "model = models.Sequential()\n",
        "model.add(base_model)\n",
        "for layer in base_model.layers:\n",
        "    layer.trainable = False\n",
        "\n",
        "model.add(layers.Flatten())\n",
        "model.add(layers.Dropout(0.5))\n",
        "model.add(layers.Dense(256, activation = 'relu', kernel_initializer = initializers.RandomNormal(stddev = 0.01), bias_initializer = initializers.Zeros()))\n",
        "model.add(layers.Dense(5, activation = 'sigmoid', kernel_initializer = initializers.RandomNormal(stddev = 0.01), bias_initializer = initializers.Zeros()))\n",
        "model.compile(optimizer = opt,loss = 'categorical_crossentropy', metrics = ['acc'])\n",
        "model.fit_generator(train_set, epochs = epochs, validation_data = validation_set)"
      ],
      "execution_count": 0,
      "outputs": []
    },
    {
      "cell_type": "markdown",
      "metadata": {
        "id": "Wmd8uuP-qN46",
        "colab_type": "text"
      },
      "source": [
        "##Model Summary"
      ]
    },
    {
      "cell_type": "code",
      "metadata": {
        "id": "c8W9inyrqYi8",
        "colab_type": "code",
        "colab": {}
      },
      "source": [
        "model.summary()"
      ],
      "execution_count": 0,
      "outputs": []
    },
    {
      "cell_type": "code",
      "metadata": {
        "id": "D0jTg6agABkP",
        "colab_type": "code",
        "colab": {}
      },
      "source": [
        "import matplotlib.pyplot as plt\n",
        "\n",
        "# Plot training & validation accuracy values\n",
        "plt.plot(history.history['acc'])\n",
        "plt.plot(history.history['val_acc'])\n",
        "plt.title('Model accuracy')\n",
        "plt.ylabel('Accuracy')\n",
        "plt.xlabel('Epoch')\n",
        "plt.legend(['Train', 'Test'], loc='upper left')\n",
        "plt.show()\n",
        "\n",
        "# Plot training & validation loss values\n",
        "plt.plot(history.history['loss'])\n",
        "plt.plot(history.history['val_loss'])\n",
        "plt.title('Model loss')\n",
        "plt.ylabel('Loss')\n",
        "plt.xlabel('Epoch')\n",
        "plt.legend(['Train', 'Test'], loc='upper left')\n",
        "plt.show()\n"
      ],
      "execution_count": 0,
      "outputs": []
    },
    {
      "cell_type": "markdown",
      "metadata": {
        "id": "6boD5m0rZ9cK",
        "colab_type": "text"
      },
      "source": [
        "##Testing Model"
      ]
    },
    {
      "cell_type": "code",
      "metadata": {
        "id": "vTEps0gnX_Gy",
        "colab_type": "code",
        "colab": {
          "base_uri": "https://localhost:8080/",
          "height": 269
        },
        "outputId": "7e0e14b5-4d26-4d95-decf-4d32f5efa885"
      },
      "source": [
        "bild = 'Testbilder/P1040709.JPG'\n",
        "im = plt.imread(bild)\n",
        "\n",
        "plt.imshow(im)\n",
        "plt.show()\n"
      ],
      "execution_count": 156,
      "outputs": [
        {
          "output_type": "display_data",
          "data": {
            "image/png": "[encoded data removed]",
            "text/plain": [
              "<Figure size 432x288 with 1 Axes>"
            ]
          },
          "metadata": {
            "tags": [],
            "needs_background": "light"
          }
        }
      ]
    },
    {
      "cell_type": "code",
      "metadata": {
        "id": "93NNX9e0esSG",
        "colab_type": "code",
        "colab": {}
      },
      "source": [
        "AB = image.load_img(bild, target_size=(img_width, img_height))\n",
        "AB = image.img_to_array(AB)\n",
        "AB = np.expand_dims(AB, axis=0)"
      ],
      "execution_count": 0,
      "outputs": []
    },
    {
      "cell_type": "code",
      "metadata": {
        "id": "ijX0AH63ekCq",
        "colab_type": "code",
        "colab": {
          "base_uri": "https://localhost:8080/",
          "height": 34
        },
        "outputId": "157f52b3-594a-48c7-c750-d5614e4cd82a"
      },
      "source": [
        "test_prediction = model.predict(AB)\n",
        "test_prediction = test_prediction.flatten()\n",
        "test_prediction"
      ],
      "execution_count": 158,
      "outputs": [
        {
          "output_type": "execute_result",
          "data": {
            "text/plain": [
              "array([1., 0., 0., 0., 0.], dtype=float32)"
            ]
          },
          "metadata": {
            "tags": []
          },
          "execution_count": 158
        }
      ]
    },
    {
      "cell_type": "code",
      "metadata": {
        "id": "tsFUwKXCZylO",
        "colab_type": "code",
        "colab": {
          "base_uri": "https://localhost:8080/",
          "height": 34
        },
        "outputId": "a203e057-5144-4d7e-e13a-f3c99a955896"
      },
      "source": [
        "model.predict_classes(AB)"
      ],
      "execution_count": 133,
      "outputs": [
        {
          "output_type": "execute_result",
          "data": {
            "text/plain": [
              "array([0])"
            ]
          },
          "metadata": {
            "tags": []
          },
          "execution_count": 133
        }
      ]
    },
    {
      "cell_type": "markdown",
      "metadata": {
        "id": "U7egH9OuHmLE",
        "colab_type": "text"
      },
      "source": [
        "##Save Model"
      ]
    },
    {
      "cell_type": "code",
      "metadata": {
        "id": "KgbJLJH3ookr",
        "colab_type": "code",
        "colab": {}
      },
      "source": [
        "model.save(\"/content/gdrive/My Drive/Keras Models/Xception_5-1.h5\")\n"
      ],
      "execution_count": 0,
      "outputs": []
    },
    {
      "cell_type": "markdown",
      "metadata": {
        "id": "WgvkRw_pHqTc",
        "colab_type": "text"
      },
      "source": [
        "#Load Validation Images"
      ]
    },
    {
      "cell_type": "code",
      "metadata": {
        "id": "8noOMLxcH-rW",
        "colab_type": "code",
        "colab": {}
      },
      "source": [
        "folder_path = 'Testbilder'"
      ],
      "execution_count": 0,
      "outputs": []
    },
    {
      "cell_type": "code",
      "metadata": {
        "id": "JsDzVPOYYvJm",
        "colab_type": "code",
        "colab": {}
      },
      "source": [
        "images = []\n",
        "for img in os.listdir(folder_path):\n",
        "    img = os.path.join(folder_path, img)\n",
        "    img = image.load_img(img, target_size=(img_width, img_height))\n",
        "    img = image.img_to_array(img)\n",
        "    img = np.expand_dims(img, axis=0)\n",
        "    images.append(img)"
      ],
      "execution_count": 0,
      "outputs": []
    },
    {
      "cell_type": "markdown",
      "metadata": {
        "id": "IIA8e1oGz1L1",
        "colab_type": "text"
      },
      "source": [
        "#Predict Classes"
      ]
    },
    {
      "cell_type": "code",
      "metadata": {
        "id": "7Pa1VvTj3F4M",
        "colab_type": "code",
        "outputId": "d14664cd-a605-4ee1-b1a2-b2393cce5316",
        "colab": {
          "base_uri": "https://localhost:8080/",
          "height": 51
        }
      },
      "source": [
        "images = np.vstack(images)\n",
        "classes = model.predict_classes(images)\n",
        "print(classes)"
      ],
      "execution_count": 161,
      "outputs": [
        {
          "output_type": "stream",
          "text": [
            "[0 1 0 0 0 0 0 0 2 2 2 0 2 0 0 2 0 0 2 0 0 2 2 1 0 2 0 2 0 0 2 0 0 0 0 1 1\n",
            " 2 2 0 1 1 0 0 2 0 0 0 1 0 1 0 0 0 2 0 0]\n"
          ],
          "name": "stdout"
        }
      ]
    },
    {
      "cell_type": "markdown",
      "metadata": {
        "id": "n6M4nMHR0CZb",
        "colab_type": "text"
      },
      "source": [
        "#Evaluation\n"
      ]
    },
    {
      "cell_type": "code",
      "metadata": {
        "id": "LiK966Ibz-7W",
        "colab_type": "code",
        "colab": {
          "base_uri": "https://localhost:8080/",
          "height": 198
        },
        "outputId": "307e1cd6-8873-45c9-a127-df270ef14541"
      },
      "source": [
        "classes = model.predict_classes(images)\n",
        "con_mat = math.confusion_matrix(labels = y_true, predictions = classes).np()\n",
        "con_mat"
      ],
      "execution_count": 168,
      "outputs": [
        {
          "output_type": "error",
          "ename": "NameError",
          "evalue": "ignored",
          "traceback": [
            "\u001b[0;31m---------------------------------------------------------------------------\u001b[0m",
            "\u001b[0;31mNameError\u001b[0m                                 Traceback (most recent call last)",
            "\u001b[0;32m<ipython-input-168-a95c094b56b4>\u001b[0m in \u001b[0;36m<module>\u001b[0;34m()\u001b[0m\n\u001b[1;32m      1\u001b[0m \u001b[0mclasses\u001b[0m \u001b[0;34m=\u001b[0m \u001b[0mmodel\u001b[0m\u001b[0;34m.\u001b[0m\u001b[0mpredict_classes\u001b[0m\u001b[0;34m(\u001b[0m\u001b[0mimages\u001b[0m\u001b[0;34m)\u001b[0m\u001b[0;34m\u001b[0m\u001b[0;34m\u001b[0m\u001b[0m\n\u001b[0;32m----> 2\u001b[0;31m \u001b[0mcon_mat\u001b[0m \u001b[0;34m=\u001b[0m \u001b[0mmath\u001b[0m\u001b[0;34m.\u001b[0m\u001b[0mconfusion_matrix\u001b[0m\u001b[0;34m(\u001b[0m\u001b[0mlabels\u001b[0m \u001b[0;34m=\u001b[0m \u001b[0my_true\u001b[0m\u001b[0;34m,\u001b[0m \u001b[0mpredictions\u001b[0m \u001b[0;34m=\u001b[0m \u001b[0mclasses\u001b[0m\u001b[0;34m)\u001b[0m\u001b[0;34m.\u001b[0m\u001b[0mnp\u001b[0m\u001b[0;34m(\u001b[0m\u001b[0;34m)\u001b[0m\u001b[0;34m\u001b[0m\u001b[0;34m\u001b[0m\u001b[0m\n\u001b[0m\u001b[1;32m      3\u001b[0m \u001b[0mcon_mat\u001b[0m\u001b[0;34m\u001b[0m\u001b[0;34m\u001b[0m\u001b[0m\n",
            "\u001b[0;31mNameError\u001b[0m: name 'math' is not defined"
          ]
        }
      ]
    },
    {
      "cell_type": "markdown",
      "metadata": {
        "id": "bntnpDT05Vx5",
        "colab_type": "text"
      },
      "source": [
        "#Perform Classification"
      ]
    },
    {
      "cell_type": "code",
      "metadata": {
        "id": "BTSq0KCryerI",
        "colab_type": "code",
        "colab": {}
      },
      "source": [
        "Abfragebild = 'Testbilder/P1040699.JPG'\n",
        "\n",
        "Speicherort_KI_Modell = '/content/gdrive/My Drive/Keras Models'\n",
        "Name_KI_Modell = '/Xception_5-1.h5'"
      ],
      "execution_count": 0,
      "outputs": []
    },
    {
      "cell_type": "code",
      "metadata": {
        "id": "_AeYVXl5pOGJ",
        "colab_type": "code",
        "colab": {}
      },
      "source": [
        "import json\n",
        "def Vorhersage(Artikelfoto, Speicherort_KI_Modell, Name_KI_Modell):\n",
        "\n",
        "    model = models.load_model(Speicherort_KI_Modell + Name_KI_Modell)\n",
        "    model.compile(optimizer=opt, loss='categorical_crossentropy', metrics=['acc'])\n",
        "    Artikelfoto = image.load_img(Artikelfoto, target_size=(img_width, img_height))\n",
        "    Artikelfoto = image.img_to_array(Artikelfoto)\n",
        "    Artikelfoto = np.expand_dims(Artikelfoto, axis=0)\n",
        "    prediction = model.predict(Artikelfoto)\n",
        "    prediction = prediction.flatten()\n",
        "    artikelnummer = 'Art' + str(np.argmax(prediction)+1)\n",
        "    wahrscheinlichkeit = str(prediction[np.argmax(prediction)])\n",
        "\n",
        "    response = json.dumps({\"Artikelnummer\":artikelnummer, \"Wahrscheinlichkeit\":wahrscheinlichkeit})\n",
        "\n",
        "    return response"
      ],
      "execution_count": 0,
      "outputs": []
    },
    {
      "cell_type": "code",
      "metadata": {
        "id": "tm69ZxOb42Dv",
        "colab_type": "code",
        "outputId": "fe20413d-cf39-4b9c-9e39-086dd8a2740a",
        "colab": {
          "base_uri": "https://localhost:8080/",
          "height": 34
        }
      },
      "source": [
        "Vorhersage(Abfragebild, Speicherort_KI_Modell, Name_KI_Modell)"
      ],
      "execution_count": 164,
      "outputs": [
        {
          "output_type": "execute_result",
          "data": {
            "text/plain": [
              "'{\"Artikelnummer\": \"Art1\", \"Wahrscheinlichkeit\": \"1.0\"}'"
            ]
          },
          "metadata": {
            "tags": []
          },
          "execution_count": 164
        }
      ]
    }
  ]
}