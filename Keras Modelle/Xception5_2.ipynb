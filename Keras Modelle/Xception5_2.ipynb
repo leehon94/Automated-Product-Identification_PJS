{
  "nbformat": 4,
  "nbformat_minor": 0,
  "metadata": {
    "colab": {
      "name": "Xception5-2.ipynb",
      "provenance": [],
      "collapsed_sections": [],
      "authorship_tag": "ABX9TyPobYblVXU4EuVSTR+9C3mZ",
      "include_colab_link": true
    },
    "kernelspec": {
      "name": "python3",
      "display_name": "Python 3"
    },
    "accelerator": "GPU"
  },
  "cells": [
    {
      "cell_type": "markdown",
      "metadata": {
        "id": "view-in-github",
        "colab_type": "text"
      },
      "source": [
        "<a href=\"https://colab.research.google.com/github/leehon94/Automated-Product-Identification_PJS/blob/master/Keras%20Modelle/Xception5_2.ipynb\" target=\"_parent\"><img src=\"https://colab.research.google.com/assets/colab-badge.svg\" alt=\"Open In Colab\"/></a>"
      ]
    },
    {
      "cell_type": "code",
      "metadata": {
        "id": "IOqHQpDHLef7",
        "colab_type": "code",
        "colab": {}
      },
      "source": [
        ""
      ],
      "execution_count": 0,
      "outputs": []
    },
    {
      "cell_type": "code",
      "metadata": {
        "id": "Hd_Nmme2qOht",
        "colab_type": "code",
        "outputId": "e4c9b661-9b98-48a3-8103-b1a5d81d5846",
        "colab": {
          "base_uri": "https://localhost:8080/",
          "height": 33
        }
      },
      "source": [
        "from google.colab import drive \n",
        "drive.mount('/content/gdrive')\n"
      ],
      "execution_count": 55,
      "outputs": [
        {
          "output_type": "stream",
          "text": [
            "Drive already mounted at /content/gdrive; to attempt to forcibly remount, call drive.mount(\"/content/gdrive\", force_remount=True).\n"
          ],
          "name": "stdout"
        }
      ]
    },
    {
      "cell_type": "code",
      "metadata": {
        "id": "ozlhf6PVMyAe",
        "colab_type": "code",
        "colab": {}
      },
      "source": [
        "from keras import optimizers\n",
        "from keras import layers\n",
        "from keras import models\n",
        "from keras.preprocessing import image\n",
        "from keras import backend as K\n",
        "\n",
        "import os\n",
        "import numpy as np\n",
        "from keras.preprocessing.image import ImageDataGenerator\n",
        "\n",
        "\n",
        "base_dir = r'/content/gdrive/My Drive/MVP Datensatz/'\n",
        "train_dir = r'/content/gdrive/My Drive/MVP Datensatz/Trainingsdatensatz5'\n"
      ],
      "execution_count": 0,
      "outputs": []
    },
    {
      "cell_type": "code",
      "metadata": {
        "id": "tbvFysLQLra6",
        "colab_type": "code",
        "colab": {}
      },
      "source": [
        "\n",
        "\n",
        "#Beispiel für mögliche Data Augmentations\n"
      ],
      "execution_count": 0,
      "outputs": []
    },
    {
      "cell_type": "code",
      "metadata": {
        "id": "ULS0U2FjMrYD",
        "colab_type": "code",
        "outputId": "d3c74afc-2654-4c23-ec25-a3a2494eb258",
        "colab": {
          "base_uri": "https://localhost:8080/",
          "height": 50
        }
      },
      "source": [
        "\n",
        "\n",
        "from keras.applications import Xception\n",
        "base_model = Xception(weights='imagenet',\n",
        "  include_top=False,\n",
        "  pooling='avg',\n",
        "  input_shape=(299,299,3)) # input_shape = 299x299x3 by default\n",
        "\n",
        "#datagen = ImageDataGenerator(validation_split=0.2, rescale=1./255)\n",
        "#batch_size = 20\n",
        "\n",
        "train_datagen = ImageDataGenerator(featurewise_center=False,\n",
        "                          samplewise_center=False,\n",
        "                          featurewise_std_normalization=False,\n",
        "                          samplewise_std_normalization=False,\n",
        "                          zca_whitening=False,\n",
        "                          zca_epsilon=1e-06,\n",
        "                          rotation_range=3,\n",
        "                          width_shift_range=[-1, 0, +1],\n",
        "                          height_shift_range=[-1, 0, +1],\n",
        "                          brightness_range=None, \n",
        "                          shear_range=0.1, \n",
        "                          zoom_range=0.2,\n",
        "                          channel_shift_range=0.0, \n",
        "                          fill_mode='nearest', \n",
        "                          cval=0.0,\n",
        "                          horizontal_flip=False, \n",
        "                          vertical_flip=False, \n",
        "                          rescale=1./255, \n",
        "                          preprocessing_function=None, \n",
        "                          data_format='channels_last', \n",
        "                          validation_split=0.2, \n",
        "                          interpolation_order=1, \n",
        "                          dtype='float32')\n",
        "\n",
        "train_generator = train_datagen.flow_from_directory(\n",
        "    train_dir, \n",
        "    target_size=(299,299),\n",
        "    batch_size=10,\n",
        "    class_mode='categorical',\n",
        "    subset='training')\n",
        "\n",
        "valid_generator = train_datagen.flow_from_directory(\n",
        "    train_dir, \n",
        "    target_size=(299,299),\n",
        "    batch_size=10,\n",
        "    class_mode='categorical',\n",
        "    subset='validation')\n",
        "\n",
        "\n",
        "                      "
      ],
      "execution_count": 0,
      "outputs": [
        {
          "output_type": "stream",
          "text": [
            "Found 80 images belonging to 5 classes.\n",
            "Found 20 images belonging to 5 classes.\n"
          ],
          "name": "stdout"
        }
      ]
    },
    {
      "cell_type": "code",
      "metadata": {
        "id": "HXCcDcmQJA1R",
        "colab_type": "code",
        "colab": {}
      },
      "source": [
        "base_model.summary()"
      ],
      "execution_count": 0,
      "outputs": []
    },
    {
      "cell_type": "code",
      "metadata": {
        "id": "TWeSUmygMACb",
        "colab_type": "code",
        "colab": {}
      },
      "source": [
        "batch_size = 10\n",
        "def extract_features(directory, sample_count, gen):\n",
        "  features = np.zeros(shape=(sample_count, 2048)) \n",
        "  labels = np.zeros(shape=(sample_count, 5))\n",
        "  generator = gen\n",
        "  i=0\n",
        "  for inputs_batch, labels_batch in generator:\n",
        "    features_batch = base_model.predict(inputs_batch)\n",
        "    features[i * batch_size : (i + 1) * batch_size] = features_batch\n",
        "    labels[i * batch_size : (i + 1) * batch_size] = labels_batch\n",
        "    i += 1\n",
        "    if i * batch_size >= sample_count:\n",
        "      break\n",
        "  return features, labels\n",
        "train_features, train_labels = extract_features(train_dir, 80, train_generator)\n",
        "valid_features, valid_labels = extract_features(train_dir, 20, valid_generator)"
      ],
      "execution_count": 0,
      "outputs": []
    },
    {
      "cell_type": "code",
      "metadata": {
        "id": "8ZjBp6rHL0fK",
        "colab_type": "code",
        "colab": {}
      },
      "source": [
        ""
      ],
      "execution_count": 0,
      "outputs": []
    },
    {
      "cell_type": "code",
      "metadata": {
        "id": "i0AovFKyJxEr",
        "colab_type": "code",
        "colab": {}
      },
      "source": [
        "model = models.Sequential()\n",
        "model.add(base_model)\n",
        "model.add(layers.Dropout(0.5))\n",
        "model.add(layers.Dense(5, activation='softmax'))"
      ],
      "execution_count": 0,
      "outputs": []
    },
    {
      "cell_type": "code",
      "metadata": {
        "id": "1bYcSz_4SHCQ",
        "colab_type": "code",
        "outputId": "45de9403-e13e-4505-a9c1-f319af3eb100",
        "colab": {
          "base_uri": "https://localhost:8080/",
          "height": 1000
        }
      },
      "source": [
        "# first: train only the top layers (which were randomly initialized)\n",
        "# i.e. freeze all convolutional Xception layers\n",
        "for layer in base_model.layers:\n",
        "    layer.trainable = False\n",
        "\n",
        "\n",
        "# compile the model (should be done *after* setting layers to non-trainable)\n",
        "model.compile(optimizer='rmsprop', loss='categorical_crossentropy', metrics=['acc'])\n",
        "\n",
        "model.fit_generator(train_generator,\n",
        "  epochs=50,\n",
        "  validation_data = valid_generator)"
      ],
      "execution_count": 0,
      "outputs": [
        {
          "output_type": "stream",
          "text": [
            "Epoch 1/50\n",
            "8/8 [==============================] - 4s 542ms/step - loss: 1.5318 - acc: 0.3500 - val_loss: 1.1610 - val_acc: 0.4000\n",
            "Epoch 2/50\n",
            "8/8 [==============================] - 2s 221ms/step - loss: 1.2724 - acc: 0.5500 - val_loss: 1.1572 - val_acc: 0.7500\n",
            "Epoch 3/50\n",
            "8/8 [==============================] - 2s 309ms/step - loss: 1.0781 - acc: 0.6625 - val_loss: 0.9710 - val_acc: 0.7000\n",
            "Epoch 4/50\n",
            "8/8 [==============================] - 2s 310ms/step - loss: 1.0081 - acc: 0.7375 - val_loss: 0.8677 - val_acc: 0.7500\n",
            "Epoch 5/50\n",
            "8/8 [==============================] - 2s 311ms/step - loss: 0.8605 - acc: 0.7500 - val_loss: 1.0930 - val_acc: 0.8000\n",
            "Epoch 6/50\n",
            "8/8 [==============================] - 3s 314ms/step - loss: 0.8727 - acc: 0.7125 - val_loss: 0.7717 - val_acc: 0.9000\n",
            "Epoch 7/50\n",
            "8/8 [==============================] - 3s 313ms/step - loss: 0.6786 - acc: 0.8375 - val_loss: 0.7646 - val_acc: 0.7500\n",
            "Epoch 8/50\n",
            "8/8 [==============================] - 3s 313ms/step - loss: 0.7602 - acc: 0.6875 - val_loss: 0.7752 - val_acc: 0.6500\n",
            "Epoch 9/50\n",
            "8/8 [==============================] - 2s 311ms/step - loss: 0.8350 - acc: 0.6750 - val_loss: 0.5743 - val_acc: 0.6500\n",
            "Epoch 10/50\n",
            "8/8 [==============================] - 3s 314ms/step - loss: 0.6695 - acc: 0.7250 - val_loss: 0.6257 - val_acc: 0.7000\n",
            "Epoch 11/50\n",
            "8/8 [==============================] - 3s 317ms/step - loss: 0.6035 - acc: 0.8250 - val_loss: 0.5836 - val_acc: 0.7500\n",
            "Epoch 12/50\n",
            "8/8 [==============================] - 3s 314ms/step - loss: 0.5509 - acc: 0.8125 - val_loss: 0.7561 - val_acc: 0.8500\n",
            "Epoch 13/50\n",
            "8/8 [==============================] - 3s 314ms/step - loss: 0.5882 - acc: 0.8125 - val_loss: 0.7493 - val_acc: 0.8000\n",
            "Epoch 14/50\n",
            "8/8 [==============================] - 3s 315ms/step - loss: 0.5594 - acc: 0.8375 - val_loss: 0.4200 - val_acc: 0.8500\n",
            "Epoch 15/50\n",
            "8/8 [==============================] - 3s 315ms/step - loss: 0.5927 - acc: 0.8125 - val_loss: 0.4141 - val_acc: 0.8000\n",
            "Epoch 16/50\n",
            "8/8 [==============================] - 3s 314ms/step - loss: 0.4815 - acc: 0.8250 - val_loss: 0.3958 - val_acc: 0.9000\n",
            "Epoch 17/50\n",
            "8/8 [==============================] - 2s 304ms/step - loss: 0.4035 - acc: 0.9000 - val_loss: 0.4856 - val_acc: 0.7000\n",
            "Epoch 18/50\n",
            "8/8 [==============================] - 3s 316ms/step - loss: 0.4713 - acc: 0.8250 - val_loss: 0.6012 - val_acc: 0.8500\n",
            "Epoch 19/50\n",
            "8/8 [==============================] - 2s 311ms/step - loss: 0.3786 - acc: 0.8875 - val_loss: 0.7150 - val_acc: 0.7500\n",
            "Epoch 20/50\n",
            "8/8 [==============================] - 3s 316ms/step - loss: 0.3197 - acc: 0.9000 - val_loss: 0.5065 - val_acc: 0.7500\n",
            "Epoch 21/50\n",
            "8/8 [==============================] - 2s 311ms/step - loss: 0.4403 - acc: 0.8500 - val_loss: 0.3733 - val_acc: 0.8000\n",
            "Epoch 22/50\n",
            "8/8 [==============================] - 2s 310ms/step - loss: 0.4519 - acc: 0.8375 - val_loss: 0.4800 - val_acc: 0.9000\n",
            "Epoch 23/50\n",
            "8/8 [==============================] - 2s 308ms/step - loss: 0.3288 - acc: 0.9250 - val_loss: 0.4896 - val_acc: 0.8000\n",
            "Epoch 24/50\n",
            "8/8 [==============================] - 2s 312ms/step - loss: 0.3289 - acc: 0.9125 - val_loss: 0.7317 - val_acc: 0.7000\n",
            "Epoch 25/50\n",
            "8/8 [==============================] - 2s 312ms/step - loss: 0.4445 - acc: 0.8750 - val_loss: 0.4474 - val_acc: 0.8500\n",
            "Epoch 26/50\n",
            "8/8 [==============================] - 2s 306ms/step - loss: 0.3474 - acc: 0.8750 - val_loss: 0.7484 - val_acc: 0.8500\n",
            "Epoch 27/50\n",
            "8/8 [==============================] - 2s 309ms/step - loss: 0.3437 - acc: 0.9000 - val_loss: 0.4216 - val_acc: 0.7500\n",
            "Epoch 28/50\n",
            "8/8 [==============================] - 2s 310ms/step - loss: 0.3625 - acc: 0.8875 - val_loss: 0.3861 - val_acc: 0.8500\n",
            "Epoch 29/50\n",
            "8/8 [==============================] - 2s 304ms/step - loss: 0.3319 - acc: 0.9000 - val_loss: 0.3959 - val_acc: 0.8500\n",
            "Epoch 30/50\n",
            "8/8 [==============================] - 2s 312ms/step - loss: 0.3841 - acc: 0.8750 - val_loss: 0.4835 - val_acc: 0.7500\n",
            "Epoch 31/50\n",
            "8/8 [==============================] - 3s 313ms/step - loss: 0.3585 - acc: 0.9000 - val_loss: 0.2609 - val_acc: 0.9000\n",
            "Epoch 32/50\n",
            "8/8 [==============================] - 2s 309ms/step - loss: 0.2721 - acc: 0.9500 - val_loss: 0.2856 - val_acc: 0.8000\n",
            "Epoch 33/50\n",
            "8/8 [==============================] - 2s 306ms/step - loss: 0.3162 - acc: 0.9000 - val_loss: 0.4423 - val_acc: 0.8000\n",
            "Epoch 34/50\n",
            "8/8 [==============================] - 2s 312ms/step - loss: 0.2764 - acc: 0.9000 - val_loss: 0.2096 - val_acc: 0.8500\n",
            "Epoch 35/50\n",
            "8/8 [==============================] - 2s 310ms/step - loss: 0.2880 - acc: 0.9375 - val_loss: 0.1942 - val_acc: 0.9000\n",
            "Epoch 36/50\n",
            "8/8 [==============================] - 2s 306ms/step - loss: 0.3496 - acc: 0.9250 - val_loss: 0.5292 - val_acc: 0.8000\n",
            "Epoch 37/50\n",
            "8/8 [==============================] - 2s 310ms/step - loss: 0.2732 - acc: 0.8750 - val_loss: 0.3534 - val_acc: 0.8500\n",
            "Epoch 38/50\n",
            "8/8 [==============================] - 2s 312ms/step - loss: 0.3264 - acc: 0.9000 - val_loss: 0.4549 - val_acc: 0.9500\n",
            "Epoch 39/50\n",
            "8/8 [==============================] - 3s 314ms/step - loss: 0.2561 - acc: 0.9000 - val_loss: 0.4731 - val_acc: 0.8500\n",
            "Epoch 40/50\n",
            "8/8 [==============================] - 3s 314ms/step - loss: 0.2401 - acc: 0.9500 - val_loss: 0.3667 - val_acc: 0.7500\n",
            "Epoch 41/50\n",
            "8/8 [==============================] - 2s 311ms/step - loss: 0.4077 - acc: 0.9000 - val_loss: 0.3645 - val_acc: 0.7500\n",
            "Epoch 42/50\n",
            "8/8 [==============================] - 2s 312ms/step - loss: 0.3435 - acc: 0.8375 - val_loss: 0.5186 - val_acc: 0.8500\n",
            "Epoch 43/50\n",
            "8/8 [==============================] - 2s 309ms/step - loss: 0.2425 - acc: 0.9375 - val_loss: 0.6572 - val_acc: 0.8000\n",
            "Epoch 44/50\n",
            "8/8 [==============================] - 3s 314ms/step - loss: 0.2324 - acc: 0.9000 - val_loss: 0.3436 - val_acc: 0.7500\n",
            "Epoch 45/50\n",
            "8/8 [==============================] - 2s 309ms/step - loss: 0.3020 - acc: 0.9000 - val_loss: 0.4696 - val_acc: 0.9500\n",
            "Epoch 46/50\n",
            "8/8 [==============================] - 2s 308ms/step - loss: 0.2611 - acc: 0.9375 - val_loss: 0.3615 - val_acc: 0.8000\n",
            "Epoch 47/50\n",
            "8/8 [==============================] - 3s 317ms/step - loss: 0.3645 - acc: 0.8500 - val_loss: 0.1498 - val_acc: 0.9000\n",
            "Epoch 48/50\n",
            "8/8 [==============================] - 2s 310ms/step - loss: 0.2365 - acc: 0.9250 - val_loss: 0.4975 - val_acc: 0.7000\n",
            "Epoch 49/50\n",
            "8/8 [==============================] - 3s 313ms/step - loss: 0.2427 - acc: 0.9000 - val_loss: 0.3389 - val_acc: 0.8500\n",
            "Epoch 50/50\n",
            "8/8 [==============================] - 3s 316ms/step - loss: 0.2539 - acc: 0.8875 - val_loss: 0.5189 - val_acc: 0.8000\n"
          ],
          "name": "stdout"
        },
        {
          "output_type": "execute_result",
          "data": {
            "text/plain": [
              "<keras.callbacks.callbacks.History at 0x7ff01cafbb38>"
            ]
          },
          "metadata": {
            "tags": []
          },
          "execution_count": 14
        }
      ]
    },
    {
      "cell_type": "code",
      "metadata": {
        "id": "_FqGIHmMpBRV",
        "colab_type": "code",
        "outputId": "885158f9-58ee-416d-f3b9-df0a457b9cfb",
        "colab": {
          "base_uri": "https://localhost:8080/",
          "height": 228
        }
      },
      "source": [
        "folder_path = base_dir + 'Testbilder'\n",
        "images = []\n",
        "for img in os.listdir(folder_path):\n",
        "    img = os.path.join(folder_path, img)\n",
        "    img = image.load_img(img, target_size=(299, 299))\n",
        "    img = image.img_to_array(img)\n",
        "    img = np.expand_dims(img, axis=0)\n",
        "    images.append(img)\n",
        "\n",
        "# stack up images list to pass for prediction\n",
        "images = np.vstack(images)\n",
        "classes = model.predict_classes(images, batch_size=10)\n",
        "print(classes)"
      ],
      "execution_count": 0,
      "outputs": [
        {
          "output_type": "error",
          "ename": "NameError",
          "evalue": "ignored",
          "traceback": [
            "\u001b[0;31m---------------------------------------------------------------------------\u001b[0m",
            "\u001b[0;31mNameError\u001b[0m                                 Traceback (most recent call last)",
            "\u001b[0;32m<ipython-input-17-7c02a7919ded>\u001b[0m in \u001b[0;36m<module>\u001b[0;34m()\u001b[0m\n\u001b[1;32m      3\u001b[0m \u001b[0;32mfor\u001b[0m \u001b[0mimg\u001b[0m \u001b[0;32min\u001b[0m \u001b[0mos\u001b[0m\u001b[0;34m.\u001b[0m\u001b[0mlistdir\u001b[0m\u001b[0;34m(\u001b[0m\u001b[0mfolder_path\u001b[0m\u001b[0;34m)\u001b[0m\u001b[0;34m:\u001b[0m\u001b[0;34m\u001b[0m\u001b[0;34m\u001b[0m\u001b[0m\n\u001b[1;32m      4\u001b[0m     \u001b[0mimg\u001b[0m \u001b[0;34m=\u001b[0m \u001b[0mos\u001b[0m\u001b[0;34m.\u001b[0m\u001b[0mpath\u001b[0m\u001b[0;34m.\u001b[0m\u001b[0mjoin\u001b[0m\u001b[0;34m(\u001b[0m\u001b[0mfolder_path\u001b[0m\u001b[0;34m,\u001b[0m \u001b[0mimg\u001b[0m\u001b[0;34m)\u001b[0m\u001b[0;34m\u001b[0m\u001b[0;34m\u001b[0m\u001b[0m\n\u001b[0;32m----> 5\u001b[0;31m     \u001b[0mimg\u001b[0m \u001b[0;34m=\u001b[0m \u001b[0mimage\u001b[0m\u001b[0;34m.\u001b[0m\u001b[0mload_img\u001b[0m\u001b[0;34m(\u001b[0m\u001b[0mimg\u001b[0m\u001b[0;34m,\u001b[0m \u001b[0mtarget_size\u001b[0m\u001b[0;34m=\u001b[0m\u001b[0;34m(\u001b[0m\u001b[0mimg_width\u001b[0m\u001b[0;34m,\u001b[0m \u001b[0mimg_height\u001b[0m\u001b[0;34m)\u001b[0m\u001b[0;34m)\u001b[0m\u001b[0;34m\u001b[0m\u001b[0;34m\u001b[0m\u001b[0m\n\u001b[0m\u001b[1;32m      6\u001b[0m     \u001b[0mimg\u001b[0m \u001b[0;34m=\u001b[0m \u001b[0mimage\u001b[0m\u001b[0;34m.\u001b[0m\u001b[0mimg_to_array\u001b[0m\u001b[0;34m(\u001b[0m\u001b[0mimg\u001b[0m\u001b[0;34m)\u001b[0m\u001b[0;34m\u001b[0m\u001b[0;34m\u001b[0m\u001b[0m\n\u001b[1;32m      7\u001b[0m     \u001b[0mimg\u001b[0m \u001b[0;34m=\u001b[0m \u001b[0mnp\u001b[0m\u001b[0;34m.\u001b[0m\u001b[0mexpand_dims\u001b[0m\u001b[0;34m(\u001b[0m\u001b[0mimg\u001b[0m\u001b[0;34m,\u001b[0m \u001b[0maxis\u001b[0m\u001b[0;34m=\u001b[0m\u001b[0;36m0\u001b[0m\u001b[0;34m)\u001b[0m\u001b[0;34m\u001b[0m\u001b[0;34m\u001b[0m\u001b[0m\n",
            "\u001b[0;31mNameError\u001b[0m: name 'img_width' is not defined"
          ]
        }
      ]
    },
    {
      "cell_type": "code",
      "metadata": {
        "id": "5-aEC9xLsLlh",
        "colab_type": "code",
        "colab": {}
      },
      "source": [
        "testbild = base_dir + 'Testbilder/P1040695.JPG'\n",
        "testbild = image.load_img(testbild, target_size=(299,299))\n",
        "testbild = image.img_to_array(testbild)\n",
        "testbild = np.expand_dims(testbild, axis=0)\n",
        "predictions = model.predict(testbild)\n",
        "\n"
      ],
      "execution_count": 0,
      "outputs": []
    },
    {
      "cell_type": "code",
      "metadata": {
        "id": "4GNYS5ccvcIy",
        "colab_type": "code",
        "outputId": "b0efca5c-4b02-45c9-9a67-7fb3565ff61d",
        "colab": {
          "base_uri": "https://localhost:8080/",
          "height": 84
        }
      },
      "source": [
        "train_generator.classes\n",
        "\n"
      ],
      "execution_count": 0,
      "outputs": [
        {
          "output_type": "execute_result",
          "data": {
            "text/plain": [
              "array([0, 0, 0, 0, 0, 0, 0, 0, 0, 0, 0, 0, 0, 0, 0, 0, 1, 1, 1, 1, 1, 1,\n",
              "       1, 1, 1, 1, 1, 1, 1, 1, 1, 1, 2, 2, 2, 2, 2, 2, 2, 2, 2, 2, 2, 2,\n",
              "       2, 2, 2, 2, 3, 3, 3, 3, 3, 3, 3, 3, 3, 3, 3, 3, 3, 3, 3, 3, 4, 4,\n",
              "       4, 4, 4, 4, 4, 4, 4, 4, 4, 4, 4, 4, 4, 4], dtype=int32)"
            ]
          },
          "metadata": {
            "tags": []
          },
          "execution_count": 53
        }
      ]
    },
    {
      "cell_type": "code",
      "metadata": {
        "id": "gP6-TKWDy3V2",
        "colab_type": "code",
        "outputId": "78821336-ec13-4421-9819-9d7385312f20",
        "colab": {
          "base_uri": "https://localhost:8080/",
          "height": 33
        }
      },
      "source": [
        "# image folder\n",
        "folder_path = base_dir + 'Testbilder/'\n",
        "# path to model\n",
        "model_path = '/path/to/saved/model.h5'\n",
        "# dimensions of images\n",
        "img_width, img_height = 299, 299\n",
        "\n",
        "\n",
        "# load all images into a list\n",
        "images = []\n",
        "for img in os.listdir(folder_path):\n",
        "    img = os.path.join(folder_path, img)\n",
        "    img = image.load_img(img, target_size=(img_width, img_height))\n",
        "    img = image.img_to_array(img)\n",
        "    img = np.expand_dims(img, axis=0)\n",
        "    images.append(img)\n",
        "\n",
        "# stack up images list to pass for prediction\n",
        "images = np.vstack(images)\n",
        "classes = model.predict_classes(images, batch_size=20)\n",
        "print(classes)"
      ],
      "execution_count": 62,
      "outputs": [
        {
          "output_type": "stream",
          "text": [
            "[4 4 4 4 4 4 4 4 4 4 4 4 4 4 4 4 4 4 4 4 4 4 4 4 4]\n"
          ],
          "name": "stdout"
        }
      ]
    },
    {
      "cell_type": "code",
      "metadata": {
        "id": "UwUdaf6c0LXb",
        "colab_type": "code",
        "colab": {
          "base_uri": "https://localhost:8080/",
          "height": 195
        },
        "outputId": "7c97d5d8-68db-470e-f434-17635fbb5c8f"
      },
      "source": [
        "predict = model.predict_proba(testbild)\n",
        "np.argmax(predict)\n"
      ],
      "execution_count": 74,
      "outputs": [
        {
          "output_type": "error",
          "ename": "TypeError",
          "evalue": "ignored",
          "traceback": [
            "\u001b[0;31m---------------------------------------------------------------------------\u001b[0m",
            "\u001b[0;31mTypeError\u001b[0m                                 Traceback (most recent call last)",
            "\u001b[0;32m<ipython-input-74-0290d814049e>\u001b[0m in \u001b[0;36m<module>\u001b[0;34m()\u001b[0m\n\u001b[1;32m      2\u001b[0m \u001b[0mnp\u001b[0m\u001b[0;34m.\u001b[0m\u001b[0margmax\u001b[0m\u001b[0;34m(\u001b[0m\u001b[0mpredict\u001b[0m\u001b[0;34m)\u001b[0m\u001b[0;34m\u001b[0m\u001b[0;34m\u001b[0m\u001b[0m\n\u001b[1;32m      3\u001b[0m \u001b[0;34m\u001b[0m\u001b[0m\n\u001b[0;32m----> 4\u001b[0;31m \u001b[0mround\u001b[0m\u001b[0;34m(\u001b[0m\u001b[0mfloat\u001b[0m\u001b[0;34m(\u001b[0m\u001b[0mpredict\u001b[0m\u001b[0;34m[\u001b[0m\u001b[0;34m[\u001b[0m\u001b[0;36m0\u001b[0m\u001b[0;34m]\u001b[0m\u001b[0;34m]\u001b[0m\u001b[0;34m)\u001b[0m\u001b[0;34m,\u001b[0m\u001b[0;36m5\u001b[0m\u001b[0;34m)\u001b[0m\u001b[0;34m\u001b[0m\u001b[0;34m\u001b[0m\u001b[0m\n\u001b[0m",
            "\u001b[0;31mTypeError\u001b[0m: only size-1 arrays can be converted to Python scalars"
          ]
        }
      ]
    },
    {
      "cell_type": "code",
      "metadata": {
        "id": "KI6ILTUGlkUH",
        "colab_type": "code",
        "colab": {}
      },
      "source": [
        "model.save(\"/content/gdrive/My Drive/Keras Models/Xception_5-2.h5\")\n",
        "\n"
      ],
      "execution_count": 0,
      "outputs": []
    }
  ]
}